{
 "cells": [
  {
   "cell_type": "code",
   "execution_count": 60,
   "metadata": {
    "collapsed": true
   },
   "outputs": [],
   "source": [
    "import numpy as np\n",
    "import pandas as pd\n",
    "import pickle as pkl\n",
    "import matplotlib.pyplot as plt\n",
    "from scipy.stats import ttest_ind\n",
    "% matplotlib inline"
   ]
  },
  {
   "cell_type": "code",
   "execution_count": 2,
   "metadata": {
    "collapsed": true
   },
   "outputs": [],
   "source": [
    "path = \"../../../Google Drive/Data_science/NYU/Machine Learning/ML Project (Collisions)/\" #Joe\n",
    "#path = \"../../../../Google Drive/ML Project (Collisions)/\" # Joyce\n",
    "# path = \"\" # Lucas"
   ]
  },
  {
   "cell_type": "code",
   "execution_count": 45,
   "metadata": {
    "collapsed": true
   },
   "outputs": [],
   "source": [
    "collisions = pd.read_pickle(path+'collisions.pkl')"
   ]
  },
  {
   "cell_type": "code",
   "execution_count": 46,
   "metadata": {
    "collapsed": false,
    "scrolled": true
   },
   "outputs": [],
   "source": [
    "collisions['missing_latlong']= (pd.isnull(collisions.LATITUDE) | pd.isnull(collisions.LONGITUDE)).astype('int')"
   ]
  },
  {
   "cell_type": "code",
   "execution_count": 37,
   "metadata": {
    "collapsed": true
   },
   "outputs": [],
   "source": [
    "collisions_missing=collisions[collisions['missing_latlong']==1]\n",
    "collisions_not_missing=collisions[collisions['missing_latlong']==0]"
   ]
  },
  {
   "cell_type": "code",
   "execution_count": 42,
   "metadata": {
    "collapsed": false
   },
   "outputs": [
    {
     "name": "stdout",
     "output_type": "stream",
     "text": [
      "994499\n",
      "201648\n",
      "792851\n"
     ]
    }
   ],
   "source": [
    "print(len(collisions))\n",
    "print(len(collisions_missing))\n",
    "print(len(collisions_not_missing))"
   ]
  },
  {
   "cell_type": "code",
   "execution_count": 43,
   "metadata": {
    "collapsed": false
   },
   "outputs": [
    {
     "data": {
      "text/html": [
       "<div>\n",
       "<table border=\"1\" class=\"dataframe\">\n",
       "  <thead>\n",
       "    <tr style=\"text-align: right;\">\n",
       "      <th></th>\n",
       "      <th>ZIP CODE</th>\n",
       "      <th>LATITUDE</th>\n",
       "      <th>LONGITUDE</th>\n",
       "      <th>NUMBER OF PERSONS INJURED</th>\n",
       "      <th>NUMBER OF PERSONS KILLED</th>\n",
       "      <th>NUMBER OF PEDESTRIANS INJURED</th>\n",
       "      <th>NUMBER OF PEDESTRIANS KILLED</th>\n",
       "      <th>NUMBER OF CYCLIST INJURED</th>\n",
       "      <th>NUMBER OF CYCLIST KILLED</th>\n",
       "      <th>NUMBER OF MOTORIST INJURED</th>\n",
       "      <th>NUMBER OF MOTORIST KILLED</th>\n",
       "      <th>UNIQUE KEY</th>\n",
       "      <th>DAY_OF_WEEK</th>\n",
       "      <th>lat_bin</th>\n",
       "      <th>long_bin</th>\n",
       "      <th>missing_latlong</th>\n",
       "    </tr>\n",
       "  </thead>\n",
       "  <tbody>\n",
       "    <tr>\n",
       "      <th>count</th>\n",
       "      <td>29487.000000</td>\n",
       "      <td>0.0</td>\n",
       "      <td>0.0</td>\n",
       "      <td>201648.000000</td>\n",
       "      <td>201648.000000</td>\n",
       "      <td>201648.000000</td>\n",
       "      <td>201648.000000</td>\n",
       "      <td>201648.000000</td>\n",
       "      <td>201648.000000</td>\n",
       "      <td>201648.000000</td>\n",
       "      <td>201648.000000</td>\n",
       "      <td>2.016480e+05</td>\n",
       "      <td>201648.000000</td>\n",
       "      <td>0.0</td>\n",
       "      <td>0.0</td>\n",
       "      <td>201648.0</td>\n",
       "    </tr>\n",
       "    <tr>\n",
       "      <th>mean</th>\n",
       "      <td>10853.196426</td>\n",
       "      <td>NaN</td>\n",
       "      <td>NaN</td>\n",
       "      <td>0.255172</td>\n",
       "      <td>0.001374</td>\n",
       "      <td>0.046179</td>\n",
       "      <td>0.000779</td>\n",
       "      <td>0.020933</td>\n",
       "      <td>0.000084</td>\n",
       "      <td>0.231711</td>\n",
       "      <td>0.000516</td>\n",
       "      <td>2.509300e+06</td>\n",
       "      <td>2.913081</td>\n",
       "      <td>NaN</td>\n",
       "      <td>NaN</td>\n",
       "      <td>1.0</td>\n",
       "    </tr>\n",
       "    <tr>\n",
       "      <th>std</th>\n",
       "      <td>557.405147</td>\n",
       "      <td>NaN</td>\n",
       "      <td>NaN</td>\n",
       "      <td>0.668688</td>\n",
       "      <td>0.038353</td>\n",
       "      <td>0.259834</td>\n",
       "      <td>0.028421</td>\n",
       "      <td>0.173652</td>\n",
       "      <td>0.009181</td>\n",
       "      <td>0.794175</td>\n",
       "      <td>0.024389</td>\n",
       "      <td>1.381340e+06</td>\n",
       "      <td>1.936609</td>\n",
       "      <td>NaN</td>\n",
       "      <td>NaN</td>\n",
       "      <td>0.0</td>\n",
       "    </tr>\n",
       "    <tr>\n",
       "      <th>min</th>\n",
       "      <td>10000.000000</td>\n",
       "      <td>NaN</td>\n",
       "      <td>NaN</td>\n",
       "      <td>0.000000</td>\n",
       "      <td>0.000000</td>\n",
       "      <td>0.000000</td>\n",
       "      <td>0.000000</td>\n",
       "      <td>0.000000</td>\n",
       "      <td>0.000000</td>\n",
       "      <td>0.000000</td>\n",
       "      <td>0.000000</td>\n",
       "      <td>2.400000e+01</td>\n",
       "      <td>0.000000</td>\n",
       "      <td>NaN</td>\n",
       "      <td>NaN</td>\n",
       "      <td>1.0</td>\n",
       "    </tr>\n",
       "    <tr>\n",
       "      <th>25%</th>\n",
       "      <td>10309.000000</td>\n",
       "      <td>NaN</td>\n",
       "      <td>NaN</td>\n",
       "      <td>0.000000</td>\n",
       "      <td>0.000000</td>\n",
       "      <td>0.000000</td>\n",
       "      <td>0.000000</td>\n",
       "      <td>0.000000</td>\n",
       "      <td>0.000000</td>\n",
       "      <td>0.000000</td>\n",
       "      <td>0.000000</td>\n",
       "      <td>1.000064e+06</td>\n",
       "      <td>1.000000</td>\n",
       "      <td>NaN</td>\n",
       "      <td>NaN</td>\n",
       "      <td>1.0</td>\n",
       "    </tr>\n",
       "    <tr>\n",
       "      <th>50%</th>\n",
       "      <td>11207.000000</td>\n",
       "      <td>NaN</td>\n",
       "      <td>NaN</td>\n",
       "      <td>0.000000</td>\n",
       "      <td>0.000000</td>\n",
       "      <td>0.000000</td>\n",
       "      <td>0.000000</td>\n",
       "      <td>0.000000</td>\n",
       "      <td>0.000000</td>\n",
       "      <td>0.000000</td>\n",
       "      <td>0.000000</td>\n",
       "      <td>3.273556e+06</td>\n",
       "      <td>3.000000</td>\n",
       "      <td>NaN</td>\n",
       "      <td>NaN</td>\n",
       "      <td>1.0</td>\n",
       "    </tr>\n",
       "    <tr>\n",
       "      <th>75%</th>\n",
       "      <td>11355.000000</td>\n",
       "      <td>NaN</td>\n",
       "      <td>NaN</td>\n",
       "      <td>0.000000</td>\n",
       "      <td>0.000000</td>\n",
       "      <td>0.000000</td>\n",
       "      <td>0.000000</td>\n",
       "      <td>0.000000</td>\n",
       "      <td>0.000000</td>\n",
       "      <td>0.000000</td>\n",
       "      <td>0.000000</td>\n",
       "      <td>3.501677e+06</td>\n",
       "      <td>5.000000</td>\n",
       "      <td>NaN</td>\n",
       "      <td>NaN</td>\n",
       "      <td>1.0</td>\n",
       "    </tr>\n",
       "    <tr>\n",
       "      <th>max</th>\n",
       "      <td>11697.000000</td>\n",
       "      <td>NaN</td>\n",
       "      <td>NaN</td>\n",
       "      <td>16.000000</td>\n",
       "      <td>3.000000</td>\n",
       "      <td>8.000000</td>\n",
       "      <td>2.000000</td>\n",
       "      <td>5.000000</td>\n",
       "      <td>1.000000</td>\n",
       "      <td>32.000000</td>\n",
       "      <td>3.000000</td>\n",
       "      <td>3.631491e+06</td>\n",
       "      <td>6.000000</td>\n",
       "      <td>NaN</td>\n",
       "      <td>NaN</td>\n",
       "      <td>1.0</td>\n",
       "    </tr>\n",
       "  </tbody>\n",
       "</table>\n",
       "</div>"
      ],
      "text/plain": [
       "           ZIP CODE  LATITUDE  LONGITUDE  NUMBER OF PERSONS INJURED  \\\n",
       "count  29487.000000       0.0        0.0              201648.000000   \n",
       "mean   10853.196426       NaN        NaN                   0.255172   \n",
       "std      557.405147       NaN        NaN                   0.668688   \n",
       "min    10000.000000       NaN        NaN                   0.000000   \n",
       "25%    10309.000000       NaN        NaN                   0.000000   \n",
       "50%    11207.000000       NaN        NaN                   0.000000   \n",
       "75%    11355.000000       NaN        NaN                   0.000000   \n",
       "max    11697.000000       NaN        NaN                  16.000000   \n",
       "\n",
       "       NUMBER OF PERSONS KILLED  NUMBER OF PEDESTRIANS INJURED  \\\n",
       "count             201648.000000                  201648.000000   \n",
       "mean                   0.001374                       0.046179   \n",
       "std                    0.038353                       0.259834   \n",
       "min                    0.000000                       0.000000   \n",
       "25%                    0.000000                       0.000000   \n",
       "50%                    0.000000                       0.000000   \n",
       "75%                    0.000000                       0.000000   \n",
       "max                    3.000000                       8.000000   \n",
       "\n",
       "       NUMBER OF PEDESTRIANS KILLED  NUMBER OF CYCLIST INJURED  \\\n",
       "count                 201648.000000              201648.000000   \n",
       "mean                       0.000779                   0.020933   \n",
       "std                        0.028421                   0.173652   \n",
       "min                        0.000000                   0.000000   \n",
       "25%                        0.000000                   0.000000   \n",
       "50%                        0.000000                   0.000000   \n",
       "75%                        0.000000                   0.000000   \n",
       "max                        2.000000                   5.000000   \n",
       "\n",
       "       NUMBER OF CYCLIST KILLED  NUMBER OF MOTORIST INJURED  \\\n",
       "count             201648.000000               201648.000000   \n",
       "mean                   0.000084                    0.231711   \n",
       "std                    0.009181                    0.794175   \n",
       "min                    0.000000                    0.000000   \n",
       "25%                    0.000000                    0.000000   \n",
       "50%                    0.000000                    0.000000   \n",
       "75%                    0.000000                    0.000000   \n",
       "max                    1.000000                   32.000000   \n",
       "\n",
       "       NUMBER OF MOTORIST KILLED    UNIQUE KEY    DAY_OF_WEEK  lat_bin  \\\n",
       "count              201648.000000  2.016480e+05  201648.000000      0.0   \n",
       "mean                    0.000516  2.509300e+06       2.913081      NaN   \n",
       "std                     0.024389  1.381340e+06       1.936609      NaN   \n",
       "min                     0.000000  2.400000e+01       0.000000      NaN   \n",
       "25%                     0.000000  1.000064e+06       1.000000      NaN   \n",
       "50%                     0.000000  3.273556e+06       3.000000      NaN   \n",
       "75%                     0.000000  3.501677e+06       5.000000      NaN   \n",
       "max                     3.000000  3.631491e+06       6.000000      NaN   \n",
       "\n",
       "       long_bin  missing_latlong  \n",
       "count       0.0         201648.0  \n",
       "mean        NaN              1.0  \n",
       "std         NaN              0.0  \n",
       "min         NaN              1.0  \n",
       "25%         NaN              1.0  \n",
       "50%         NaN              1.0  \n",
       "75%         NaN              1.0  \n",
       "max         NaN              1.0  "
      ]
     },
     "execution_count": 43,
     "metadata": {},
     "output_type": "execute_result"
    }
   ],
   "source": [
    "collisions_missing.describe()"
   ]
  },
  {
   "cell_type": "code",
   "execution_count": 44,
   "metadata": {
    "collapsed": false
   },
   "outputs": [
    {
     "data": {
      "text/html": [
       "<div>\n",
       "<table border=\"1\" class=\"dataframe\">\n",
       "  <thead>\n",
       "    <tr style=\"text-align: right;\">\n",
       "      <th></th>\n",
       "      <th>ZIP CODE</th>\n",
       "      <th>LATITUDE</th>\n",
       "      <th>LONGITUDE</th>\n",
       "      <th>NUMBER OF PERSONS INJURED</th>\n",
       "      <th>NUMBER OF PERSONS KILLED</th>\n",
       "      <th>NUMBER OF PEDESTRIANS INJURED</th>\n",
       "      <th>NUMBER OF PEDESTRIANS KILLED</th>\n",
       "      <th>NUMBER OF CYCLIST INJURED</th>\n",
       "      <th>NUMBER OF CYCLIST KILLED</th>\n",
       "      <th>NUMBER OF MOTORIST INJURED</th>\n",
       "      <th>NUMBER OF MOTORIST KILLED</th>\n",
       "      <th>UNIQUE KEY</th>\n",
       "      <th>DAY_OF_WEEK</th>\n",
       "      <th>lat_bin</th>\n",
       "      <th>long_bin</th>\n",
       "      <th>missing_latlong</th>\n",
       "    </tr>\n",
       "  </thead>\n",
       "  <tbody>\n",
       "    <tr>\n",
       "      <th>count</th>\n",
       "      <td>702812.000000</td>\n",
       "      <td>792851.000000</td>\n",
       "      <td>792851.000000</td>\n",
       "      <td>792851.000000</td>\n",
       "      <td>792851.000000</td>\n",
       "      <td>792851.000000</td>\n",
       "      <td>792851.000000</td>\n",
       "      <td>792851.000000</td>\n",
       "      <td>792851.000000</td>\n",
       "      <td>792851.000000</td>\n",
       "      <td>792851.000000</td>\n",
       "      <td>7.928510e+05</td>\n",
       "      <td>792851.000000</td>\n",
       "      <td>792851.000000</td>\n",
       "      <td>792851.000000</td>\n",
       "      <td>792851.0</td>\n",
       "    </tr>\n",
       "    <tr>\n",
       "      <th>mean</th>\n",
       "      <td>10806.769766</td>\n",
       "      <td>40.721841</td>\n",
       "      <td>-73.922469</td>\n",
       "      <td>0.255096</td>\n",
       "      <td>0.001174</td>\n",
       "      <td>0.056653</td>\n",
       "      <td>0.000661</td>\n",
       "      <td>0.020899</td>\n",
       "      <td>0.000073</td>\n",
       "      <td>0.182612</td>\n",
       "      <td>0.000448</td>\n",
       "      <td>1.945638e+06</td>\n",
       "      <td>2.904204</td>\n",
       "      <td>40.720341</td>\n",
       "      <td>-73.923963</td>\n",
       "      <td>0.0</td>\n",
       "    </tr>\n",
       "    <tr>\n",
       "      <th>std</th>\n",
       "      <td>567.040581</td>\n",
       "      <td>0.232609</td>\n",
       "      <td>0.594150</td>\n",
       "      <td>0.651810</td>\n",
       "      <td>0.036181</td>\n",
       "      <td>0.248089</td>\n",
       "      <td>0.025895</td>\n",
       "      <td>0.145729</td>\n",
       "      <td>0.008553</td>\n",
       "      <td>0.634531</td>\n",
       "      <td>0.024265</td>\n",
       "      <td>1.528130e+06</td>\n",
       "      <td>1.944548</td>\n",
       "      <td>0.232602</td>\n",
       "      <td>0.594159</td>\n",
       "      <td>0.0</td>\n",
       "    </tr>\n",
       "    <tr>\n",
       "      <th>min</th>\n",
       "      <td>10000.000000</td>\n",
       "      <td>0.000000</td>\n",
       "      <td>-201.359990</td>\n",
       "      <td>0.000000</td>\n",
       "      <td>0.000000</td>\n",
       "      <td>0.000000</td>\n",
       "      <td>0.000000</td>\n",
       "      <td>0.000000</td>\n",
       "      <td>0.000000</td>\n",
       "      <td>0.000000</td>\n",
       "      <td>0.000000</td>\n",
       "      <td>2.200000e+01</td>\n",
       "      <td>0.000000</td>\n",
       "      <td>0.000000</td>\n",
       "      <td>-201.360000</td>\n",
       "      <td>0.0</td>\n",
       "    </tr>\n",
       "    <tr>\n",
       "      <th>25%</th>\n",
       "      <td>10075.000000</td>\n",
       "      <td>40.669061</td>\n",
       "      <td>-73.979227</td>\n",
       "      <td>0.000000</td>\n",
       "      <td>0.000000</td>\n",
       "      <td>0.000000</td>\n",
       "      <td>0.000000</td>\n",
       "      <td>0.000000</td>\n",
       "      <td>0.000000</td>\n",
       "      <td>0.000000</td>\n",
       "      <td>0.000000</td>\n",
       "      <td>2.216295e+05</td>\n",
       "      <td>1.000000</td>\n",
       "      <td>40.668000</td>\n",
       "      <td>-73.980000</td>\n",
       "      <td>0.0</td>\n",
       "    </tr>\n",
       "    <tr>\n",
       "      <th>50%</th>\n",
       "      <td>11204.000000</td>\n",
       "      <td>40.723423</td>\n",
       "      <td>-73.933811</td>\n",
       "      <td>0.000000</td>\n",
       "      <td>0.000000</td>\n",
       "      <td>0.000000</td>\n",
       "      <td>0.000000</td>\n",
       "      <td>0.000000</td>\n",
       "      <td>0.000000</td>\n",
       "      <td>0.000000</td>\n",
       "      <td>0.000000</td>\n",
       "      <td>3.033589e+06</td>\n",
       "      <td>3.000000</td>\n",
       "      <td>40.722000</td>\n",
       "      <td>-73.935000</td>\n",
       "      <td>0.0</td>\n",
       "    </tr>\n",
       "    <tr>\n",
       "      <th>75%</th>\n",
       "      <td>11236.000000</td>\n",
       "      <td>40.765771</td>\n",
       "      <td>-73.869760</td>\n",
       "      <td>0.000000</td>\n",
       "      <td>0.000000</td>\n",
       "      <td>0.000000</td>\n",
       "      <td>0.000000</td>\n",
       "      <td>0.000000</td>\n",
       "      <td>0.000000</td>\n",
       "      <td>0.000000</td>\n",
       "      <td>0.000000</td>\n",
       "      <td>3.342113e+06</td>\n",
       "      <td>5.000000</td>\n",
       "      <td>40.764000</td>\n",
       "      <td>-73.872000</td>\n",
       "      <td>0.0</td>\n",
       "    </tr>\n",
       "    <tr>\n",
       "      <th>max</th>\n",
       "      <td>11697.000000</td>\n",
       "      <td>40.912884</td>\n",
       "      <td>0.000000</td>\n",
       "      <td>43.000000</td>\n",
       "      <td>5.000000</td>\n",
       "      <td>15.000000</td>\n",
       "      <td>2.000000</td>\n",
       "      <td>6.000000</td>\n",
       "      <td>1.000000</td>\n",
       "      <td>43.000000</td>\n",
       "      <td>5.000000</td>\n",
       "      <td>3.631696e+06</td>\n",
       "      <td>6.000000</td>\n",
       "      <td>40.911000</td>\n",
       "      <td>0.000000</td>\n",
       "      <td>0.0</td>\n",
       "    </tr>\n",
       "  </tbody>\n",
       "</table>\n",
       "</div>"
      ],
      "text/plain": [
       "            ZIP CODE       LATITUDE      LONGITUDE  NUMBER OF PERSONS INJURED  \\\n",
       "count  702812.000000  792851.000000  792851.000000              792851.000000   \n",
       "mean    10806.769766      40.721841     -73.922469                   0.255096   \n",
       "std       567.040581       0.232609       0.594150                   0.651810   \n",
       "min     10000.000000       0.000000    -201.359990                   0.000000   \n",
       "25%     10075.000000      40.669061     -73.979227                   0.000000   \n",
       "50%     11204.000000      40.723423     -73.933811                   0.000000   \n",
       "75%     11236.000000      40.765771     -73.869760                   0.000000   \n",
       "max     11697.000000      40.912884       0.000000                  43.000000   \n",
       "\n",
       "       NUMBER OF PERSONS KILLED  NUMBER OF PEDESTRIANS INJURED  \\\n",
       "count             792851.000000                  792851.000000   \n",
       "mean                   0.001174                       0.056653   \n",
       "std                    0.036181                       0.248089   \n",
       "min                    0.000000                       0.000000   \n",
       "25%                    0.000000                       0.000000   \n",
       "50%                    0.000000                       0.000000   \n",
       "75%                    0.000000                       0.000000   \n",
       "max                    5.000000                      15.000000   \n",
       "\n",
       "       NUMBER OF PEDESTRIANS KILLED  NUMBER OF CYCLIST INJURED  \\\n",
       "count                 792851.000000              792851.000000   \n",
       "mean                       0.000661                   0.020899   \n",
       "std                        0.025895                   0.145729   \n",
       "min                        0.000000                   0.000000   \n",
       "25%                        0.000000                   0.000000   \n",
       "50%                        0.000000                   0.000000   \n",
       "75%                        0.000000                   0.000000   \n",
       "max                        2.000000                   6.000000   \n",
       "\n",
       "       NUMBER OF CYCLIST KILLED  NUMBER OF MOTORIST INJURED  \\\n",
       "count             792851.000000               792851.000000   \n",
       "mean                   0.000073                    0.182612   \n",
       "std                    0.008553                    0.634531   \n",
       "min                    0.000000                    0.000000   \n",
       "25%                    0.000000                    0.000000   \n",
       "50%                    0.000000                    0.000000   \n",
       "75%                    0.000000                    0.000000   \n",
       "max                    1.000000                   43.000000   \n",
       "\n",
       "       NUMBER OF MOTORIST KILLED    UNIQUE KEY    DAY_OF_WEEK        lat_bin  \\\n",
       "count              792851.000000  7.928510e+05  792851.000000  792851.000000   \n",
       "mean                    0.000448  1.945638e+06       2.904204      40.720341   \n",
       "std                     0.024265  1.528130e+06       1.944548       0.232602   \n",
       "min                     0.000000  2.200000e+01       0.000000       0.000000   \n",
       "25%                     0.000000  2.216295e+05       1.000000      40.668000   \n",
       "50%                     0.000000  3.033589e+06       3.000000      40.722000   \n",
       "75%                     0.000000  3.342113e+06       5.000000      40.764000   \n",
       "max                     5.000000  3.631696e+06       6.000000      40.911000   \n",
       "\n",
       "            long_bin  missing_latlong  \n",
       "count  792851.000000         792851.0  \n",
       "mean      -73.923963              0.0  \n",
       "std         0.594159              0.0  \n",
       "min      -201.360000              0.0  \n",
       "25%       -73.980000              0.0  \n",
       "50%       -73.935000              0.0  \n",
       "75%       -73.872000              0.0  \n",
       "max         0.000000              0.0  "
      ]
     },
     "execution_count": 44,
     "metadata": {},
     "output_type": "execute_result"
    }
   ],
   "source": [
    "collisions_not_missing.describe()"
   ]
  },
  {
   "cell_type": "code",
   "execution_count": 47,
   "metadata": {
    "collapsed": false
   },
   "outputs": [
    {
     "data": {
      "text/plain": [
       "Index(['DATE_TIME', 'BOROUGH', 'ZIP CODE', 'LATITUDE', 'LONGITUDE', 'LOCATION',\n",
       "       'ON STREET NAME', 'CROSS STREET NAME', 'OFF STREET NAME',\n",
       "       'NUMBER OF PERSONS INJURED', 'NUMBER OF PERSONS KILLED',\n",
       "       'NUMBER OF PEDESTRIANS INJURED', 'NUMBER OF PEDESTRIANS KILLED',\n",
       "       'NUMBER OF CYCLIST INJURED', 'NUMBER OF CYCLIST KILLED',\n",
       "       'NUMBER OF MOTORIST INJURED', 'NUMBER OF MOTORIST KILLED',\n",
       "       'CONTRIBUTING FACTOR VEHICLE 1', 'CONTRIBUTING FACTOR VEHICLE 2',\n",
       "       'CONTRIBUTING FACTOR VEHICLE 3', 'CONTRIBUTING FACTOR VEHICLE 4',\n",
       "       'CONTRIBUTING FACTOR VEHICLE 5', 'UNIQUE KEY', 'VEHICLE TYPE CODE 1',\n",
       "       'VEHICLE TYPE CODE 2', 'VEHICLE TYPE CODE 3', 'VEHICLE TYPE CODE 4',\n",
       "       'VEHICLE TYPE CODE 5', 'DAY_OF_WEEK', 'lat_bin', 'long_bin',\n",
       "       'missing_latlong'],\n",
       "      dtype='object')"
      ]
     },
     "execution_count": 47,
     "metadata": {},
     "output_type": "execute_result"
    }
   ],
   "source": [
    "collisions.columns"
   ]
  },
  {
   "cell_type": "code",
   "execution_count": 78,
   "metadata": {
    "collapsed": true
   },
   "outputs": [],
   "source": [
    "column_list = ['NUMBER OF PERSONS INJURED', 'NUMBER OF PERSONS KILLED',\n",
    "       'NUMBER OF PEDESTRIANS INJURED', 'NUMBER OF PEDESTRIANS KILLED',\n",
    "       'NUMBER OF CYCLIST INJURED', 'NUMBER OF CYCLIST KILLED',\n",
    "       'NUMBER OF MOTORIST INJURED', 'NUMBER OF MOTORIST KILLED','DAY_OF_WEEK']"
   ]
  },
  {
   "cell_type": "code",
   "execution_count": 79,
   "metadata": {
    "collapsed": false
   },
   "outputs": [
    {
     "name": "stdout",
     "output_type": "stream",
     "text": [
      "NUMBER OF PERSONS INJURED 0.963213669558 False\n",
      "NUMBER OF PERSONS KILLED 0.0349798613582 False\n",
      "NUMBER OF PEDESTRIANS INJURED 9.23190276076e-60 True\n",
      "NUMBER OF PEDESTRIANS KILLED 0.0911220937201 False\n",
      "NUMBER OF CYCLIST INJURED 0.936877659209 False\n",
      "NUMBER OF CYCLIST KILLED 0.621552295585 False\n",
      "NUMBER OF MOTORIST INJURED 4.80660431301e-146 True\n",
      "NUMBER OF MOTORIST KILLED 0.263128487417 False\n",
      "DAY_OF_WEEK 0.0662998912361 False\n"
     ]
    }
   ],
   "source": [
    "for column_name in column_list:\n",
    "    result = ttest_ind(collisions_missing[column_name],collisions_not_missing[column_name],equal_var=False)\n",
    "    print(column_name, result.pvalue, result.pvalue<(0.05/len(column_list)))"
   ]
  },
  {
   "cell_type": "code",
   "execution_count": 83,
   "metadata": {
    "collapsed": true
   },
   "outputs": [],
   "source": [
    "collisions['month']=collisions.DATE_TIME.dt.month\n",
    "collisions['year']=collisions.DATE_TIME.dt.year"
   ]
  },
  {
   "cell_type": "code",
   "execution_count": 89,
   "metadata": {
    "collapsed": false
   },
   "outputs": [],
   "source": [
    "missing_rates_by_month = collisions.groupby(['year','month'])['missing_latlong'].mean()\n",
    "collisions_by_month = collisions.groupby(['year','month'])['missing_latlong'].count()"
   ]
  },
  {
   "cell_type": "code",
   "execution_count": 92,
   "metadata": {
    "collapsed": false
   },
   "outputs": [
    {
     "data": {
      "text/plain": [
       "<matplotlib.axes._subplots.AxesSubplot at 0x1563f76d8>"
      ]
     },
     "execution_count": 92,
     "metadata": {},
     "output_type": "execute_result"
    },
    {
     "data": {
      "image/png": "[encoded data removed]",
      "text/plain": [
       "<matplotlib.figure.Figure at 0x1565a7908>"
      ]
     },
     "metadata": {},
     "output_type": "display_data"
    }
   ],
   "source": [
    "missing_rates_by_month.plot()"
   ]
  },
  {
   "cell_type": "code",
   "execution_count": 91,
   "metadata": {
    "collapsed": false
   },
   "outputs": [
    {
     "data": {
      "text/plain": [
       "<matplotlib.axes._subplots.AxesSubplot at 0x1563c2048>"
      ]
     },
     "execution_count": 91,
     "metadata": {},
     "output_type": "execute_result"
    },
    {
     "data": {
      "image/png": "[encoded data removed]",
      "text/plain": [
       "<matplotlib.figure.Figure at 0x1563d6c88>"
      ]
     },
     "metadata": {},
     "output_type": "display_data"
    }
   ],
   "source": [
    "collisions_by_month.plot()"
   ]
  },
  {
   "cell_type": "code",
   "execution_count": null,
   "metadata": {
    "collapsed": true
   },
   "outputs": [],
   "source": []
  }
 ],
 "metadata": {
  "kernelspec": {
   "display_name": "Python 3",
   "language": "python",
   "name": "python3"
  },
  "language_info": {
   "codemirror_mode": {
    "name": "ipython",
    "version": 3
   },
   "file_extension": ".py",
   "mimetype": "text/x-python",
   "name": "python",
   "nbconvert_exporter": "python",
   "pygments_lexer": "ipython3",
   "version": "3.5.2"
  }
 },
 "nbformat": 4,
 "nbformat_minor": 0
}
