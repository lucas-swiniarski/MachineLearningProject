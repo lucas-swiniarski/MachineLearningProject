{
 "cells": [
  {
   "cell_type": "code",
   "execution_count": 1,
   "metadata": {
    "collapsed": false
   },
   "outputs": [
    {
     "name": "stderr",
     "output_type": "stream",
     "text": [
      "/Users/Joe/anaconda2/envs/py35/lib/python3.5/site-packages/sklearn/utils/fixes.py:64: DeprecationWarning: inspect.getargspec() is deprecated, use inspect.signature() instead\n",
      "  if 'order' in inspect.getargspec(np.copy)[0]:\n"
     ]
    }
   ],
   "source": [
    "import numpy as np\n",
    "import pickle as pkl\n",
    "from sklearn import svm;\n",
    "from sklearn.metrics import roc_auc_score;\n",
    "% matplotlib inline"
   ]
  },
  {
   "cell_type": "code",
   "execution_count": 2,
   "metadata": {
    "collapsed": true
   },
   "outputs": [],
   "source": [
    "path = \"../../../Google Drive/Data_science/NYU/Machine Learning/ML Project (Collisions)/\" #Joe\n",
    "#path = \"../../../../Google Drive/ML Project (Collisions)/\" # Joyce\n",
    "# path = \"\" # Lucas"
   ]
  },
  {
   "cell_type": "code",
   "execution_count": 18,
   "metadata": {
    "collapsed": true
   },
   "outputs": [],
   "source": [
    "train_X = pkl.load(open(path+'normalized_1hot/train_X.pkl','rb'))\n",
    "train_y = pkl.load(open(path+'normalized_1hot/train_y.pkl','rb'))\n",
    "val_X = pkl.load(open(path+'normalized_1hot/val_X.pkl','rb'))\n",
    "val_y = pkl.load(open(path+'normalized_1hot/val_y.pkl','rb'))\n",
    "# test_X = pkl.load(open(path+'normalized_1hot/test_X.pkl','rb'))\n",
    "# test_y = pkl.load(open(path+'normalized_1hot/test_y.pkl','rb'))"
   ]
  },
  {
   "cell_type": "code",
   "execution_count": null,
   "metadata": {
    "collapsed": false
   },
   "outputs": [],
   "source": [
    "from sklearn.kernel_approximation import RBFSampler\n",
    "from sklearn.linear_model import SGDClassifier\n",
    "# rbf_feature = RBFSampler(gamma=1, random_state=1)\n",
    "# train_rbf = rbf_feature.fit_transform(train_X)\n",
    "clf = SGDClassifier(n_iter=1e5)\n",
    "clf.fit(train_X, train_y)"
   ]
  },
  {
   "cell_type": "code",
   "execution_count": null,
   "metadata": {
    "collapsed": false
   },
   "outputs": [],
   "source": [
    "# train_scores = clf.decision_function(train_rbf)\n",
    "# val_scores = clf.decision_function(rbf_feature.fit_transform(val_X))\n",
    "\n",
    "train_scores = clf.decision_function(train_X)\n",
    "val_scores = clf.decision_function(val_X)\n",
    "\n",
    "print(roc_auc_score(train_y,train_scores))\n",
    "print(roc_auc_score(val_y,val_scores))"
   ]
  },
  {
   "cell_type": "code",
   "execution_count": null,
   "metadata": {
    "collapsed": true
   },
   "outputs": [],
   "source": []
  }
 ],
 "metadata": {
  "kernelspec": {
   "display_name": "Python 3",
   "language": "python",
   "name": "python3"
  },
  "language_info": {
   "codemirror_mode": {
    "name": "ipython",
    "version": 3
   },
   "file_extension": ".py",
   "mimetype": "text/x-python",
   "name": "python",
   "nbconvert_exporter": "python",
   "pygments_lexer": "ipython3",
   "version": "3.5.2"
  }
 },
 "nbformat": 4,
 "nbformat_minor": 0
}
