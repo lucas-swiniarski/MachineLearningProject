{
 "cells": [
  {
   "cell_type": "code",
   "execution_count": 65,
   "metadata": {
    "collapsed": false,
    "scrolled": true
   },
   "outputs": [],
   "source": [
    "import numpy as np\n",
    "from shapely.geometry import Point\n",
    "import pandas as pds\n",
    "import geopandas as gpd\n",
    "from geopandas import GeoSeries, GeoDataFrame\n",
    "from shapely.geometry import Point\n",
    "import pandas as pd\n",
    "import sqlite3"
   ]
  },
  {
   "cell_type": "code",
   "execution_count": 54,
   "metadata": {
    "collapsed": false
   },
   "outputs": [],
   "source": [
    "lights = pd.read_csv('Lights.csv')\n",
    "collision = pd.read_csv('NYPD_Motor_Vehicle_Collisions.csv')"
   ]
  },
  {
   "cell_type": "code",
   "execution_count": 60,
   "metadata": {
    "collapsed": false
   },
   "outputs": [
    {
     "data": {
      "text/plain": [
       "((328121, 53), (792851, 29))"
      ]
     },
     "execution_count": 60,
     "metadata": {},
     "output_type": "execute_result"
    }
   ],
   "source": [
    "lights.shape, collision.shape"
   ]
  },
  {
   "cell_type": "code",
   "execution_count": 56,
   "metadata": {
    "collapsed": false
   },
   "outputs": [],
   "source": [
    "lights = lights.dropna(subset=['Latitude', 'Longitude'])\n",
    "collision = collision.dropna(subset=['LATITUDE', 'LONGITUDE'])"
   ]
  },
  {
   "cell_type": "markdown",
   "metadata": {},
   "source": [
    "# Remove unusable data from Lights"
   ]
  },
  {
   "cell_type": "code",
   "execution_count": 58,
   "metadata": {
    "collapsed": true
   },
   "outputs": [],
   "source": [
    "lights = lights[lights['Complaint Type'] == 'Street Light Condition']"
   ]
  },
  {
   "cell_type": "code",
   "execution_count": 59,
   "metadata": {
    "collapsed": false
   },
   "outputs": [],
   "source": [
    "descriptors_useful = ['Street Light Out', \n",
    "                      'Fixture/Luminaire Hanging', \n",
    "                      'Lamppost Knocked Down', \n",
    "                      'Fixture/Luminaire Damaged', \n",
    "                      'Lamppost Missing', \n",
    "                      'Lamppost Damaged',\n",
    "                      'Street Light Lamp Missing', \n",
    "                      'Fixture/Luminaire Missing', \n",
    "                      'Street Light Lamp Dim',\n",
    "                      'Flood Light Lamp Missing', \n",
    "                      'Wood Pole Knocked Down', \n",
    "                      'Wood Pole Leaning', \n",
    "                      'Wood Pole Missing']\n",
    "lights = lights[lights['Descriptor'].isin(descriptors_useful)]"
   ]
  },
  {
   "cell_type": "markdown",
   "metadata": {},
   "source": [
    "# Dates to DateTime"
   ]
  },
  {
   "cell_type": "code",
   "execution_count": 61,
   "metadata": {
    "collapsed": false
   },
   "outputs": [],
   "source": [
    "lights['CreatedDate'] = pd.to_datetime(lights['Created Date'], infer_datetime_format=True)\n",
    "lights['ClosedDate'] = pd.to_datetime(lights['Closed Date'], infer_datetime_format=True)\n",
    "collision['datetime'] = pd.to_datetime(collision['DATE'] + ' ' + collision['TIME'], infer_datetime_format=True)\n",
    "lights = lights.drop(['Created Date', 'Closed Date'], 1)"
   ]
  },
  {
   "cell_type": "markdown",
   "metadata": {
    "collapsed": false
   },
   "source": [
    "# Merging Lights and Collision"
   ]
  },
  {
   "cell_type": "code",
   "execution_count": 62,
   "metadata": {
    "collapsed": true
   },
   "outputs": [],
   "source": [
    "bin_size = 0.001\n",
    "binning = lambda x: round(x / bin_size) * bin_size\n",
    "lights['lat_bin'] = lights['Latitude'].apply(binning)\n",
    "lights['long_bin'] = lights['Longitude'].apply(binning)\n",
    "collision['lat_bin'] = collision['LATITUDE'].apply(binning)\n",
    "collision['long_bin'] = collision['LONGITUDE'].apply(binning)"
   ]
  },
  {
   "cell_type": "code",
   "execution_count": 73,
   "metadata": {
    "collapsed": false
   },
   "outputs": [],
   "source": [
    "lights['uniquekey'] = lights['Unique Key']\n",
    "collision['uniquekey'] = collision['UNIQUE KEY']"
   ]
  },
  {
   "cell_type": "code",
   "execution_count": 74,
   "metadata": {
    "collapsed": false
   },
   "outputs": [],
   "source": [
    "#Make the db in memory\n",
    "conn = sqlite3.connect(':memory:')\n",
    "conn.text_factory = str\n",
    "\n",
    "#write the tables\n",
    "collision.to_sql('collision', conn, index=False)\n",
    "lights.to_sql('lights', conn, index=False)"
   ]
  },
  {
   "cell_type": "code",
   "execution_count": 93,
   "metadata": {
    "collapsed": false
   },
   "outputs": [],
   "source": [
    "query = '''\n",
    "        select\n",
    "            collision.uniquekey, count(lights.uniquekey)\n",
    "        from\n",
    "            collision left join lights\n",
    "                on datetime between CreatedDate and ClosedDate \n",
    "                and collision.lat_bin = lights.lat_bin\n",
    "                and collision.long_bin = lights.long_bin\n",
    "        group by\n",
    "            collision.uniquekey\n",
    "        '''\n",
    "\n",
    "df = pd.read_sql_query(query, conn)"
   ]
  },
  {
   "cell_type": "code",
   "execution_count": 95,
   "metadata": {
    "collapsed": false
   },
   "outputs": [
    {
     "data": {
      "text/html": [
       "<div>\n",
       "<table border=\"1\" class=\"dataframe\">\n",
       "  <thead>\n",
       "    <tr style=\"text-align: right;\">\n",
       "      <th></th>\n",
       "      <th>uniquekey</th>\n",
       "      <th>count(lights.uniquekey)</th>\n",
       "    </tr>\n",
       "  </thead>\n",
       "  <tbody>\n",
       "    <tr>\n",
       "      <th>count</th>\n",
       "      <td>7.928510e+05</td>\n",
       "      <td>792851.000000</td>\n",
       "    </tr>\n",
       "    <tr>\n",
       "      <th>mean</th>\n",
       "      <td>1.945638e+06</td>\n",
       "      <td>0.049127</td>\n",
       "    </tr>\n",
       "    <tr>\n",
       "      <th>std</th>\n",
       "      <td>1.528130e+06</td>\n",
       "      <td>0.258530</td>\n",
       "    </tr>\n",
       "    <tr>\n",
       "      <th>min</th>\n",
       "      <td>2.200000e+01</td>\n",
       "      <td>0.000000</td>\n",
       "    </tr>\n",
       "    <tr>\n",
       "      <th>25%</th>\n",
       "      <td>2.216295e+05</td>\n",
       "      <td>0.000000</td>\n",
       "    </tr>\n",
       "    <tr>\n",
       "      <th>50%</th>\n",
       "      <td>3.033589e+06</td>\n",
       "      <td>0.000000</td>\n",
       "    </tr>\n",
       "    <tr>\n",
       "      <th>75%</th>\n",
       "      <td>3.342113e+06</td>\n",
       "      <td>0.000000</td>\n",
       "    </tr>\n",
       "    <tr>\n",
       "      <th>max</th>\n",
       "      <td>3.631696e+06</td>\n",
       "      <td>12.000000</td>\n",
       "    </tr>\n",
       "  </tbody>\n",
       "</table>\n",
       "</div>"
      ],
      "text/plain": [
       "          uniquekey  count(lights.uniquekey)\n",
       "count  7.928510e+05            792851.000000\n",
       "mean   1.945638e+06                 0.049127\n",
       "std    1.528130e+06                 0.258530\n",
       "min    2.200000e+01                 0.000000\n",
       "25%    2.216295e+05                 0.000000\n",
       "50%    3.033589e+06                 0.000000\n",
       "75%    3.342113e+06                 0.000000\n",
       "max    3.631696e+06                12.000000"
      ]
     },
     "execution_count": 95,
     "metadata": {},
     "output_type": "execute_result"
    }
   ],
   "source": [
    "df.describe()"
   ]
  },
  {
   "cell_type": "code",
   "execution_count": 97,
   "metadata": {
    "collapsed": false
   },
   "outputs": [
    {
     "data": {
      "text/plain": [
       "array(['Street Light Out', 'Fixture/Luminaire Damaged', 'Lamppost Missing',\n",
       "       'Lamppost Damaged', 'Street Light Lamp Missing',\n",
       "       'Fixture/Luminaire Hanging', 'Fixture/Luminaire Missing',\n",
       "       'Lamppost Knocked Down', 'Street Light Lamp Dim',\n",
       "       'Flood Light Lamp Missing', 'Wood Pole Knocked Down',\n",
       "       'Wood Pole Leaning', 'Wood Pole Missing'], dtype=object)"
      ]
     },
     "execution_count": 97,
     "metadata": {},
     "output_type": "execute_result"
    }
   ],
   "source": [
    "lights.Descriptor.unique()"
   ]
  },
  {
   "cell_type": "code",
   "execution_count": 99,
   "metadata": {
    "collapsed": false
   },
   "outputs": [],
   "source": [
    "df['Lights Complaints'] = df['count(lights.uniquekey)']\n",
    "df = df.drop('count(lights.uniquekey)', 1)"
   ]
  },
  {
   "cell_type": "code",
   "execution_count": null,
   "metadata": {
    "collapsed": true
   },
   "outputs": [],
   "source": [
    "df.to_pickle('SaveName')"
   ]
  }
 ],
 "metadata": {
  "kernelspec": {
   "display_name": "Python [py27]",
   "language": "python",
   "name": "Python [py27]"
  },
  "language_info": {
   "codemirror_mode": {
    "name": "ipython",
    "version": 2
   },
   "file_extension": ".py",
   "mimetype": "text/x-python",
   "name": "python",
   "nbconvert_exporter": "python",
   "pygments_lexer": "ipython2",
   "version": "2.7.12"
  }
 },
 "nbformat": 4,
 "nbformat_minor": 2
}
