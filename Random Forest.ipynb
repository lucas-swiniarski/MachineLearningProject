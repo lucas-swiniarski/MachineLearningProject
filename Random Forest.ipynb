{
 "cells": [
  {
   "cell_type": "code",
   "execution_count": 1,
   "metadata": {
    "collapsed": true
   },
   "outputs": [],
   "source": [
    "import numpy as np\n",
    "import pandas as pd\n",
    "import pickle\n",
    "from sklearn.ensemble import RandomForestClassifier\n",
    "import matplotlib.pyplot as plt\n",
    "from sklearn.model_selection import train_test_split\n",
    "import itertools\n",
    "from sklearn import metrics\n",
    "%matplotlib inline\n",
    "import datetime"
   ]
  },
  {
   "cell_type": "code",
   "execution_count": 2,
   "metadata": {
    "collapsed": true
   },
   "outputs": [],
   "source": [
    "#path = \"../../../Google Drive/Data_science/NYU/Machine Learning/ML Project (Collisions)/\" #Joe\n",
    "path = \"../../../../Google Drive/ML Project (Collisions)/\" # Joyce\n",
    "# path = \"\" # Lucas"
   ]
  },
  {
   "cell_type": "markdown",
   "metadata": {},
   "source": [
    "## Using H2O without 1 hot encoding"
   ]
  },
  {
   "cell_type": "code",
   "execution_count": 3,
   "metadata": {
    "collapsed": true
   },
   "outputs": [],
   "source": [
    "with open(path+\"collisions_no1hot.pkl\", 'rb') as infile:\n",
    "    df_no1hot = pickle.load(infile)"
   ]
  },
  {
   "cell_type": "code",
   "execution_count": 4,
   "metadata": {
    "collapsed": true
   },
   "outputs": [],
   "source": [
    "df_no1hot['year'] = pd.to_datetime(df_no1hot['date_time']).dt.year"
   ]
  },
  {
   "cell_type": "code",
   "execution_count": 5,
   "metadata": {
    "collapsed": false
   },
   "outputs": [],
   "source": [
    "df_no1hot = df_no1hot.sort_values('date_time')"
   ]
  },
  {
   "cell_type": "code",
   "execution_count": 6,
   "metadata": {
    "collapsed": false
   },
   "outputs": [],
   "source": [
    "view_date = pd.to_datetime(df_no1hot['date_time'])\n",
    "\n",
    "train_indices = (0, np.sum(view_date < datetime.date(2015,9,12))-1)\n",
    "val_indices = (train_indices[1]+1,\\\n",
    "               train_indices[1] + \\\n",
    "               np.sum((view_date >= datetime.date(2015,9,12)) & (view_date < datetime.date(2016,7,31))))\n",
    "test_indices = (val_indices[1]+1,\\\n",
    "               val_indices[1] + np.sum(view_date >= datetime.date(2016,7,31)))"
   ]
  },
  {
   "cell_type": "code",
   "execution_count": 7,
   "metadata": {
    "collapsed": true
   },
   "outputs": [],
   "source": [
    "df_no1hot.to_csv(path+\"no1hot.csv\")"
   ]
  },
  {
   "cell_type": "code",
   "execution_count": 8,
   "metadata": {
    "collapsed": true
   },
   "outputs": [],
   "source": [
    "import h2o\n",
    "from h2o.estimators.random_forest import H2ORandomForestEstimator"
   ]
  },
  {
   "cell_type": "code",
   "execution_count": 9,
   "metadata": {
    "collapsed": false
   },
   "outputs": [
    {
     "name": "stdout",
     "output_type": "stream",
     "text": [
      "Checking whether there is an H2O instance running at http://127.0.0.1:54321. connected.\n"
     ]
    },
    {
     "data": {
      "text/html": [
       "<div style=\"overflow:auto\"><table style=\"width:50%\"><tr><td>H2O cluster uptime:</td>\n",
       "<td>7 days 17 hours 35 mins</td></tr>\n",
       "<tr><td>H2O cluster version:</td>\n",
       "<td>3.10.4.3</td></tr>\n",
       "<tr><td>H2O cluster version age:</td>\n",
       "<td>18 days </td></tr>\n",
       "<tr><td>H2O cluster name:</td>\n",
       "<td>H2O_from_python_joycewu_aayuou</td></tr>\n",
       "<tr><td>H2O cluster total nodes:</td>\n",
       "<td>1</td></tr>\n",
       "<tr><td>H2O cluster free memory:</td>\n",
       "<td>3.043 Gb</td></tr>\n",
       "<tr><td>H2O cluster total cores:</td>\n",
       "<td>4</td></tr>\n",
       "<tr><td>H2O cluster allowed cores:</td>\n",
       "<td>4</td></tr>\n",
       "<tr><td>H2O cluster status:</td>\n",
       "<td>locked, healthy</td></tr>\n",
       "<tr><td>H2O connection url:</td>\n",
       "<td>http://127.0.0.1:54321</td></tr>\n",
       "<tr><td>H2O connection proxy:</td>\n",
       "<td>None</td></tr>\n",
       "<tr><td>H2O internal security:</td>\n",
       "<td>False</td></tr>\n",
       "<tr><td>Python version:</td>\n",
       "<td>3.5.2 final</td></tr></table></div>"
      ],
      "text/plain": [
       "--------------------------  ------------------------------\n",
       "H2O cluster uptime:         7 days 17 hours 35 mins\n",
       "H2O cluster version:        3.10.4.3\n",
       "H2O cluster version age:    18 days\n",
       "H2O cluster name:           H2O_from_python_joycewu_aayuou\n",
       "H2O cluster total nodes:    1\n",
       "H2O cluster free memory:    3.043 Gb\n",
       "H2O cluster total cores:    4\n",
       "H2O cluster allowed cores:  4\n",
       "H2O cluster status:         locked, healthy\n",
       "H2O connection url:         http://127.0.0.1:54321\n",
       "H2O connection proxy:\n",
       "H2O internal security:      False\n",
       "Python version:             3.5.2 final\n",
       "--------------------------  ------------------------------"
      ]
     },
     "metadata": {},
     "output_type": "display_data"
    }
   ],
   "source": [
    "h2o.init(ip=\"127.0.0.1\",max_mem_size_GB = 4)"
   ]
  },
  {
   "cell_type": "code",
   "execution_count": 10,
   "metadata": {
    "collapsed": false
   },
   "outputs": [
    {
     "name": "stdout",
     "output_type": "stream",
     "text": [
      "Connecting to H2O server at http://localhost:54321... successful.\n"
     ]
    },
    {
     "data": {
      "text/html": [
       "<div style=\"overflow:auto\"><table style=\"width:50%\"><tr><td>H2O cluster uptime:</td>\n",
       "<td>7 days 17 hours 35 mins</td></tr>\n",
       "<tr><td>H2O cluster version:</td>\n",
       "<td>3.10.4.3</td></tr>\n",
       "<tr><td>H2O cluster version age:</td>\n",
       "<td>18 days </td></tr>\n",
       "<tr><td>H2O cluster name:</td>\n",
       "<td>H2O_from_python_joycewu_aayuou</td></tr>\n",
       "<tr><td>H2O cluster total nodes:</td>\n",
       "<td>1</td></tr>\n",
       "<tr><td>H2O cluster free memory:</td>\n",
       "<td>3.043 Gb</td></tr>\n",
       "<tr><td>H2O cluster total cores:</td>\n",
       "<td>4</td></tr>\n",
       "<tr><td>H2O cluster allowed cores:</td>\n",
       "<td>4</td></tr>\n",
       "<tr><td>H2O cluster status:</td>\n",
       "<td>locked, healthy</td></tr>\n",
       "<tr><td>H2O connection url:</td>\n",
       "<td>http://localhost:54321</td></tr>\n",
       "<tr><td>H2O connection proxy:</td>\n",
       "<td>None</td></tr>\n",
       "<tr><td>H2O internal security:</td>\n",
       "<td>False</td></tr>\n",
       "<tr><td>Python version:</td>\n",
       "<td>3.5.2 final</td></tr></table></div>"
      ],
      "text/plain": [
       "--------------------------  ------------------------------\n",
       "H2O cluster uptime:         7 days 17 hours 35 mins\n",
       "H2O cluster version:        3.10.4.3\n",
       "H2O cluster version age:    18 days\n",
       "H2O cluster name:           H2O_from_python_joycewu_aayuou\n",
       "H2O cluster total nodes:    1\n",
       "H2O cluster free memory:    3.043 Gb\n",
       "H2O cluster total cores:    4\n",
       "H2O cluster allowed cores:  4\n",
       "H2O cluster status:         locked, healthy\n",
       "H2O connection url:         http://localhost:54321\n",
       "H2O connection proxy:\n",
       "H2O internal security:      False\n",
       "Python version:             3.5.2 final\n",
       "--------------------------  ------------------------------"
      ]
     },
     "metadata": {},
     "output_type": "display_data"
    },
    {
     "data": {
      "text/plain": [
       "<H2OConnection to http://localhost:54321, session _sid_9e11>"
      ]
     },
     "execution_count": 10,
     "metadata": {},
     "output_type": "execute_result"
    }
   ],
   "source": [
    "h2o.connect()"
   ]
  },
  {
   "cell_type": "code",
   "execution_count": 11,
   "metadata": {
    "collapsed": false,
    "scrolled": true
   },
   "outputs": [
    {
     "name": "stdout",
     "output_type": "stream",
     "text": [
      "Parse progress: |█████████████████████████████████████████████████████████| 100%\n"
     ]
    }
   ],
   "source": [
    "dataFrame = h2o.upload_file(path=path+\"no1hot.csv\", destination_frame=\"no1hot\")"
   ]
  },
  {
   "cell_type": "code",
   "execution_count": 12,
   "metadata": {
    "collapsed": false
   },
   "outputs": [],
   "source": [
    "dataFrame = dataFrame.drop(['vehicle_type_code_1_nan',\n",
    " 'vehicle_type_code_2_nan',\n",
    " 'vehicle_type_code_3_nan',\n",
    " 'vehicle_type_code_4_nan',\n",
    " 'vehicle_type_code_5_nan',\n",
    " 'borough_nan', 'injured', 'killed', 'C1'])"
   ]
  },
  {
   "cell_type": "code",
   "execution_count": 13,
   "metadata": {
    "collapsed": false
   },
   "outputs": [],
   "source": [
    "train_df = dataFrame[train_indices[0]:train_indices[1], :]\n",
    "val_df = dataFrame[val_indices[0]:val_indices[1], :]\n",
    "test_df = dataFrame[test_indices[0]:test_indices[1], :]"
   ]
  },
  {
   "cell_type": "code",
   "execution_count": 14,
   "metadata": {
    "collapsed": true
   },
   "outputs": [],
   "source": [
    "def score_confusion(confusion):\n",
    "    sensitivity = confusion[1][1]/float(np.sum(confusion[1]))\n",
    "    specificity = confusion[0][0]/float(np.sum(confusion[0]))\n",
    "    return sensitivity, specificity"
   ]
  },
  {
   "cell_type": "code",
   "execution_count": 138,
   "metadata": {
    "collapsed": true
   },
   "outputs": [],
   "source": [
    "grid_search = []"
   ]
  },
  {
   "cell_type": "code",
   "execution_count": null,
   "metadata": {
    "collapsed": false
   },
   "outputs": [],
   "source": [
    "n_trees = [50, 100, 200]\n",
    "max_depth = [10, 20, 50, 100]\n",
    "min_rows = [None, 10, 50, 100]\n",
    "\n",
    "for i in itertools.product(n_trees,max_depth,min_rows):\n",
    "    \n",
    "    if i not in [i[0] for i in grid_search]:\n",
    "    \n",
    "        rf = H2ORandomForestEstimator(\n",
    "        model_id = \"rf\",\n",
    "        ntrees=i[0],\n",
    "        max_depth = i[1],\n",
    "        min_rows = i[2],\n",
    "        stopping_rounds=2)\n",
    "\n",
    "        rf.train(train_df.drop('injured_or_killed').columns, 'injured_or_killed',\\\n",
    "                 training_frame=train_df, validation_frame=val_df)\n",
    "\n",
    "        results = [i,\\\n",
    "                    rf.auc(train=True),\\\n",
    "                    rf.auc(valid=True),\\\n",
    "                    score_confusion(rf.confusion_matrix(train=True).to_list()),\\\n",
    "                    score_confusion(rf.confusion_matrix(valid=True).to_list())]\n",
    "        print (\"%s finished!\" % (str(i)))\n",
    "        print (\"Train AUC: %s, Valid AUC: %s, Train S&S: %s, Valid S&S: %s\" % (results[1], results[2], results[3], results[4]))\n",
    "        \n",
    "        grid_search.append(results)   \n",
    "        "
   ]
  },
  {
   "cell_type": "code",
   "execution_count": null,
   "metadata": {
    "collapsed": false
   },
   "outputs": [],
   "source": [
    "results = pd.DataFrame(grid_search)\n",
    "results.to_csv(\"tmp.csv\")"
   ]
  },
  {
   "cell_type": "markdown",
   "metadata": {},
   "source": [
    "## Sklearn with 1 hot\n"
   ]
  },
  {
   "cell_type": "code",
   "execution_count": 19,
   "metadata": {
    "collapsed": true
   },
   "outputs": [],
   "source": [
    "with open(path+\"collisions_1hot.pkl\", 'rb') as infile:\n",
    "    df = pickle.load(infile)"
   ]
  },
  {
   "cell_type": "code",
   "execution_count": 20,
   "metadata": {
    "collapsed": false
   },
   "outputs": [],
   "source": [
    "df = df.drop(['injured', 'killed'], axis=1)"
   ]
  },
  {
   "cell_type": "code",
   "execution_count": 21,
   "metadata": {
    "collapsed": true
   },
   "outputs": [],
   "source": [
    "X_train = df.drop(['injured_or_killed'], axis=1).iloc[train_indices[0]:train_indices[1]]\n",
    "y_train = df['injured_or_killed'].iloc[train_indices[0]:train_indices[1]]\n",
    "X_val = df.drop(['injured_or_killed'], axis=1).iloc[val_indices[0]:val_indices[1]]\n",
    "y_val = df['injured_or_killed'][val_indices[0]:val_indices[1]]\n",
    "X_test = df.drop(['injured_or_killed'], axis=1).iloc[test_indices[0]:test_indices[1]]\n",
    "y_test = df['injured_or_killed'][test_indices[0]:test_indices[1]]"
   ]
  },
  {
   "cell_type": "code",
   "execution_count": 129,
   "metadata": {
    "collapsed": true
   },
   "outputs": [],
   "source": [
    "sk_grid_search = []"
   ]
  },
  {
   "cell_type": "code",
   "execution_count": 130,
   "metadata": {
    "collapsed": false
   },
   "outputs": [
    {
     "name": "stdout",
     "output_type": "stream",
     "text": [
      "(50, 10, 1) finished!\n",
      "Train AUC: 0.780920179153, Valid AUC: 0.797071573862, Train S&S: (0.14445252290242838, 0.99124363012244321), Valid S&S: (0.26375911941635738, 0.97897258659963871)\n",
      "(50, 10, 10) finished!\n",
      "Train AUC: 0.777092520121, Valid AUC: 0.795031194447, Train S&S: (0.12142891764819931, 0.99255299384245166), Valid S&S: (0.24254447715346217, 0.98099128112481349)\n",
      "(50, 10, 50) finished!\n",
      "Train AUC: 0.77606412147, Valid AUC: 0.795473997621, Train S&S: (0.097096602200571952, 0.99267464080968226), Valid S&S: (0.23009727377447844, 0.97933390935511744)\n",
      "(50, 10, 100) finished!\n",
      "Train AUC: 0.775082370918, Valid AUC: 0.79681601551, Train S&S: (0.11057147011778391, 0.98854306744992571), Valid S&S: (0.26763087162421606, 0.97058361479852329)\n",
      "(50, 20, 1) finished!\n",
      "Train AUC: 0.88977313977, Valid AUC: 0.800644453987, Train S&S: (0.37694731229702877, 0.99127459480501101), Valid S&S: (0.38739920645078713, 0.96313722409865687)\n",
      "(50, 20, 10) finished!\n",
      "Train AUC: 0.843372236973, Valid AUC: 0.803871131401, Train S&S: (0.30284523290194365, 0.98151187274400165), Valid S&S: (0.38682324331242801, 0.96317649831120888)\n",
      "(50, 20, 50) finished!\n",
      "Train AUC: 0.813805598223, Valid AUC: 0.802800749886, Train S&S: (0.24607629295720032, 0.98054975582136028), Valid S&S: (0.36695251503903747, 0.96483387008090493)\n",
      "(50, 20, 100) finished!\n",
      "Train AUC: 0.80196864309, Valid AUC: 0.802594397276, Train S&S: (0.25031263632397849, 0.97847733385236035), Valid S&S: (0.37623192115704596, 0.96302725630351116)\n",
      "(50, 50, 1) finished!\n",
      "Train AUC: 0.999997381101, Valid AUC: 0.789128270247, Train S&S: (0.98885172798216281, 0.99996240002831061), Valid S&S: (0.39427876615896584, 0.96112638441599241)\n",
      "(50, 50, 10) finished!\n",
      "Train AUC: 0.927613405626, Valid AUC: 0.802574604717, Train S&S: (0.34836895933304252, 0.98199182532380214), Valid S&S: (0.40007039549468831, 0.96063938418034722)\n",
      "(50, 50, 50) finished!\n",
      "Train AUC: 0.837624445907, Valid AUC: 0.803485698964, Train S&S: (0.28054868886626921, 0.97709055842593251), Valid S&S: (0.38739920645078713, 0.96191186866703327)\n",
      "(50, 50, 100) finished!\n",
      "Train AUC: 0.812899257985, Valid AUC: 0.803694505646, Train S&S: (0.26378750424119046, 0.9773603935168802), Valid S&S: (0.38416741328554971, 0.96254811091037629)\n",
      "(50, 100, 1) finished!\n",
      "Train AUC: 0.999998777714, Valid AUC: 0.788457781071, Train S&S: (0.99654888274926079, 0.9999712470804728), Valid S&S: (0.3959746576219122, 0.96132275547875268)\n",
      "(50, 100, 10) finished!\n",
      "Train AUC: 0.92748566761, Valid AUC: 0.802397224317, Train S&S: (0.35008482380883138, 0.98170871965461104), Valid S&S: (0.40243824395238703, 0.96042730343256622)\n",
      "(50, 100, 50) finished!\n",
      "Train AUC: 0.83812278111, Valid AUC: 0.804150497576, Train S&S: (0.28325335659929235, 0.9772741347582985), Valid S&S: (0.38675924740816586, 0.9624145785876993)\n",
      "(50, 100, 100) finished!\n",
      "Train AUC: 0.812377215515, Valid AUC: 0.803672129197, Train S&S: (0.24815084096747614, 0.97878919244107865), Valid S&S: (0.36893638807116347, 0.96367920823187492)\n",
      "(100, 10, 1) finished!\n",
      "Train AUC: 0.779866874867, Valid AUC: 0.79592731983, Train S&S: (0.16483931947069944, 0.99014217212824684), Valid S&S: (0.30263663125559964, 0.97569711727279873)\n",
      "(100, 10, 10) finished!\n",
      "Train AUC: 0.777633320916, Valid AUC: 0.795591191032, Train S&S: (0.099355339052881589, 0.99265915846839836), Valid S&S: (0.22376167925252785, 0.97997800644097088)\n",
      "(100, 10, 50) finished!\n",
      "Train AUC: 0.775331483287, Valid AUC: 0.795934583146, Train S&S: (0.096253211187048618, 0.99485765093070988), Valid S&S: (0.18885191347753744, 0.98712591312544185)\n",
      "(100, 10, 100) finished!\n",
      "Train AUC: 0.775500478236, Valid AUC: 0.796018626719, Train S&S: (0.097271096893025058, 0.99137191237879541), Valid S&S: (0.24523230513247152, 0.97573639148535074)\n",
      "(100, 20, 1) finished!\n",
      "Train AUC: 0.892481398276, Valid AUC: 0.804075520928, Train S&S: (0.38112549076632252, 0.98994974874371855), Valid S&S: (0.39802252655830028, 0.96147985232896083)\n",
      "(100, 20, 10) finished!\n",
      "Train AUC: 0.847725282846, Valid AUC: 0.804557010056, Train S&S: (0.28680141534583881, 0.9830977068440796), Valid S&S: (0.37879175732753106, 0.96400125677480164)\n",
      "(100, 20, 50) finished!\n",
      "Train AUC: 0.814362344007, Valid AUC: 0.804346207492, Train S&S: (0.25705007028258448, 0.97962302710736782), Valid S&S: (0.37562396006655574, 0.96383630508208307)\n",
      "(100, 20, 100) finished!\n",
      "Train AUC: 0.802067355648, Valid AUC: 0.802274744998, Train S&S: (0.23372594639135283, 0.98031088541298039), Valid S&S: (0.36436068091642138, 0.96435472468777006)\n",
      "(100, 50, 1) finished!\n",
      "Train AUC: 0.999999097895, Valid AUC: 0.795956864463, Train S&S: (0.99597692792399783, 0.9999712470804728), Valid S&S: (0.40439011903238192, 0.9610164166208468)\n",
      "(100, 50, 10) finished!\n",
      "Train AUC: 0.929826057456, Valid AUC: 0.804074748815, Train S&S: (0.34750618002035771, 0.98304904805718729), Valid S&S: (0.40029438115960581, 0.96129133610871098)\n",
      "(100, 50, 50) finished!\n",
      "Train AUC: 0.839402027384, Valid AUC: 0.804938335113, Train S&S: (0.2761475449566187, 0.97794872248566778), Valid S&S: (0.38762319211570462, 0.96218678815489744)\n",
      "(100, 50, 100) finished!\n",
      "Train AUC: 0.813191588253, Valid AUC: 0.804177784558, Train S&S: (0.24510687799912753, 0.97917182744709463), Valid S&S: (0.37018430820427495, 0.96343570811405232)\n",
      "(100, 100, 1) finished!\n",
      "Train AUC: 0.999999876402, Valid AUC: 0.79528648085, Train S&S: (0.99946682177306001, 0.99998230589567561), Valid S&S: (0.4021182644310764, 0.9614013039038567)\n",
      "(100, 100, 10) finished!\n",
      "Train AUC: 0.929978826184, Valid AUC: 0.803786546947, Train S&S: (0.35059861373660994, 0.98272613065326631), Valid S&S: (0.40144630743632409, 0.96133846516377341)\n",
      "(100, 100, 50) finished!\n",
      "Train AUC: 0.84008407253, Valid AUC: 0.805213180456, Train S&S: (0.27928844942077458, 0.97807700474201997), Valid S&S: (0.38407141942915651, 0.96262665933548031)\n",
      "(100, 100, 100) finished!\n",
      "Train AUC: 0.813971221238, Valid AUC: 0.804826768049, Train S&S: (0.24849983035238235, 0.97880246301932194), Valid S&S: (0.37476001535901704, 0.96331788547639619)\n",
      "(200, 10, 1) finished!\n",
      "Train AUC: 0.78063492747, Valid AUC: 0.796512684048, Train S&S: (0.13348843972662497, 0.99118391252034821), Valid S&S: (0.27572635351337516, 0.97615269813840233)\n",
      "(200, 10, 10) finished!\n",
      "Train AUC: 0.778505353859, Valid AUC: 0.79676431724, Train S&S: (0.11106587174640105, 0.99168598273055419), Valid S&S: (0.25559964162293614, 0.97685963396433906)\n",
      "(200, 10, 50) finished!\n",
      "Train AUC: 0.776494110643, Valid AUC: 0.796573206951, Train S&S: (0.10567592457951626, 0.99372744001698632), Valid S&S: (0.23784077819019583, 0.98228733013903069)\n",
      "(200, 10, 100) finished!\n",
      "Train AUC: 0.776437139225, Valid AUC: 0.797057439192, Train S&S: (0.09910329116378265, 0.99376061646259461), Valid S&S: (0.2156981953154998, 0.98342628230303986)\n",
      "(200, 20, 1) finished!\n",
      "Train AUC: 0.896423806075, Valid AUC: 0.804592003716, Train S&S: (0.36588628762541808, 0.99024170146507184), Valid S&S: (0.39111096889799052, 0.96257167543790745)\n",
      "(200, 20, 10) finished!\n",
      "Train AUC: 0.847813878027, Valid AUC: 0.80554199391, Train S&S: (0.30050894285298824, 0.98166890791988115), Valid S&S: (0.39018302828618967, 0.96261094965045946)\n",
      "(200, 20, 50) finished!\n",
      "Train AUC: 0.815052127053, Valid AUC: 0.805064554857, Train S&S: (0.26324463186466968, 0.97908114516243183), Valid S&S: (0.38176756687571994, 0.96318435315371931)\n",
      "(200, 20, 100) finished!\n",
      "Train AUC: 0.803108752156, Valid AUC: 0.803925174663, Train S&S: (0.23652755562018321, 0.9801162502654116), Valid S&S: (0.369224369640343, 0.96411907941245778)\n",
      "(200, 50, 1) finished!\n",
      "Train AUC: 0.999999261513, Valid AUC: 0.799391042728, Train S&S: (0.99792545198972415, 0.99997788236959451), Valid S&S: (0.40694995520286703, 0.96103998114837796)\n",
      "(200, 50, 10) finished!\n",
      "Train AUC: 0.930932230994, Valid AUC: 0.805693848711, Train S&S: (0.35004604721050847, 0.98234791917333142), Valid S&S: (0.40371816203762961, 0.96087502945565939)\n",
      "(200, 50, 50) finished!\n",
      "Train AUC: 0.84057721479, Valid AUC: 0.805899858117, Train S&S: (0.27706848916678783, 0.97781380494019388), Valid S&S: (0.38791117368488415, 0.96214751394234543)\n",
      "(200, 50, 100) finished!\n",
      "Train AUC: 0.814229161663, Valid AUC: 0.804932807543, Train S&S: (0.25132082788037419, 0.97866754547384815), Valid S&S: (0.37498400102393448, 0.96336501453145862)\n",
      "(200, 100, 1) finished!\n",
      "Train AUC: 0.999999522152, Valid AUC: 0.798641522682, Train S&S: (0.99958315156802868, 0.99998230589567561), Valid S&S: (0.40599001663893508, 0.96103212630586754)\n",
      "(200, 100, 10) finished!\n",
      "Train AUC: 0.930935721648, Valid AUC: 0.805606261512, Train S&S: (0.35090882652319327, 0.98223733102130373), Valid S&S: (0.40381415589402281, 0.96042730343256622)\n",
      "(200, 100, 50) finished!\n",
      "Train AUC: 0.840644666863, Valid AUC: 0.805596406389, Train S&S: (0.27696185352139985, 0.97804604005945217), Valid S&S: (0.38480737232817097, 0.9625873851229283)\n",
      "(200, 100, 100) finished!\n",
      "Train AUC: 0.814470729723, Valid AUC: 0.804693492469, Train S&S: (0.24934322136590567, 0.97896613348432304), Valid S&S: (0.37504799692819657, 0.96348283716911476)\n"
     ]
    }
   ],
   "source": [
    "n_trees = [50, 100, 200]\n",
    "max_depth = [10, 20, 50, 100]\n",
    "min_rows = [1, 10, 50, 100]\n",
    "\n",
    "for i in itertools.product(n_trees,max_depth,min_rows):\n",
    "    \n",
    "    rf = RandomForestClassifier(n_estimators=i[0], max_depth=i[1], min_samples_leaf=i[2])\n",
    "    rf.fit(X_train, y_train)\n",
    "    \n",
    "    #Train results\n",
    "    t_predictions = rf.predict(X_train)\n",
    "    t_predictions_prob = [i[1] for i in rf.predict_proba(X_train)]\n",
    "    t_auc = metrics.roc_auc_score(y_train, t_predictions_prob)\n",
    "    t_sens = y_train.astype(int).dot(t_predictions.astype(int))/np.sum(y_train)\n",
    "    t_spec = (y_train == 0).astype(int).dot((t_predictions==0).astype(int))/np.sum((y_train == 0))\n",
    "    \n",
    "    #Val results\n",
    "    v_predictions = rf.predict(X_val)\n",
    "    v_predictions_prob = [i[1] for i in rf.predict_proba(X_val)]\n",
    "    v_auc = metrics.roc_auc_score(y_val, v_predictions_prob)\n",
    "    v_sens = y_val.astype(int).dot(v_predictions.astype(int))/np.sum(y_val)\n",
    "    v_spec = (y_val == 0).astype(int).dot((v_predictions==0).astype(int))/np.sum((y_val == 0))\n",
    "    \n",
    "    results = [i,\\\n",
    "                t_auc,\\\n",
    "                v_auc,\\\n",
    "                (t_sens, t_spec),\\\n",
    "                (v_sens, v_spec)]\n",
    "    \n",
    "    \n",
    "    print (\"%s finished!\" % (str(i)))\n",
    "    print (\"Train AUC: %s, Valid AUC: %s, Train S&S: %s, Valid S&S: %s\" %\\\n",
    "           (results[1], results[2], results[3], results[4]))\n",
    "    \n",
    "    sk_grid_search.append(results)"
   ]
  },
  {
   "cell_type": "code",
   "execution_count": 132,
   "metadata": {
    "collapsed": true
   },
   "outputs": [],
   "source": [
    "results = pd.DataFrame(sk_grid_search)\n",
    "results.to_csv(\"tmp.csv\")"
   ]
  },
  {
   "cell_type": "code",
   "execution_count": 17,
   "metadata": {
    "collapsed": false
   },
   "outputs": [
    {
     "name": "stdout",
     "output_type": "stream",
     "text": [
      "drf Model Build progress: |███████████████████████████████████████████████| 100%\n"
     ]
    }
   ],
   "source": [
    "rf = H2ORandomForestEstimator(\n",
    "model_id = \"rf\",\n",
    "ntrees=200,\n",
    "max_depth = 50,\n",
    "min_rows = 50,\n",
    "stopping_rounds=2)\n",
    "\n",
    "rf.train(train_df.drop('injured_or_killed').columns, 'injured_or_killed',\\\n",
    "         training_frame=train_df, validation_frame=val_df)"
   ]
  },
  {
   "cell_type": "code",
   "execution_count": 18,
   "metadata": {
    "collapsed": false
   },
   "outputs": [
    {
     "data": {
      "image/png": "[encoded data removed]",
      "text/plain": [
       "<matplotlib.figure.Figure at 0x112f4cfd0>"
      ]
     },
     "metadata": {},
     "output_type": "display_data"
    }
   ],
   "source": [
    "fig = plt.figure(figsize=(14, 10))\n",
    "\n",
    "num_features = 30\n",
    "\n",
    "y_pos = np.arange(num_features)\n",
    "\n",
    "plt.bar(y_pos, rf.varimp(True)['percentage'][:num_features])\n",
    "plt.xticks(y_pos, rf.varimp(True)['variable'][:num_features])\n",
    "fig.autofmt_xdate()"
   ]
  },
  {
   "cell_type": "code",
   "execution_count": 22,
   "metadata": {
    "collapsed": false
   },
   "outputs": [
    {
     "data": {
      "text/plain": [
       "RandomForestClassifier(bootstrap=True, class_weight=None, criterion='gini',\n",
       "            max_depth=50, max_features='auto', max_leaf_nodes=None,\n",
       "            min_impurity_split=1e-07, min_samples_leaf=50,\n",
       "            min_samples_split=2, min_weight_fraction_leaf=0.0,\n",
       "            n_estimators=200, n_jobs=1, oob_score=False, random_state=None,\n",
       "            verbose=0, warm_start=False)"
      ]
     },
     "execution_count": 22,
     "metadata": {},
     "output_type": "execute_result"
    }
   ],
   "source": [
    "rf = RandomForestClassifier(n_estimators=200, max_depth=50, min_samples_leaf=50)\n",
    "rf.fit(X_train, y_train)"
   ]
  },
  {
   "cell_type": "code",
   "execution_count": 23,
   "metadata": {
    "collapsed": false
   },
   "outputs": [
    {
     "data": {
      "image/png": "[encoded data removed]",
      "text/plain": [
       "<matplotlib.figure.Figure at 0x112c4b9b0>"
      ]
     },
     "metadata": {},
     "output_type": "display_data"
    }
   ],
   "source": [
    "fig = plt.figure(figsize=(14, 10))\n",
    "\n",
    "num_features = 30\n",
    "\n",
    "y_pos = np.arange(num_features)\n",
    "importances = np.vstack((rf.feature_importances_, X_train.columns.values)).T\n",
    "topX = importances[importances[:,0].argsort()][::-1][:num_features]\n",
    "\n",
    "plt.bar(y_pos, topX[:, 0])\n",
    "plt.xticks(y_pos, topX[:, 1])\n",
    "fig.autofmt_xdate()"
   ]
  },
  {
   "cell_type": "code",
   "execution_count": null,
   "metadata": {
    "collapsed": true
   },
   "outputs": [],
   "source": []
  }
 ],
 "metadata": {
  "anaconda-cloud": {},
  "kernelspec": {
   "display_name": "Python [py35]",
   "language": "python",
   "name": "Python [py35]"
  },
  "language_info": {
   "codemirror_mode": {
    "name": "ipython",
    "version": 3
   },
   "file_extension": ".py",
   "mimetype": "text/x-python",
   "name": "python",
   "nbconvert_exporter": "python",
   "pygments_lexer": "ipython3",
   "version": "3.5.2"
  }
 },
 "nbformat": 4,
 "nbformat_minor": 0
}
