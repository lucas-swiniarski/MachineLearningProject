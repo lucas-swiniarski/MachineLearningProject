{
 "cells": [
  {
   "cell_type": "code",
   "execution_count": 1,
   "metadata": {
    "collapsed": true
   },
   "outputs": [],
   "source": [
    "import numpy as np\n",
    "import pandas as pd\n",
    "import pickle\n",
    "from sklearn.ensemble import RandomForestClassifier\n",
    "import matplotlib.pyplot as plt\n",
    "from sklearn.model_selection import train_test_split\n",
    "import itertools\n",
    "from sklearn import metrics\n",
    "%matplotlib inline\n",
    "import datetime"
   ]
  },
  {
   "cell_type": "code",
   "execution_count": 2,
   "metadata": {
    "collapsed": true
   },
   "outputs": [],
   "source": [
    "#path = \"../../../Google Drive/Data_science/NYU/Machine Learning/ML Project (Collisions)/\" #Joe\n",
    "path = \"../../../../Google Drive/ML Project (Collisions)/\" # Joyce\n",
    "# path = \"\" # Lucas"
   ]
  },
  {
   "cell_type": "code",
   "execution_count": null,
   "metadata": {
    "collapsed": true
   },
   "outputs": [],
   "source": [
    "with open(path+\"collisions_1hot.pkl\", 'rb') as infile:\n",
    "    df = pickle.load(infile)"
   ]
  },
  {
   "cell_type": "code",
   "execution_count": null,
   "metadata": {
    "collapsed": true
   },
   "outputs": [],
   "source": [
    "df = df.sort_values(by=['date_time'])"
   ]
  },
  {
   "cell_type": "code",
   "execution_count": null,
   "metadata": {
    "collapsed": false
   },
   "outputs": [],
   "source": [
    "for column in ['date_time', 'rise_time', 'set_time']:\n",
    "    df[column] = pd.to_datetime(df[column])\n",
    "    df[column] = df[column].dt.hour*60 + df[column].dt.minute\n",
    "    \n",
    "    if np.sum(df[column].isnull()) > 0:\n",
    "        df[column+'_nan'] = df[column].isnull()\n",
    "        df[column].fillna(df[column].mean(), inplace=True)"
   ]
  },
  {
   "cell_type": "code",
   "execution_count": null,
   "metadata": {
    "collapsed": false
   },
   "outputs": [],
   "source": [
    "df = df.drop(['injured', 'killed'], axis=1)"
   ]
  },
  {
   "cell_type": "code",
   "execution_count": null,
   "metadata": {
    "collapsed": true
   },
   "outputs": [],
   "source": [
    "train_size = int(np.floor(0.7*df.shape[0]))"
   ]
  },
  {
   "cell_type": "code",
   "execution_count": null,
   "metadata": {
    "collapsed": false
   },
   "outputs": [],
   "source": [
    "small = df[df.date_time.dt.date > datetime.date(2015, 9, 12)]"
   ]
  },
  {
   "cell_type": "code",
   "execution_count": null,
   "metadata": {
    "collapsed": false,
    "scrolled": false
   },
   "outputs": [],
   "source": [
    "valsize = int(np.floor(2/3*small.shape[0]))"
   ]
  },
  {
   "cell_type": "code",
   "execution_count": null,
   "metadata": {
    "collapsed": false
   },
   "outputs": [],
   "source": [
    "valsize"
   ]
  },
  {
   "cell_type": "code",
   "execution_count": null,
   "metadata": {
    "collapsed": false
   },
   "outputs": [],
   "source": [
    "small.iloc[:valsize]"
   ]
  },
  {
   "cell_type": "code",
   "execution_count": null,
   "metadata": {
    "collapsed": false,
    "scrolled": true
   },
   "outputs": [],
   "source": [
    "X_train = df.drop(['injured_or_killed'], axis=1).iloc[:train_size]\n",
    "y_train = df['injured_or_killed'].iloc[:train_size]\n",
    "X_test = df.drop(['injured_or_killed'], axis=1).iloc[train_size:]\n",
    "y_test = df['injured_or_killed'][train_size:]"
   ]
  },
  {
   "cell_type": "code",
   "execution_count": null,
   "metadata": {
    "collapsed": true
   },
   "outputs": [],
   "source": [
    "rf = RandomForestClassifier(n_estimators=50, max_depth=20, min_samples_leaf=10)"
   ]
  },
  {
   "cell_type": "code",
   "execution_count": null,
   "metadata": {
    "collapsed": false,
    "scrolled": true
   },
   "outputs": [],
   "source": [
    "rf.fit(X_train, y_train)"
   ]
  },
  {
   "cell_type": "code",
   "execution_count": null,
   "metadata": {
    "collapsed": false
   },
   "outputs": [],
   "source": [
    "100 - np.sum(y_test)/len(y_test) * 100"
   ]
  },
  {
   "cell_type": "code",
   "execution_count": null,
   "metadata": {
    "collapsed": false
   },
   "outputs": [],
   "source": [
    "rf.score(X_test, y_test)*100"
   ]
  },
  {
   "cell_type": "code",
   "execution_count": null,
   "metadata": {
    "collapsed": false
   },
   "outputs": [],
   "source": [
    "np.sum(predictions)"
   ]
  },
  {
   "cell_type": "code",
   "execution_count": null,
   "metadata": {
    "collapsed": false
   },
   "outputs": [],
   "source": [
    "predictions = rf.predict(X_train)\n",
    "auc = metrics.roc_auc_score(y_train, predictions)\n",
    "sensitivity = y_train.astype(int).dot(predictions.astype(int))/np.sum(y_train)*100\n",
    "specificity = (y_train == 0).astype(int).dot((predictions==0).astype(int))/np.sum((y_train == 0))*100\n",
    "\n",
    "\n",
    "print (\"Train AUC: %s, Sensitivity: %s, Specificity: %s, Score: %s\" % (auc, sensitivity,\\\n",
    "                                                                      specificity,\\\n",
    "                                                                      (10*sensitivity+specificity)/11))"
   ]
  },
  {
   "cell_type": "code",
   "execution_count": null,
   "metadata": {
    "collapsed": false
   },
   "outputs": [],
   "source": [
    "predictions = rf.predict(X_test)\n",
    "auc = metrics.roc_auc_score(y_test, predictions)\n",
    "sensitivity = y_test.astype(int).dot(predictions.astype(int))/np.sum(y_test)*100\n",
    "specificity = (y_test == 0).astype(int).dot((predictions==0).astype(int))/np.sum((y_test == 0))*100\n",
    "\n",
    "\n",
    "print (\"Test AUC: %s, Sensitivity: %s, Specificity: %s, Score: %s\" % (auc, sensitivity,\\\n",
    "                                                                      specificity,\\\n",
    "                                                                      (10*sensitivity+specificity)/11))\n"
   ]
  },
  {
   "cell_type": "code",
   "execution_count": null,
   "metadata": {
    "collapsed": false,
    "scrolled": true
   },
   "outputs": [],
   "source": [
    "fig = plt.figure(figsize=(14, 10))\n",
    "\n",
    "num_features = 30\n",
    "\n",
    "y_pos = np.arange(num_features)\n",
    "importances = np.vstack((rf.feature_importances_, X_train.columns.values)).T\n",
    "topX = importances[importances[:,0].argsort()][::-1][:num_features]\n",
    "\n",
    "plt.bar(y_pos, topX[:, 0])\n",
    "plt.xticks(y_pos, topX[:, 1])\n",
    "fig.autofmt_xdate()"
   ]
  },
  {
   "cell_type": "markdown",
   "metadata": {},
   "source": [
    "## Using H2O without 1 hot encoding"
   ]
  },
  {
   "cell_type": "code",
   "execution_count": 31,
   "metadata": {
    "collapsed": true
   },
   "outputs": [],
   "source": [
    "with open(path+\"collisions_no1hot.pkl\", 'rb') as infile:\n",
    "    df_no1hot = pickle.load(infile)"
   ]
  },
  {
   "cell_type": "code",
   "execution_count": 32,
   "metadata": {
    "collapsed": true
   },
   "outputs": [],
   "source": [
    "df_no1hot['year'] = pd.to_datetime(df_no1hot['date_time']).dt.year"
   ]
  },
  {
   "cell_type": "code",
   "execution_count": 39,
   "metadata": {
    "collapsed": false
   },
   "outputs": [],
   "source": [
    "df_no1hot = df_no1hot.sort_values('date_time')"
   ]
  },
  {
   "cell_type": "code",
   "execution_count": 47,
   "metadata": {
    "collapsed": false
   },
   "outputs": [],
   "source": [
    "view_date = pd.to_datetime(df_no1hot['date_time'])\n",
    "\n",
    "train_indices = (0, np.sum(view_date < datetime.date(2015,9,12))-1)\n",
    "val_indices = (train_indices[1]+1,\\\n",
    "               train_indices[1] + \\\n",
    "               np.sum((view_date >= datetime.date(2015,9,12)) & (view_date < datetime.date(2016,7,31))))\n",
    "test_indices = (val_indices[1]+1,\\\n",
    "               val_indices[1] + np.sum(view_date >= datetime.date(2016,7,31)))"
   ]
  },
  {
   "cell_type": "code",
   "execution_count": 54,
   "metadata": {
    "collapsed": true
   },
   "outputs": [],
   "source": [
    "df_no1hot.to_csv(path+\"no1hot.csv\")"
   ]
  },
  {
   "cell_type": "code",
   "execution_count": 5,
   "metadata": {
    "collapsed": true
   },
   "outputs": [],
   "source": [
    "import h2o\n",
    "from h2o.estimators.random_forest import H2ORandomForestEstimator"
   ]
  },
  {
   "cell_type": "code",
   "execution_count": 6,
   "metadata": {
    "collapsed": false
   },
   "outputs": [
    {
     "name": "stdout",
     "output_type": "stream",
     "text": [
      "Checking whether there is an H2O instance running at http://127.0.0.1:54321. connected.\n"
     ]
    },
    {
     "data": {
      "text/html": [
       "<div style=\"overflow:auto\"><table style=\"width:50%\"><tr><td>H2O cluster uptime:</td>\n",
       "<td>4 days 2 hours 31 mins</td></tr>\n",
       "<tr><td>H2O cluster version:</td>\n",
       "<td>3.10.4.3</td></tr>\n",
       "<tr><td>H2O cluster version age:</td>\n",
       "<td>15 days </td></tr>\n",
       "<tr><td>H2O cluster name:</td>\n",
       "<td>H2O_from_python_joycewu_aayuou</td></tr>\n",
       "<tr><td>H2O cluster total nodes:</td>\n",
       "<td>1</td></tr>\n",
       "<tr><td>H2O cluster free memory:</td>\n",
       "<td>3.099 Gb</td></tr>\n",
       "<tr><td>H2O cluster total cores:</td>\n",
       "<td>4</td></tr>\n",
       "<tr><td>H2O cluster allowed cores:</td>\n",
       "<td>4</td></tr>\n",
       "<tr><td>H2O cluster status:</td>\n",
       "<td>locked, healthy</td></tr>\n",
       "<tr><td>H2O connection url:</td>\n",
       "<td>http://127.0.0.1:54321</td></tr>\n",
       "<tr><td>H2O connection proxy:</td>\n",
       "<td>None</td></tr>\n",
       "<tr><td>H2O internal security:</td>\n",
       "<td>False</td></tr>\n",
       "<tr><td>Python version:</td>\n",
       "<td>3.5.2 final</td></tr></table></div>"
      ],
      "text/plain": [
       "--------------------------  ------------------------------\n",
       "H2O cluster uptime:         4 days 2 hours 31 mins\n",
       "H2O cluster version:        3.10.4.3\n",
       "H2O cluster version age:    15 days\n",
       "H2O cluster name:           H2O_from_python_joycewu_aayuou\n",
       "H2O cluster total nodes:    1\n",
       "H2O cluster free memory:    3.099 Gb\n",
       "H2O cluster total cores:    4\n",
       "H2O cluster allowed cores:  4\n",
       "H2O cluster status:         locked, healthy\n",
       "H2O connection url:         http://127.0.0.1:54321\n",
       "H2O connection proxy:\n",
       "H2O internal security:      False\n",
       "Python version:             3.5.2 final\n",
       "--------------------------  ------------------------------"
      ]
     },
     "metadata": {},
     "output_type": "display_data"
    }
   ],
   "source": [
    "h2o.init(ip=\"127.0.0.1\",max_mem_size_GB = 4)"
   ]
  },
  {
   "cell_type": "code",
   "execution_count": 7,
   "metadata": {
    "collapsed": false
   },
   "outputs": [
    {
     "name": "stdout",
     "output_type": "stream",
     "text": [
      "Connecting to H2O server at http://localhost:54321... successful.\n"
     ]
    },
    {
     "data": {
      "text/html": [
       "<div style=\"overflow:auto\"><table style=\"width:50%\"><tr><td>H2O cluster uptime:</td>\n",
       "<td>4 days 2 hours 31 mins</td></tr>\n",
       "<tr><td>H2O cluster version:</td>\n",
       "<td>3.10.4.3</td></tr>\n",
       "<tr><td>H2O cluster version age:</td>\n",
       "<td>15 days </td></tr>\n",
       "<tr><td>H2O cluster name:</td>\n",
       "<td>H2O_from_python_joycewu_aayuou</td></tr>\n",
       "<tr><td>H2O cluster total nodes:</td>\n",
       "<td>1</td></tr>\n",
       "<tr><td>H2O cluster free memory:</td>\n",
       "<td>3.099 Gb</td></tr>\n",
       "<tr><td>H2O cluster total cores:</td>\n",
       "<td>4</td></tr>\n",
       "<tr><td>H2O cluster allowed cores:</td>\n",
       "<td>4</td></tr>\n",
       "<tr><td>H2O cluster status:</td>\n",
       "<td>locked, healthy</td></tr>\n",
       "<tr><td>H2O connection url:</td>\n",
       "<td>http://localhost:54321</td></tr>\n",
       "<tr><td>H2O connection proxy:</td>\n",
       "<td>None</td></tr>\n",
       "<tr><td>H2O internal security:</td>\n",
       "<td>False</td></tr>\n",
       "<tr><td>Python version:</td>\n",
       "<td>3.5.2 final</td></tr></table></div>"
      ],
      "text/plain": [
       "--------------------------  ------------------------------\n",
       "H2O cluster uptime:         4 days 2 hours 31 mins\n",
       "H2O cluster version:        3.10.4.3\n",
       "H2O cluster version age:    15 days\n",
       "H2O cluster name:           H2O_from_python_joycewu_aayuou\n",
       "H2O cluster total nodes:    1\n",
       "H2O cluster free memory:    3.099 Gb\n",
       "H2O cluster total cores:    4\n",
       "H2O cluster allowed cores:  4\n",
       "H2O cluster status:         locked, healthy\n",
       "H2O connection url:         http://localhost:54321\n",
       "H2O connection proxy:\n",
       "H2O internal security:      False\n",
       "Python version:             3.5.2 final\n",
       "--------------------------  ------------------------------"
      ]
     },
     "metadata": {},
     "output_type": "display_data"
    },
    {
     "data": {
      "text/plain": [
       "<H2OConnection to http://localhost:54321, session _sid_b87e>"
      ]
     },
     "execution_count": 7,
     "metadata": {},
     "output_type": "execute_result"
    }
   ],
   "source": [
    "h2o.connect()"
   ]
  },
  {
   "cell_type": "code",
   "execution_count": 77,
   "metadata": {
    "collapsed": false,
    "scrolled": true
   },
   "outputs": [
    {
     "name": "stdout",
     "output_type": "stream",
     "text": [
      "Parse progress: |█████████████████████████████████████████████████████████| 100%\n"
     ]
    }
   ],
   "source": [
    "dataFrame = h2o.upload_file(path=path+\"no1hot.csv\", destination_frame=\"no1hot\")"
   ]
  },
  {
   "cell_type": "code",
   "execution_count": 78,
   "metadata": {
    "collapsed": false
   },
   "outputs": [],
   "source": [
    "dataFrame = dataFrame.drop(['vehicle_type_code_1_nan',\n",
    " 'vehicle_type_code_2_nan',\n",
    " 'vehicle_type_code_3_nan',\n",
    " 'vehicle_type_code_4_nan',\n",
    " 'vehicle_type_code_5_nan',\n",
    " 'borough_nan', 'injured', 'killed', 'C1'])"
   ]
  },
  {
   "cell_type": "code",
   "execution_count": 79,
   "metadata": {
    "collapsed": false
   },
   "outputs": [],
   "source": [
    "train_df = dataFrame[train_indices[0]:train_indices[1], :]\n",
    "val_df = dataFrame[val_indices[0]:val_indices[1], :]\n",
    "test_df = dataFrame[test_indices[0]:test_indices[1], :]"
   ]
  },
  {
   "cell_type": "code",
   "execution_count": 63,
   "metadata": {
    "collapsed": true
   },
   "outputs": [],
   "source": [
    "def score_confusion(confusion):\n",
    "    sensitivity = confusion[1][1]/float(np.sum(confusion[1]))\n",
    "    specificity = confusion[0][0]/float(np.sum(confusion[0]))\n",
    "    return sensitivity, specificity"
   ]
  },
  {
   "cell_type": "code",
   "execution_count": 80,
   "metadata": {
    "collapsed": true
   },
   "outputs": [],
   "source": [
    "grid_search = []"
   ]
  },
  {
   "cell_type": "code",
   "execution_count": 81,
   "metadata": {
    "collapsed": false
   },
   "outputs": [
    {
     "name": "stdout",
     "output_type": "stream",
     "text": [
      "drf Model Build progress: |███████████████████████████████████████████████| 100%\n",
      "(50, 10, None) finished!\n",
      "Train AUC: 0.7964105178756552, Valid AUC: 0.7660665893018703, Train S&S: (0.5537270544643363, 0.896978568997239), Valid S&S: (0.556944010552258, 0.8502693579339206)\n",
      "drf Model Build progress: |███████████████████████████████████████████████| 100%\n",
      "(50, 10, 10) finished!\n",
      "Train AUC: 0.7970170234669708, Valid AUC: 0.766704565876601, Train S&S: (0.555352855549464, 0.8958951164544627), Valid S&S: (0.5517720156895415, 0.8536681232803865)\n",
      "drf Model Build progress: |███████████████████████████████████████████████| 100%\n",
      "(50, 10, 50) finished!\n",
      "Train AUC: 0.7964908410998762, Valid AUC: 0.76384546954093, Train S&S: (0.5513167098323156, 0.8982244281840045), Valid S&S: (0.5580547745496199, 0.8490747805445732)\n",
      "drf Model Build progress: |███████████████████████████████████████████████| 100%\n",
      "(50, 10, 100) finished!\n",
      "Train AUC: 0.7960537976866242, Valid AUC: 0.7638900979738261, Train S&S: (0.552450989659149, 0.8977349835034896), Valid S&S: (0.5663507931549169, 0.8431250144505329)\n",
      "drf Model Build progress: |███████████████████████████████████████████████| 100%\n",
      "(50, 20, None) finished!\n",
      "Train AUC: 0.7953462248268284, Valid AUC: 0.7675644933543188, Train S&S: (0.5345860823865247, 0.9049809895236591), Valid S&S: (0.5548613280572043, 0.8515332978813592)\n",
      "drf Model Build progress: |███████████████████████████████████████████████| 100%\n",
      "(50, 20, 10) finished!\n",
      "Train AUC: 0.8009010937711374, Valid AUC: 0.7715020612179854, Train S&S: (0.5436225116736298, 0.9032479104049265), Valid S&S: (0.5656565656565656, 0.8448359575501144)\n",
      "drf Model Build progress: |███████████████████████████████████████████████| 100%\n",
      "(50, 20, 50) finished!\n",
      "Train AUC: 0.8032141693827634, Valid AUC: 0.7711867880988179, Train S&S: (0.546656710210409, 0.9014058186073519), Valid S&S: (0.5657259884064008, 0.8446586976794371)\n",
      "drf Model Build progress: |███████████████████████████████████████████████| 100%\n",
      "(50, 20, 100) finished!\n",
      "Train AUC: 0.8029866976759572, Valid AUC: 0.7706735348367852, Train S&S: (0.5512694481728643, 0.8986471304080856), Valid S&S: (0.5564233399284946, 0.8497606991745855)\n",
      "drf Model Build progress: |███████████████████████████████████████████████| 100%\n",
      "(50, 50, None) finished!\n",
      "Train AUC: 0.7743962525457119, Valid AUC: 0.7567390440473009, Train S&S: (0.5142730211543187, 0.9045716357908647), Valid S&S: (0.5261203096254643, 0.8622536665818902)\n",
      "drf Model Build progress: |███████████████████████████████████████████████| 100%\n",
      "(50, 50, 10) finished!\n",
      "Train AUC: 0.7960013832656831, Valid AUC: 0.7697010485303086, Train S&S: (0.5372043783201316, 0.9057618762639352), Valid S&S: (0.5585060224235482, 0.8495834393039082)\n",
      "drf Model Build progress: |███████████████████████████████████████████████| 100%\n",
      "(50, 50, 50) finished!\n",
      "Train AUC: 0.8028387788252422, Valid AUC: 0.7710630253125943, Train S&S: (0.5599088795205778, 0.8932409914369428), Valid S&S: (0.5660383907806589, 0.8444814378087597)\n",
      "drf Model Build progress: |███████████████████████████████████████████████| 100%\n",
      "(50, 50, 100) finished!\n",
      "Train AUC: 0.8029594884990437, Valid AUC: 0.7706794538253693, Train S&S: (0.5493128154715768, 0.8997884264131046), Valid S&S: (0.5568051650525877, 0.849498662844019)\n",
      "drf Model Build progress: |███████████████████████████████████████████████| 100%\n",
      "(50, 100, None) finished!\n",
      "Train AUC: 0.7743435321308948, Valid AUC: 0.7566998233744433, Train S&S: (0.5144053538007827, 0.904471522106214), Valid S&S: (0.5261203096254643, 0.8621997179255971)\n",
      "drf Model Build progress: |███████████████████████████████████████████████| 100%\n",
      "(50, 100, 10) finished!\n",
      "Train AUC: 0.7960010203145936, Valid AUC: 0.7697000387803636, Train S&S: (0.5372138306520219, 0.9057618762639352), Valid S&S: (0.5585060224235482, 0.8495834393039082)\n",
      "drf Model Build progress: |███████████████████████████████████████████████| 100%\n",
      "(50, 100, 50) finished!\n",
      "Train AUC: 0.8028387788252422, Valid AUC: 0.7710630253125943, Train S&S: (0.5599088795205778, 0.8932409914369428), Valid S&S: (0.5660383907806589, 0.8444814378087597)\n",
      "drf Model Build progress: |███████████████████████████████████████████████| 100%\n",
      "(50, 100, 100) finished!\n",
      "Train AUC: 0.8029594884990437, Valid AUC: 0.7706794538253693, Train S&S: (0.5493128154715768, 0.8997884264131046), Valid S&S: (0.5568051650525877, 0.849498662844019)\n",
      "drf Model Build progress: |███████████████████████████████████████████████| 100%\n",
      "(100, 10, None) finished!\n",
      "Train AUC: 0.7979410147592195, Valid AUC: 0.7662644533415492, Train S&S: (0.5573094882507514, 0.8950052170353446), Valid S&S: (0.5619077371654692, 0.8468860064892526)\n",
      "drf Model Build progress: |███████████████████████████████████████████████| 100%\n",
      "(100, 10, 10) finished!\n",
      "Train AUC: 0.7980565633440228, Valid AUC: 0.7667326205796723, Train S&S: (0.5541051477399475, 0.8969807937457869), Valid S&S: (0.5589225589225589, 0.8484659314235509)\n",
      "drf Model Build progress: |███████████████████████████████████████████████| 100%\n",
      "(100, 10, 50) finished!\n",
      "Train AUC: 0.7988056986826425, Valid AUC: 0.7658786494094197, Train S&S: (0.5557025918294043, 0.8957816542785252), Valid S&S: (0.5618730257905515, 0.8464467102880088)\n",
      "drf Model Build progress: |███████████████████████████████████████████████| 100%\n",
      "(100, 10, 100) finished!\n",
      "Train AUC: 0.7982289320538419, Valid AUC: 0.7664386618920852, Train S&S: (0.5556175208423918, 0.8957238108162825), Valid S&S: (0.5619424485403867, 0.8458532750687845)\n",
      "drf Model Build progress: |███████████████████████████████████████████████| 100%\n",
      "(100, 20, None) finished!\n",
      "Train AUC: 0.8007916028809191, Valid AUC: 0.7700373827406942, Train S&S: (0.5421763048944175, 0.9034970822422795), Valid S&S: (0.5541671005588531, 0.8525429084491303)\n",
      "drf Model Build progress: |███████████████████████████████████████████████| 100%\n",
      "(100, 20, 10) finished!\n",
      "Train AUC: 0.8042198308211461, Valid AUC: 0.7721881043780281, Train S&S: (0.5539066487702516, 0.8978439961823315), Valid S&S: (0.5637474400360998, 0.8466316771095851)\n",
      "drf Model Build progress: |███████████████████████████████████████████████| 100%\n",
      "(100, 20, 50) finished!\n",
      "Train AUC: 0.8054348030268631, Valid AUC: 0.772479136275504, Train S&S: (0.5481785356447435, 0.9008741037044288), Valid S&S: (0.5597556319205804, 0.8481576533875903)\n",
      "drf Model Build progress: |███████████████████████████████████████████████| 100%\n",
      "(100, 20, 100) finished!\n",
      "Train AUC: 0.8047710167845961, Valid AUC: 0.7717161703405669, Train S&S: (0.5511465678582906, 0.898838458783196), Valid S&S: (0.5594779409212399, 0.8476721154809522)\n",
      "drf Model Build progress: |███████████████████████████████████████████████| 100%\n",
      "(100, 50, None) finished!\n",
      "Train AUC: 0.7852128761961593, Valid AUC: 0.7617418471407029, Train S&S: (0.5196230410042157, 0.909830941357853), Valid S&S: (0.5286889513693638, 0.8654520512049818)\n",
      "drf Model Build progress: |███████████████████████████████████████████████| 100%\n",
      "(100, 50, 10) finished!\n",
      "Train AUC: 0.801149731890906, Valid AUC: 0.7715004544996994, Train S&S: (0.5505038092897517, 0.8993234539666154), Valid S&S: (0.5537505640598425, 0.8532134131773447)\n",
      "drf Model Build progress: |███████████████████████████████████████████████| 100%\n",
      "(100, 50, 50) finished!\n",
      "Train AUC: 0.8052068061297568, Valid AUC: 0.7724325605728106, Train S&S: (0.5486227952435866, 0.9006249318670757), Valid S&S: (0.5660383907806589, 0.8439573651476266)\n",
      "drf Model Build progress: |███████████████████████████████████████████████| 100%\n",
      "(100, 50, 100) finished!\n",
      "Train AUC: 0.8048919526469845, Valid AUC: 0.7717411364046156, Train S&S: (0.5482352496360853, 0.9006138081243368), Valid S&S: (0.5621160054149745, 0.8458224472651885)\n",
      "drf Model Build progress: |███████████████████████████████████████████████| 100%\n",
      "(100, 100, None) finished!\n",
      "Train AUC: 0.7851944263594386, Valid AUC: 0.7617180500003223, Train S&S: (0.5196041363404352, 0.9098331661064009), Valid S&S: (0.5362213197264744, 0.8604502400715205)\n",
      "drf Model Build progress: |███████████████████████████████████████████████| 100%\n",
      "(100, 100, 10) finished!\n",
      "Train AUC: 0.8011509984818034, Valid AUC: 0.7714992043840567, Train S&S: (0.5505038092897517, 0.8993256787151632), Valid S&S: (0.5537505640598425, 0.8532057062264456)\n",
      "drf Model Build progress: |███████████████████████████████████████████████| 100%\n",
      "(100, 100, 50) finished!\n",
      "Train AUC: 0.8052068061297568, Valid AUC: 0.7724325605728106, Train S&S: (0.5486227952435866, 0.9006249318670757), Valid S&S: (0.5660383907806589, 0.8439573651476266)\n",
      "drf Model Build progress: |███████████████████████████████████████████████| 100%\n",
      "(100, 100, 100) finished!\n",
      "Train AUC: 0.8048919526469845, Valid AUC: 0.7717411364046156, Train S&S: (0.5482352496360853, 0.9006138081243368), Valid S&S: (0.5621160054149745, 0.8458224472651885)\n",
      "drf Model Build progress: |███████████████████████████████████████████████| 100%\n",
      "(200, 10, None) finished!\n",
      "Train AUC: 0.800238159878797, Valid AUC: 0.7678903805518601, Train S&S: (0.5518838497457322, 0.8986960748761371), Valid S&S: (0.5527786455621507, 0.8529744976994752)\n",
      "drf Model Build progress: |███████████████████████████████████████████████| 100%\n",
      "(200, 10, 10) finished!\n",
      "Train AUC: 0.8004158506340522, Valid AUC: 0.768172583791848, Train S&S: (0.5577632001814847, 0.8950163407780836), Valid S&S: (0.5595126522961574, 0.8482886715528736)\n",
      "drf Model Build progress: |███████████████████████████████████████████████| 100%\n",
      "(200, 10, 50) finished!\n",
      "Train AUC: 0.8002739703940488, Valid AUC: 0.7673223652424339, Train S&S: (0.5499744787038963, 0.8996593909973325), Valid S&S: (0.5618730257905515, 0.8466625049131812)\n",
      "drf Model Build progress: |███████████████████████████████████████████████| 100%\n",
      "(200, 10, 100) finished!\n",
      "Train AUC: 0.800407099211301, Valid AUC: 0.7679147247683136, Train S&S: (0.552384823335917, 0.8980508977972764), Valid S&S: (0.562706098788573, 0.8454910483765308)\n",
      "drf Model Build progress: |███████████████████████████████████████████████| 100%\n",
      "(200, 20, None) finished!\n",
      "Train AUC: 0.8042655279709836, Valid AUC: 0.7719548116116028, Train S&S: (0.5497759797342004, 0.900306792824741), Valid S&S: (0.556944010552258, 0.850909034858539)\n",
      "drf Model Build progress: |███████████████████████████████████████████████| 100%\n",
      "(200, 20, 10) finished!\n",
      "Train AUC: 0.8063652595253678, Valid AUC: 0.7736229099603015, Train S&S: (0.5546628353214738, 0.8979975038321294), Valid S&S: (0.5584713110486307, 0.850015028554253)\n",
      "drf Model Build progress: |███████████████████████████████████████████████| 100%\n",
      "(200, 20, 50) finished!\n",
      "Train AUC: 0.8066345655747068, Valid AUC: 0.7731168885356687, Train S&S: (0.5506172372724351, 0.8997328076994098), Valid S&S: (0.5616994689159638, 0.8468937134401516)\n",
      "drf Model Build progress: |███████████████████████████████████████████████| 100%\n",
      "(200, 20, 100) finished!\n",
      "Train AUC: 0.8061554578976765, Valid AUC: 0.772397530850447, Train S&S: (0.5527345596158573, 0.8979552336097213), Valid S&S: (0.5590614044222292, 0.8479803935169129)\n",
      "drf Model Build progress: |███████████████████████████████████████████████| 100%\n",
      "(200, 50, None) finished!\n",
      "Train AUC: 0.792513795888674, Valid AUC: 0.7655133457152138, Train S&S: (0.526551600279789, 0.9098576383404265), Valid S&S: (0.5499323128189108, 0.8530438602575663)\n",
      "drf Model Build progress: |███████████████████████████████████████████████| 100%\n",
      "(200, 50, 10) finished!\n",
      "Train AUC: 0.8045172393303938, Valid AUC: 0.7734428309758551, Train S&S: (0.5499272170444449, 0.900860755213142), Valid S&S: (0.5588878475476413, 0.8498840103889698)\n",
      "drf Model Build progress: |███████████████████████████████████████████████| 100%\n",
      "(200, 50, 50) finished!\n",
      "Train AUC: 0.8066510590252499, Valid AUC: 0.7732384753234678, Train S&S: (0.5482919636274269, 0.9011699952612856), Valid S&S: (0.5663160817799993, 0.8439573651476266)\n",
      "drf Model Build progress: |███████████████████████████████████████████████| 100%\n",
      "(200, 50, 100) finished!\n",
      "Train AUC: 0.8063630800734188, Valid AUC: 0.7724785449250592, Train S&S: (0.5483108682912075, 0.9005982348845022), Valid S&S: (0.5590614044222292, 0.8479881004678119)\n",
      "drf Model Build progress: |███████████████████████████████████████████████| 100%\n",
      "(200, 100, None) finished!\n",
      "Train AUC: 0.7924807729542906, Valid AUC: 0.765480056069289, Train S&S: (0.5265988619392404, 0.9098109186209229), Valid S&S: (0.550383560692839, 0.8528126517305958)\n",
      "drf Model Build progress: |███████████████████████████████████████████████| 100%\n",
      "(200, 100, 10) finished!\n",
      "Train AUC: 0.8045208457093208, Valid AUC: 0.7734360056333661, Train S&S: (0.5499083123806643, 0.9008629799616898), Valid S&S: (0.5588878475476413, 0.8498840103889698)\n",
      "drf Model Build progress: |███████████████████████████████████████████████| 100%\n",
      "(200, 100, 50) finished!\n",
      "Train AUC: 0.8066510590252499, Valid AUC: 0.7732384753234678, Train S&S: (0.5482919636274269, 0.9011699952612856), Valid S&S: (0.5663160817799993, 0.8439573651476266)\n",
      "drf Model Build progress: |███████████████████████████████████████████████| 100%\n",
      "(200, 100, 100) finished!\n",
      "Train AUC: 0.8063630800734188, Valid AUC: 0.7724785449250592, Train S&S: (0.5483108682912075, 0.9005982348845022), Valid S&S: (0.5590614044222292, 0.8479881004678119)\n"
     ]
    }
   ],
   "source": [
    "n_trees = [50, 100, 200]\n",
    "max_depth = [10, 20, 50, 100]\n",
    "min_rows = [None, 10, 50, 100]\n",
    "\n",
    "for i in itertools.product(n_trees,max_depth,min_rows):\n",
    "    \n",
    "    if i not in [i[0] for i in grid_search]:\n",
    "    \n",
    "        rf = H2ORandomForestEstimator(\n",
    "        model_id = \"rf\",\n",
    "        ntrees=i[0],\n",
    "        max_depth = i[1],\n",
    "        min_rows = i[2],\n",
    "        stopping_rounds=2,\n",
    "        seed=1000000)\n",
    "\n",
    "        rf.train(train_df.drop('injured_or_killed').columns, 'injured_or_killed',\\\n",
    "                 training_frame=train_df, validation_frame=val_df)\n",
    "\n",
    "        results = [i,\\\n",
    "                    rf.auc(train=True),\\\n",
    "                    rf.auc(valid=True),\\\n",
    "                    score_confusion(rf.confusion_matrix(train=True).to_list()),\\\n",
    "                    score_confusion(rf.confusion_matrix(valid=True).to_list())]\n",
    "        print (\"%s finished!\" % (str(i)))\n",
    "        print (\"Train AUC: %s, Valid AUC: %s, Train S&S: %s, Valid S&S: %s\" % (results[1], results[2], results[3], results[4]))\n",
    "        \n",
    "        grid_search.append(results)   \n",
    "        "
   ]
  },
  {
   "cell_type": "code",
   "execution_count": null,
   "metadata": {
    "collapsed": false
   },
   "outputs": [],
   "source": [
    "grid_search"
   ]
  },
  {
   "cell_type": "code",
   "execution_count": null,
   "metadata": {
    "collapsed": true
   },
   "outputs": [],
   "source": [
    "fig = plt.figure(figsize=(14, 10))\n",
    "\n",
    "num_features = 30\n",
    "\n",
    "y_pos = np.arange(num_features)\n",
    "\n",
    "plt.bar(y_pos, rf.varimp(True)['percentage'][:num_features])\n",
    "plt.xticks(y_pos, rf.varimp(True)['variable'][:num_features])\n",
    "fig.autofmt_xdate()"
   ]
  }
 ],
 "metadata": {
  "anaconda-cloud": {},
  "kernelspec": {
   "display_name": "Python [py35]",
   "language": "python",
   "name": "Python [py35]"
  },
  "language_info": {
   "codemirror_mode": {
    "name": "ipython",
    "version": 3
   },
   "file_extension": ".py",
   "mimetype": "text/x-python",
   "name": "python",
   "nbconvert_exporter": "python",
   "pygments_lexer": "ipython3",
   "version": "3.5.2"
  }
 },
 "nbformat": 4,
 "nbformat_minor": 0
}
