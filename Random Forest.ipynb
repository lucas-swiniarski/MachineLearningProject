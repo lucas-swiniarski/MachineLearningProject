{
 "cells": [
  {
   "cell_type": "code",
   "execution_count": 1,
   "metadata": {
    "collapsed": true
   },
   "outputs": [],
   "source": [
    "import numpy as np\n",
    "import pandas as pd\n",
    "import pickle\n",
    "from sklearn.ensemble import RandomForestClassifier\n",
    "import matplotlib.pyplot as plt\n",
    "from sklearn.model_selection import train_test_split\n",
    "import itertools\n",
    "from sklearn import metrics\n",
    "%matplotlib inline\n",
    "import datetime"
   ]
  },
  {
   "cell_type": "code",
   "execution_count": 2,
   "metadata": {
    "collapsed": true
   },
   "outputs": [],
   "source": [
    "#path = \"../../../Google Drive/Data_science/NYU/Machine Learning/ML Project (Collisions)/\" #Joe\n",
    "path = \"../../../../Google Drive/ML Project (Collisions)/\" # Joyce\n",
    "# path = \"\" # Lucas"
   ]
  },
  {
   "cell_type": "code",
   "execution_count": null,
   "metadata": {
    "collapsed": false,
    "scrolled": true
   },
   "outputs": [],
   "source": [
    "fig = plt.figure(figsize=(14, 10))\n",
    "\n",
    "num_features = 30\n",
    "\n",
    "y_pos = np.arange(num_features)\n",
    "importances = np.vstack((rf.feature_importances_, X_train.columns.values)).T\n",
    "topX = importances[importances[:,0].argsort()][::-1][:num_features]\n",
    "\n",
    "plt.bar(y_pos, topX[:, 0])\n",
    "plt.xticks(y_pos, topX[:, 1])\n",
    "fig.autofmt_xdate()"
   ]
  },
  {
   "cell_type": "markdown",
   "metadata": {},
   "source": [
    "## Using H2O without 1 hot encoding"
   ]
  },
  {
   "cell_type": "code",
   "execution_count": 31,
   "metadata": {
    "collapsed": true
   },
   "outputs": [],
   "source": [
    "with open(path+\"collisions_no1hot.pkl\", 'rb') as infile:\n",
    "    df_no1hot = pickle.load(infile)"
   ]
  },
  {
   "cell_type": "code",
   "execution_count": 32,
   "metadata": {
    "collapsed": true
   },
   "outputs": [],
   "source": [
    "df_no1hot['year'] = pd.to_datetime(df_no1hot['date_time']).dt.year"
   ]
  },
  {
   "cell_type": "code",
   "execution_count": 39,
   "metadata": {
    "collapsed": false
   },
   "outputs": [],
   "source": [
    "df_no1hot = df_no1hot.sort_values('date_time')"
   ]
  },
  {
   "cell_type": "code",
   "execution_count": 47,
   "metadata": {
    "collapsed": false
   },
   "outputs": [],
   "source": [
    "view_date = pd.to_datetime(df_no1hot['date_time'])\n",
    "\n",
    "train_indices = (0, np.sum(view_date < datetime.date(2015,9,12))-1)\n",
    "val_indices = (train_indices[1]+1,\\\n",
    "               train_indices[1] + \\\n",
    "               np.sum((view_date >= datetime.date(2015,9,12)) & (view_date < datetime.date(2016,7,31))))\n",
    "test_indices = (val_indices[1]+1,\\\n",
    "               val_indices[1] + np.sum(view_date >= datetime.date(2016,7,31)))"
   ]
  },
  {
   "cell_type": "code",
   "execution_count": 54,
   "metadata": {
    "collapsed": true
   },
   "outputs": [],
   "source": [
    "df_no1hot.to_csv(path+\"no1hot.csv\")"
   ]
  },
  {
   "cell_type": "code",
   "execution_count": 5,
   "metadata": {
    "collapsed": true
   },
   "outputs": [],
   "source": [
    "import h2o\n",
    "from h2o.estimators.random_forest import H2ORandomForestEstimator"
   ]
  },
  {
   "cell_type": "code",
   "execution_count": 6,
   "metadata": {
    "collapsed": false
   },
   "outputs": [
    {
     "name": "stdout",
     "output_type": "stream",
     "text": [
      "Checking whether there is an H2O instance running at http://127.0.0.1:54321. connected.\n"
     ]
    },
    {
     "data": {
      "text/html": [
       "<div style=\"overflow:auto\"><table style=\"width:50%\"><tr><td>H2O cluster uptime:</td>\n",
       "<td>4 days 2 hours 31 mins</td></tr>\n",
       "<tr><td>H2O cluster version:</td>\n",
       "<td>3.10.4.3</td></tr>\n",
       "<tr><td>H2O cluster version age:</td>\n",
       "<td>15 days </td></tr>\n",
       "<tr><td>H2O cluster name:</td>\n",
       "<td>H2O_from_python_joycewu_aayuou</td></tr>\n",
       "<tr><td>H2O cluster total nodes:</td>\n",
       "<td>1</td></tr>\n",
       "<tr><td>H2O cluster free memory:</td>\n",
       "<td>3.099 Gb</td></tr>\n",
       "<tr><td>H2O cluster total cores:</td>\n",
       "<td>4</td></tr>\n",
       "<tr><td>H2O cluster allowed cores:</td>\n",
       "<td>4</td></tr>\n",
       "<tr><td>H2O cluster status:</td>\n",
       "<td>locked, healthy</td></tr>\n",
       "<tr><td>H2O connection url:</td>\n",
       "<td>http://127.0.0.1:54321</td></tr>\n",
       "<tr><td>H2O connection proxy:</td>\n",
       "<td>None</td></tr>\n",
       "<tr><td>H2O internal security:</td>\n",
       "<td>False</td></tr>\n",
       "<tr><td>Python version:</td>\n",
       "<td>3.5.2 final</td></tr></table></div>"
      ],
      "text/plain": [
       "--------------------------  ------------------------------\n",
       "H2O cluster uptime:         4 days 2 hours 31 mins\n",
       "H2O cluster version:        3.10.4.3\n",
       "H2O cluster version age:    15 days\n",
       "H2O cluster name:           H2O_from_python_joycewu_aayuou\n",
       "H2O cluster total nodes:    1\n",
       "H2O cluster free memory:    3.099 Gb\n",
       "H2O cluster total cores:    4\n",
       "H2O cluster allowed cores:  4\n",
       "H2O cluster status:         locked, healthy\n",
       "H2O connection url:         http://127.0.0.1:54321\n",
       "H2O connection proxy:\n",
       "H2O internal security:      False\n",
       "Python version:             3.5.2 final\n",
       "--------------------------  ------------------------------"
      ]
     },
     "metadata": {},
     "output_type": "display_data"
    }
   ],
   "source": [
    "h2o.init(ip=\"127.0.0.1\",max_mem_size_GB = 4)"
   ]
  },
  {
   "cell_type": "code",
   "execution_count": 7,
   "metadata": {
    "collapsed": false
   },
   "outputs": [
    {
     "name": "stdout",
     "output_type": "stream",
     "text": [
      "Connecting to H2O server at http://localhost:54321... successful.\n"
     ]
    },
    {
     "data": {
      "text/html": [
       "<div style=\"overflow:auto\"><table style=\"width:50%\"><tr><td>H2O cluster uptime:</td>\n",
       "<td>4 days 2 hours 31 mins</td></tr>\n",
       "<tr><td>H2O cluster version:</td>\n",
       "<td>3.10.4.3</td></tr>\n",
       "<tr><td>H2O cluster version age:</td>\n",
       "<td>15 days </td></tr>\n",
       "<tr><td>H2O cluster name:</td>\n",
       "<td>H2O_from_python_joycewu_aayuou</td></tr>\n",
       "<tr><td>H2O cluster total nodes:</td>\n",
       "<td>1</td></tr>\n",
       "<tr><td>H2O cluster free memory:</td>\n",
       "<td>3.099 Gb</td></tr>\n",
       "<tr><td>H2O cluster total cores:</td>\n",
       "<td>4</td></tr>\n",
       "<tr><td>H2O cluster allowed cores:</td>\n",
       "<td>4</td></tr>\n",
       "<tr><td>H2O cluster status:</td>\n",
       "<td>locked, healthy</td></tr>\n",
       "<tr><td>H2O connection url:</td>\n",
       "<td>http://localhost:54321</td></tr>\n",
       "<tr><td>H2O connection proxy:</td>\n",
       "<td>None</td></tr>\n",
       "<tr><td>H2O internal security:</td>\n",
       "<td>False</td></tr>\n",
       "<tr><td>Python version:</td>\n",
       "<td>3.5.2 final</td></tr></table></div>"
      ],
      "text/plain": [
       "--------------------------  ------------------------------\n",
       "H2O cluster uptime:         4 days 2 hours 31 mins\n",
       "H2O cluster version:        3.10.4.3\n",
       "H2O cluster version age:    15 days\n",
       "H2O cluster name:           H2O_from_python_joycewu_aayuou\n",
       "H2O cluster total nodes:    1\n",
       "H2O cluster free memory:    3.099 Gb\n",
       "H2O cluster total cores:    4\n",
       "H2O cluster allowed cores:  4\n",
       "H2O cluster status:         locked, healthy\n",
       "H2O connection url:         http://localhost:54321\n",
       "H2O connection proxy:\n",
       "H2O internal security:      False\n",
       "Python version:             3.5.2 final\n",
       "--------------------------  ------------------------------"
      ]
     },
     "metadata": {},
     "output_type": "display_data"
    },
    {
     "data": {
      "text/plain": [
       "<H2OConnection to http://localhost:54321, session _sid_b87e>"
      ]
     },
     "execution_count": 7,
     "metadata": {},
     "output_type": "execute_result"
    }
   ],
   "source": [
    "h2o.connect()"
   ]
  },
  {
   "cell_type": "code",
   "execution_count": 77,
   "metadata": {
    "collapsed": false,
    "scrolled": true
   },
   "outputs": [
    {
     "name": "stdout",
     "output_type": "stream",
     "text": [
      "Parse progress: |█████████████████████████████████████████████████████████| 100%\n"
     ]
    }
   ],
   "source": [
    "dataFrame = h2o.upload_file(path=path+\"no1hot.csv\", destination_frame=\"no1hot\")"
   ]
  },
  {
   "cell_type": "code",
   "execution_count": 78,
   "metadata": {
    "collapsed": false
   },
   "outputs": [],
   "source": [
    "dataFrame = dataFrame.drop(['vehicle_type_code_1_nan',\n",
    " 'vehicle_type_code_2_nan',\n",
    " 'vehicle_type_code_3_nan',\n",
    " 'vehicle_type_code_4_nan',\n",
    " 'vehicle_type_code_5_nan',\n",
    " 'borough_nan', 'injured', 'killed', 'C1'])"
   ]
  },
  {
   "cell_type": "code",
   "execution_count": 79,
   "metadata": {
    "collapsed": false
   },
   "outputs": [],
   "source": [
    "train_df = dataFrame[train_indices[0]:train_indices[1], :]\n",
    "val_df = dataFrame[val_indices[0]:val_indices[1], :]\n",
    "test_df = dataFrame[test_indices[0]:test_indices[1], :]"
   ]
  },
  {
   "cell_type": "code",
   "execution_count": 63,
   "metadata": {
    "collapsed": true
   },
   "outputs": [],
   "source": [
    "def score_confusion(confusion):\n",
    "    sensitivity = confusion[1][1]/float(np.sum(confusion[1]))\n",
    "    specificity = confusion[0][0]/float(np.sum(confusion[0]))\n",
    "    return sensitivity, specificity"
   ]
  },
  {
   "cell_type": "code",
   "execution_count": 80,
   "metadata": {
    "collapsed": true
   },
   "outputs": [],
   "source": [
    "grid_search = []"
   ]
  },
  {
   "cell_type": "code",
   "execution_count": 81,
   "metadata": {
    "collapsed": false
   },
   "outputs": [
    {
     "name": "stdout",
     "output_type": "stream",
     "text": [
      "drf Model Build progress: |███████████████████████████████████████████████| 100%\n",
      "(50, 10, None) finished!\n",
      "Train AUC: 0.7964105178756552, Valid AUC: 0.7660665893018703, Train S&S: (0.5537270544643363, 0.896978568997239), Valid S&S: (0.556944010552258, 0.8502693579339206)\n",
      "drf Model Build progress: |███████████████████████████████████████████████| 100%\n",
      "(50, 10, 10) finished!\n",
      "Train AUC: 0.7970170234669708, Valid AUC: 0.766704565876601, Train S&S: (0.555352855549464, 0.8958951164544627), Valid S&S: (0.5517720156895415, 0.8536681232803865)\n",
      "drf Model Build progress: |███████████████████████████████████████████████| 100%\n",
      "(50, 10, 50) finished!\n",
      "Train AUC: 0.7964908410998762, Valid AUC: 0.76384546954093, Train S&S: (0.5513167098323156, 0.8982244281840045), Valid S&S: (0.5580547745496199, 0.8490747805445732)\n",
      "drf Model Build progress: |███████████████████████████████████████████████| 100%\n",
      "(50, 10, 100) finished!\n",
      "Train AUC: 0.7960537976866242, Valid AUC: 0.7638900979738261, Train S&S: (0.552450989659149, 0.8977349835034896), Valid S&S: (0.5663507931549169, 0.8431250144505329)\n",
      "drf Model Build progress: |███████████████████████████████████████████████| 100%\n",
      "(50, 20, None) finished!\n",
      "Train AUC: 0.7953462248268284, Valid AUC: 0.7675644933543188, Train S&S: (0.5345860823865247, 0.9049809895236591), Valid S&S: (0.5548613280572043, 0.8515332978813592)\n",
      "drf Model Build progress: |███████████████████████████████████████████████| 100%\n",
      "(50, 20, 10) finished!\n",
      "Train AUC: 0.8009010937711374, Valid AUC: 0.7715020612179854, Train S&S: (0.5436225116736298, 0.9032479104049265), Valid S&S: (0.5656565656565656, 0.8448359575501144)\n",
      "drf Model Build progress: |███████████████████████████████████████████████| 100%\n",
      "(50, 20, 50) finished!\n",
      "Train AUC: 0.8032141693827634, Valid AUC: 0.7711867880988179, Train S&S: (0.546656710210409, 0.9014058186073519), Valid S&S: (0.5657259884064008, 0.8446586976794371)\n",
      "drf Model Build progress: |███████████████████████████████████████████████| 100%\n",
      "(50, 20, 100) finished!\n",
      "Train AUC: 0.8029866976759572, Valid AUC: 0.7706735348367852, Train S&S: (0.5512694481728643, 0.8986471304080856), Valid S&S: (0.5564233399284946, 0.8497606991745855)\n",
      "drf Model Build progress: |███████████████████████████████████████████████| 100%\n",
      "(50, 50, None) finished!\n",
      "Train AUC: 0.7743962525457119, Valid AUC: 0.7567390440473009, Train S&S: (0.5142730211543187, 0.9045716357908647), Valid S&S: (0.5261203096254643, 0.8622536665818902)\n",
      "drf Model Build progress: |███████████████████████████████████████████████| 100%\n",
      "(50, 50, 10) finished!\n",
      "Train AUC: 0.7960013832656831, Valid AUC: 0.7697010485303086, Train S&S: (0.5372043783201316, 0.9057618762639352), Valid S&S: (0.5585060224235482, 0.8495834393039082)\n",
      "drf Model Build progress: |███████████████████████████████████████████████| 100%\n",
      "(50, 50, 50) finished!\n",
      "Train AUC: 0.8028387788252422, Valid AUC: 0.7710630253125943, Train S&S: (0.5599088795205778, 0.8932409914369428), Valid S&S: (0.5660383907806589, 0.8444814378087597)\n",
      "drf Model Build progress: |███████████████████████████████████████████████| 100%\n",
      "(50, 50, 100) finished!\n",
      "Train AUC: 0.8029594884990437, Valid AUC: 0.7706794538253693, Train S&S: (0.5493128154715768, 0.8997884264131046), Valid S&S: (0.5568051650525877, 0.849498662844019)\n",
      "drf Model Build progress: |███████████████████████████████████████████████| 100%\n",
      "(50, 100, None) finished!\n",
      "Train AUC: 0.7743435321308948, Valid AUC: 0.7566998233744433, Train S&S: (0.5144053538007827, 0.904471522106214), Valid S&S: (0.5261203096254643, 0.8621997179255971)\n",
      "drf Model Build progress: |███████████████████████████████████████████████| 100%\n",
      "(50, 100, 10) finished!\n",
      "Train AUC: 0.7960010203145936, Valid AUC: 0.7697000387803636, Train S&S: (0.5372138306520219, 0.9057618762639352), Valid S&S: (0.5585060224235482, 0.8495834393039082)\n",
      "drf Model Build progress: |███████████████████████████████████████████████| 100%\n",
      "(50, 100, 50) finished!\n",
      "Train AUC: 0.8028387788252422, Valid AUC: 0.7710630253125943, Train S&S: (0.5599088795205778, 0.8932409914369428), Valid S&S: (0.5660383907806589, 0.8444814378087597)\n",
      "drf Model Build progress: |███████████████████████████████████████████████| 100%\n",
      "(50, 100, 100) finished!\n",
      "Train AUC: 0.8029594884990437, Valid AUC: 0.7706794538253693, Train S&S: (0.5493128154715768, 0.8997884264131046), Valid S&S: (0.5568051650525877, 0.849498662844019)\n",
      "drf Model Build progress: |███████████████████████████████████████████████| 100%\n",
      "(100, 10, None) finished!\n",
      "Train AUC: 0.7979410147592195, Valid AUC: 0.7662644533415492, Train S&S: (0.5573094882507514, 0.8950052170353446), Valid S&S: (0.5619077371654692, 0.8468860064892526)\n",
      "drf Model Build progress: |███████████████████████████████████████████████| 100%\n",
      "(100, 10, 10) finished!\n",
      "Train AUC: 0.7980565633440228, Valid AUC: 0.7667326205796723, Train S&S: (0.5541051477399475, 0.8969807937457869), Valid S&S: (0.5589225589225589, 0.8484659314235509)\n",
      "drf Model Build progress: |███████████████████████████████████████████████| 100%\n",
      "(100, 10, 50) finished!\n",
      "Train AUC: 0.7988056986826425, Valid AUC: 0.7658786494094197, Train S&S: (0.5557025918294043, 0.8957816542785252), Valid S&S: (0.5618730257905515, 0.8464467102880088)\n",
      "drf Model Build progress: |███████████████████████████████████████████████| 100%\n",
      "(100, 10, 100) finished!\n",
      "Train AUC: 0.7982289320538419, Valid AUC: 0.7664386618920852, Train S&S: (0.5556175208423918, 0.8957238108162825), Valid S&S: (0.5619424485403867, 0.8458532750687845)\n",
      "drf Model Build progress: |███████████████████████████████████████████████| 100%\n",
      "(100, 20, None) finished!\n",
      "Train AUC: 0.8007916028809191, Valid AUC: 0.7700373827406942, Train S&S: (0.5421763048944175, 0.9034970822422795), Valid S&S: (0.5541671005588531, 0.8525429084491303)\n",
      "drf Model Build progress: |███████████████████████████████████████████████| 100%\n",
      "(100, 20, 10) finished!\n",
      "Train AUC: 0.8042198308211461, Valid AUC: 0.7721881043780281, Train S&S: (0.5539066487702516, 0.8978439961823315), Valid S&S: (0.5637474400360998, 0.8466316771095851)\n",
      "drf Model Build progress: |███████████████████████████████████████████████| 100%\n",
      "(100, 20, 50) finished!\n",
      "Train AUC: 0.8054348030268631, Valid AUC: 0.772479136275504, Train S&S: (0.5481785356447435, 0.9008741037044288), Valid S&S: (0.5597556319205804, 0.8481576533875903)\n",
      "drf Model Build progress: |███████████████████████████████████████████████| 100%\n",
      "(100, 20, 100) finished!\n",
      "Train AUC: 0.8047710167845961, Valid AUC: 0.7717161703405669, Train S&S: (0.5511465678582906, 0.898838458783196), Valid S&S: (0.5594779409212399, 0.8476721154809522)\n",
      "drf Model Build progress: |███████████████████████████████████████████████| 100%\n",
      "(100, 50, None) finished!\n",
      "Train AUC: 0.7852128761961593, Valid AUC: 0.7617418471407029, Train S&S: (0.5196230410042157, 0.909830941357853), Valid S&S: (0.5286889513693638, 0.8654520512049818)\n",
      "drf Model Build progress: |███████████████████████████████████████████████| 100%\n",
      "(100, 50, 10) finished!\n",
      "Train AUC: 0.801149731890906, Valid AUC: 0.7715004544996994, Train S&S: (0.5505038092897517, 0.8993234539666154), Valid S&S: (0.5537505640598425, 0.8532134131773447)\n",
      "drf Model Build progress: |███████████████████████████████████████████████| 100%\n",
      "(100, 50, 50) finished!\n",
      "Train AUC: 0.8052068061297568, Valid AUC: 0.7724325605728106, Train S&S: (0.5486227952435866, 0.9006249318670757), Valid S&S: (0.5660383907806589, 0.8439573651476266)\n",
      "drf Model Build progress: |███████████████████████████████████████████████| 100%\n",
      "(100, 50, 100) finished!\n",
      "Train AUC: 0.8048919526469845, Valid AUC: 0.7717411364046156, Train S&S: (0.5482352496360853, 0.9006138081243368), Valid S&S: (0.5621160054149745, 0.8458224472651885)\n",
      "drf Model Build progress: |███████████████████████████████████████████████| 100%\n",
      "(100, 100, None) finished!\n",
      "Train AUC: 0.7851944263594386, Valid AUC: 0.7617180500003223, Train S&S: (0.5196041363404352, 0.9098331661064009), Valid S&S: (0.5362213197264744, 0.8604502400715205)\n",
      "drf Model Build progress: |███████████████████████████████████████████████| 100%\n",
      "(100, 100, 10) finished!\n",
      "Train AUC: 0.8011509984818034, Valid AUC: 0.7714992043840567, Train S&S: (0.5505038092897517, 0.8993256787151632), Valid S&S: (0.5537505640598425, 0.8532057062264456)\n",
      "drf Model Build progress: |███████████████████████████████████████████████| 100%\n",
      "(100, 100, 50) finished!\n",
      "Train AUC: 0.8052068061297568, Valid AUC: 0.7724325605728106, Train S&S: (0.5486227952435866, 0.9006249318670757), Valid S&S: (0.5660383907806589, 0.8439573651476266)\n",
      "drf Model Build progress: |███████████████████████████████████████████████| 100%\n",
      "(100, 100, 100) finished!\n",
      "Train AUC: 0.8048919526469845, Valid AUC: 0.7717411364046156, Train S&S: (0.5482352496360853, 0.9006138081243368), Valid S&S: (0.5621160054149745, 0.8458224472651885)\n",
      "drf Model Build progress: |███████████████████████████████████████████████| 100%\n",
      "(200, 10, None) finished!\n",
      "Train AUC: 0.800238159878797, Valid AUC: 0.7678903805518601, Train S&S: (0.5518838497457322, 0.8986960748761371), Valid S&S: (0.5527786455621507, 0.8529744976994752)\n",
      "drf Model Build progress: |███████████████████████████████████████████████| 100%\n",
      "(200, 10, 10) finished!\n",
      "Train AUC: 0.8004158506340522, Valid AUC: 0.768172583791848, Train S&S: (0.5577632001814847, 0.8950163407780836), Valid S&S: (0.5595126522961574, 0.8482886715528736)\n",
      "drf Model Build progress: |███████████████████████████████████████████████| 100%\n",
      "(200, 10, 50) finished!\n",
      "Train AUC: 0.8002739703940488, Valid AUC: 0.7673223652424339, Train S&S: (0.5499744787038963, 0.8996593909973325), Valid S&S: (0.5618730257905515, 0.8466625049131812)\n",
      "drf Model Build progress: |███████████████████████████████████████████████| 100%\n",
      "(200, 10, 100) finished!\n",
      "Train AUC: 0.800407099211301, Valid AUC: 0.7679147247683136, Train S&S: (0.552384823335917, 0.8980508977972764), Valid S&S: (0.562706098788573, 0.8454910483765308)\n",
      "drf Model Build progress: |███████████████████████████████████████████████| 100%\n",
      "(200, 20, None) finished!\n",
      "Train AUC: 0.8042655279709836, Valid AUC: 0.7719548116116028, Train S&S: (0.5497759797342004, 0.900306792824741), Valid S&S: (0.556944010552258, 0.850909034858539)\n",
      "drf Model Build progress: |███████████████████████████████████████████████| 100%\n",
      "(200, 20, 10) finished!\n",
      "Train AUC: 0.8063652595253678, Valid AUC: 0.7736229099603015, Train S&S: (0.5546628353214738, 0.8979975038321294), Valid S&S: (0.5584713110486307, 0.850015028554253)\n",
      "drf Model Build progress: |███████████████████████████████████████████████| 100%\n",
      "(200, 20, 50) finished!\n",
      "Train AUC: 0.8066345655747068, Valid AUC: 0.7731168885356687, Train S&S: (0.5506172372724351, 0.8997328076994098), Valid S&S: (0.5616994689159638, 0.8468937134401516)\n",
      "drf Model Build progress: |███████████████████████████████████████████████| 100%\n",
      "(200, 20, 100) finished!\n",
      "Train AUC: 0.8061554578976765, Valid AUC: 0.772397530850447, Train S&S: (0.5527345596158573, 0.8979552336097213), Valid S&S: (0.5590614044222292, 0.8479803935169129)\n",
      "drf Model Build progress: |███████████████████████████████████████████████| 100%\n",
      "(200, 50, None) finished!\n",
      "Train AUC: 0.792513795888674, Valid AUC: 0.7655133457152138, Train S&S: (0.526551600279789, 0.9098576383404265), Valid S&S: (0.5499323128189108, 0.8530438602575663)\n",
      "drf Model Build progress: |███████████████████████████████████████████████| 100%\n",
      "(200, 50, 10) finished!\n",
      "Train AUC: 0.8045172393303938, Valid AUC: 0.7734428309758551, Train S&S: (0.5499272170444449, 0.900860755213142), Valid S&S: (0.5588878475476413, 0.8498840103889698)\n",
      "drf Model Build progress: |███████████████████████████████████████████████| 100%\n",
      "(200, 50, 50) finished!\n",
      "Train AUC: 0.8066510590252499, Valid AUC: 0.7732384753234678, Train S&S: (0.5482919636274269, 0.9011699952612856), Valid S&S: (0.5663160817799993, 0.8439573651476266)\n",
      "drf Model Build progress: |███████████████████████████████████████████████| 100%\n",
      "(200, 50, 100) finished!\n",
      "Train AUC: 0.8063630800734188, Valid AUC: 0.7724785449250592, Train S&S: (0.5483108682912075, 0.9005982348845022), Valid S&S: (0.5590614044222292, 0.8479881004678119)\n",
      "drf Model Build progress: |███████████████████████████████████████████████| 100%\n",
      "(200, 100, None) finished!\n",
      "Train AUC: 0.7924807729542906, Valid AUC: 0.765480056069289, Train S&S: (0.5265988619392404, 0.9098109186209229), Valid S&S: (0.550383560692839, 0.8528126517305958)\n",
      "drf Model Build progress: |███████████████████████████████████████████████| 100%\n",
      "(200, 100, 10) finished!\n",
      "Train AUC: 0.8045208457093208, Valid AUC: 0.7734360056333661, Train S&S: (0.5499083123806643, 0.9008629799616898), Valid S&S: (0.5588878475476413, 0.8498840103889698)\n",
      "drf Model Build progress: |███████████████████████████████████████████████| 100%\n",
      "(200, 100, 50) finished!\n",
      "Train AUC: 0.8066510590252499, Valid AUC: 0.7732384753234678, Train S&S: (0.5482919636274269, 0.9011699952612856), Valid S&S: (0.5663160817799993, 0.8439573651476266)\n",
      "drf Model Build progress: |███████████████████████████████████████████████| 100%\n",
      "(200, 100, 100) finished!\n",
      "Train AUC: 0.8063630800734188, Valid AUC: 0.7724785449250592, Train S&S: (0.5483108682912075, 0.9005982348845022), Valid S&S: (0.5590614044222292, 0.8479881004678119)\n"
     ]
    }
   ],
   "source": [
    "n_trees = [50, 100, 200]\n",
    "max_depth = [10, 20, 50, 100]\n",
    "min_rows = [None, 10, 50, 100]\n",
    "\n",
    "for i in itertools.product(n_trees,max_depth,min_rows):\n",
    "    \n",
    "    if i not in [i[0] for i in grid_search]:\n",
    "    \n",
    "        rf = H2ORandomForestEstimator(\n",
    "        model_id = \"rf\",\n",
    "        ntrees=i[0],\n",
    "        max_depth = i[1],\n",
    "        min_rows = i[2],\n",
    "        stopping_rounds=2,\n",
    "        seed=1000000)\n",
    "\n",
    "        rf.train(train_df.drop('injured_or_killed').columns, 'injured_or_killed',\\\n",
    "                 training_frame=train_df, validation_frame=val_df)\n",
    "\n",
    "        results = [i,\\\n",
    "                    rf.auc(train=True),\\\n",
    "                    rf.auc(valid=True),\\\n",
    "                    score_confusion(rf.confusion_matrix(train=True).to_list()),\\\n",
    "                    score_confusion(rf.confusion_matrix(valid=True).to_list())]\n",
    "        print (\"%s finished!\" % (str(i)))\n",
    "        print (\"Train AUC: %s, Valid AUC: %s, Train S&S: %s, Valid S&S: %s\" % (results[1], results[2], results[3], results[4]))\n",
    "        \n",
    "        grid_search.append(results)   \n",
    "        "
   ]
  },
  {
   "cell_type": "code",
   "execution_count": 85,
   "metadata": {
    "collapsed": false
   },
   "outputs": [
    {
     "data": {
      "text/plain": [
       "[(200, 20, 10),\n",
       " 0.8063652595253678,\n",
       " 0.7736229099603015,\n",
       " (0.5546628353214738, 0.8979975038321294),\n",
       " (0.5584713110486307, 0.850015028554253)]"
      ]
     },
     "execution_count": 85,
     "metadata": {},
     "output_type": "execute_result"
    }
   ],
   "source": [
    "grid_search[np.argmax([i[2] for i in grid_search])]"
   ]
  },
  {
   "cell_type": "code",
   "execution_count": 86,
   "metadata": {
    "collapsed": false
   },
   "outputs": [
    {
     "data": {
      "text/plain": [
       "[[(50, 10, None),\n",
       "  0.7964105178756552,\n",
       "  0.7660665893018703,\n",
       "  (0.5537270544643363, 0.896978568997239),\n",
       "  (0.556944010552258, 0.8502693579339206)],\n",
       " [(50, 10, 10),\n",
       "  0.7970170234669708,\n",
       "  0.766704565876601,\n",
       "  (0.555352855549464, 0.8958951164544627),\n",
       "  (0.5517720156895415, 0.8536681232803865)],\n",
       " [(50, 10, 50),\n",
       "  0.7964908410998762,\n",
       "  0.76384546954093,\n",
       "  (0.5513167098323156, 0.8982244281840045),\n",
       "  (0.5580547745496199, 0.8490747805445732)],\n",
       " [(50, 10, 100),\n",
       "  0.7960537976866242,\n",
       "  0.7638900979738261,\n",
       "  (0.552450989659149, 0.8977349835034896),\n",
       "  (0.5663507931549169, 0.8431250144505329)],\n",
       " [(50, 20, None),\n",
       "  0.7953462248268284,\n",
       "  0.7675644933543188,\n",
       "  (0.5345860823865247, 0.9049809895236591),\n",
       "  (0.5548613280572043, 0.8515332978813592)],\n",
       " [(50, 20, 10),\n",
       "  0.8009010937711374,\n",
       "  0.7715020612179854,\n",
       "  (0.5436225116736298, 0.9032479104049265),\n",
       "  (0.5656565656565656, 0.8448359575501144)],\n",
       " [(50, 20, 50),\n",
       "  0.8032141693827634,\n",
       "  0.7711867880988179,\n",
       "  (0.546656710210409, 0.9014058186073519),\n",
       "  (0.5657259884064008, 0.8446586976794371)],\n",
       " [(50, 20, 100),\n",
       "  0.8029866976759572,\n",
       "  0.7706735348367852,\n",
       "  (0.5512694481728643, 0.8986471304080856),\n",
       "  (0.5564233399284946, 0.8497606991745855)],\n",
       " [(50, 50, None),\n",
       "  0.7743962525457119,\n",
       "  0.7567390440473009,\n",
       "  (0.5142730211543187, 0.9045716357908647),\n",
       "  (0.5261203096254643, 0.8622536665818902)],\n",
       " [(50, 50, 10),\n",
       "  0.7960013832656831,\n",
       "  0.7697010485303086,\n",
       "  (0.5372043783201316, 0.9057618762639352),\n",
       "  (0.5585060224235482, 0.8495834393039082)],\n",
       " [(50, 50, 50),\n",
       "  0.8028387788252422,\n",
       "  0.7710630253125943,\n",
       "  (0.5599088795205778, 0.8932409914369428),\n",
       "  (0.5660383907806589, 0.8444814378087597)],\n",
       " [(50, 50, 100),\n",
       "  0.8029594884990437,\n",
       "  0.7706794538253693,\n",
       "  (0.5493128154715768, 0.8997884264131046),\n",
       "  (0.5568051650525877, 0.849498662844019)],\n",
       " [(50, 100, None),\n",
       "  0.7743435321308948,\n",
       "  0.7566998233744433,\n",
       "  (0.5144053538007827, 0.904471522106214),\n",
       "  (0.5261203096254643, 0.8621997179255971)],\n",
       " [(50, 100, 10),\n",
       "  0.7960010203145936,\n",
       "  0.7697000387803636,\n",
       "  (0.5372138306520219, 0.9057618762639352),\n",
       "  (0.5585060224235482, 0.8495834393039082)],\n",
       " [(50, 100, 50),\n",
       "  0.8028387788252422,\n",
       "  0.7710630253125943,\n",
       "  (0.5599088795205778, 0.8932409914369428),\n",
       "  (0.5660383907806589, 0.8444814378087597)],\n",
       " [(50, 100, 100),\n",
       "  0.8029594884990437,\n",
       "  0.7706794538253693,\n",
       "  (0.5493128154715768, 0.8997884264131046),\n",
       "  (0.5568051650525877, 0.849498662844019)],\n",
       " [(100, 10, None),\n",
       "  0.7979410147592195,\n",
       "  0.7662644533415492,\n",
       "  (0.5573094882507514, 0.8950052170353446),\n",
       "  (0.5619077371654692, 0.8468860064892526)],\n",
       " [(100, 10, 10),\n",
       "  0.7980565633440228,\n",
       "  0.7667326205796723,\n",
       "  (0.5541051477399475, 0.8969807937457869),\n",
       "  (0.5589225589225589, 0.8484659314235509)],\n",
       " [(100, 10, 50),\n",
       "  0.7988056986826425,\n",
       "  0.7658786494094197,\n",
       "  (0.5557025918294043, 0.8957816542785252),\n",
       "  (0.5618730257905515, 0.8464467102880088)],\n",
       " [(100, 10, 100),\n",
       "  0.7982289320538419,\n",
       "  0.7664386618920852,\n",
       "  (0.5556175208423918, 0.8957238108162825),\n",
       "  (0.5619424485403867, 0.8458532750687845)],\n",
       " [(100, 20, None),\n",
       "  0.8007916028809191,\n",
       "  0.7700373827406942,\n",
       "  (0.5421763048944175, 0.9034970822422795),\n",
       "  (0.5541671005588531, 0.8525429084491303)],\n",
       " [(100, 20, 10),\n",
       "  0.8042198308211461,\n",
       "  0.7721881043780281,\n",
       "  (0.5539066487702516, 0.8978439961823315),\n",
       "  (0.5637474400360998, 0.8466316771095851)],\n",
       " [(100, 20, 50),\n",
       "  0.8054348030268631,\n",
       "  0.772479136275504,\n",
       "  (0.5481785356447435, 0.9008741037044288),\n",
       "  (0.5597556319205804, 0.8481576533875903)],\n",
       " [(100, 20, 100),\n",
       "  0.8047710167845961,\n",
       "  0.7717161703405669,\n",
       "  (0.5511465678582906, 0.898838458783196),\n",
       "  (0.5594779409212399, 0.8476721154809522)],\n",
       " [(100, 50, None),\n",
       "  0.7852128761961593,\n",
       "  0.7617418471407029,\n",
       "  (0.5196230410042157, 0.909830941357853),\n",
       "  (0.5286889513693638, 0.8654520512049818)],\n",
       " [(100, 50, 10),\n",
       "  0.801149731890906,\n",
       "  0.7715004544996994,\n",
       "  (0.5505038092897517, 0.8993234539666154),\n",
       "  (0.5537505640598425, 0.8532134131773447)],\n",
       " [(100, 50, 50),\n",
       "  0.8052068061297568,\n",
       "  0.7724325605728106,\n",
       "  (0.5486227952435866, 0.9006249318670757),\n",
       "  (0.5660383907806589, 0.8439573651476266)],\n",
       " [(100, 50, 100),\n",
       "  0.8048919526469845,\n",
       "  0.7717411364046156,\n",
       "  (0.5482352496360853, 0.9006138081243368),\n",
       "  (0.5621160054149745, 0.8458224472651885)],\n",
       " [(100, 100, None),\n",
       "  0.7851944263594386,\n",
       "  0.7617180500003223,\n",
       "  (0.5196041363404352, 0.9098331661064009),\n",
       "  (0.5362213197264744, 0.8604502400715205)],\n",
       " [(100, 100, 10),\n",
       "  0.8011509984818034,\n",
       "  0.7714992043840567,\n",
       "  (0.5505038092897517, 0.8993256787151632),\n",
       "  (0.5537505640598425, 0.8532057062264456)],\n",
       " [(100, 100, 50),\n",
       "  0.8052068061297568,\n",
       "  0.7724325605728106,\n",
       "  (0.5486227952435866, 0.9006249318670757),\n",
       "  (0.5660383907806589, 0.8439573651476266)],\n",
       " [(100, 100, 100),\n",
       "  0.8048919526469845,\n",
       "  0.7717411364046156,\n",
       "  (0.5482352496360853, 0.9006138081243368),\n",
       "  (0.5621160054149745, 0.8458224472651885)],\n",
       " [(200, 10, None),\n",
       "  0.800238159878797,\n",
       "  0.7678903805518601,\n",
       "  (0.5518838497457322, 0.8986960748761371),\n",
       "  (0.5527786455621507, 0.8529744976994752)],\n",
       " [(200, 10, 10),\n",
       "  0.8004158506340522,\n",
       "  0.768172583791848,\n",
       "  (0.5577632001814847, 0.8950163407780836),\n",
       "  (0.5595126522961574, 0.8482886715528736)],\n",
       " [(200, 10, 50),\n",
       "  0.8002739703940488,\n",
       "  0.7673223652424339,\n",
       "  (0.5499744787038963, 0.8996593909973325),\n",
       "  (0.5618730257905515, 0.8466625049131812)],\n",
       " [(200, 10, 100),\n",
       "  0.800407099211301,\n",
       "  0.7679147247683136,\n",
       "  (0.552384823335917, 0.8980508977972764),\n",
       "  (0.562706098788573, 0.8454910483765308)],\n",
       " [(200, 20, None),\n",
       "  0.8042655279709836,\n",
       "  0.7719548116116028,\n",
       "  (0.5497759797342004, 0.900306792824741),\n",
       "  (0.556944010552258, 0.850909034858539)],\n",
       " [(200, 20, 10),\n",
       "  0.8063652595253678,\n",
       "  0.7736229099603015,\n",
       "  (0.5546628353214738, 0.8979975038321294),\n",
       "  (0.5584713110486307, 0.850015028554253)],\n",
       " [(200, 20, 50),\n",
       "  0.8066345655747068,\n",
       "  0.7731168885356687,\n",
       "  (0.5506172372724351, 0.8997328076994098),\n",
       "  (0.5616994689159638, 0.8468937134401516)],\n",
       " [(200, 20, 100),\n",
       "  0.8061554578976765,\n",
       "  0.772397530850447,\n",
       "  (0.5527345596158573, 0.8979552336097213),\n",
       "  (0.5590614044222292, 0.8479803935169129)],\n",
       " [(200, 50, None),\n",
       "  0.792513795888674,\n",
       "  0.7655133457152138,\n",
       "  (0.526551600279789, 0.9098576383404265),\n",
       "  (0.5499323128189108, 0.8530438602575663)],\n",
       " [(200, 50, 10),\n",
       "  0.8045172393303938,\n",
       "  0.7734428309758551,\n",
       "  (0.5499272170444449, 0.900860755213142),\n",
       "  (0.5588878475476413, 0.8498840103889698)],\n",
       " [(200, 50, 50),\n",
       "  0.8066510590252499,\n",
       "  0.7732384753234678,\n",
       "  (0.5482919636274269, 0.9011699952612856),\n",
       "  (0.5663160817799993, 0.8439573651476266)],\n",
       " [(200, 50, 100),\n",
       "  0.8063630800734188,\n",
       "  0.7724785449250592,\n",
       "  (0.5483108682912075, 0.9005982348845022),\n",
       "  (0.5590614044222292, 0.8479881004678119)],\n",
       " [(200, 100, None),\n",
       "  0.7924807729542906,\n",
       "  0.765480056069289,\n",
       "  (0.5265988619392404, 0.9098109186209229),\n",
       "  (0.550383560692839, 0.8528126517305958)],\n",
       " [(200, 100, 10),\n",
       "  0.8045208457093208,\n",
       "  0.7734360056333661,\n",
       "  (0.5499083123806643, 0.9008629799616898),\n",
       "  (0.5588878475476413, 0.8498840103889698)],\n",
       " [(200, 100, 50),\n",
       "  0.8066510590252499,\n",
       "  0.7732384753234678,\n",
       "  (0.5482919636274269, 0.9011699952612856),\n",
       "  (0.5663160817799993, 0.8439573651476266)],\n",
       " [(200, 100, 100),\n",
       "  0.8063630800734188,\n",
       "  0.7724785449250592,\n",
       "  (0.5483108682912075, 0.9005982348845022),\n",
       "  (0.5590614044222292, 0.8479881004678119)]]"
      ]
     },
     "execution_count": 86,
     "metadata": {},
     "output_type": "execute_result"
    }
   ],
   "source": [
    "grid_search"
   ]
  },
  {
   "cell_type": "code",
   "execution_count": 96,
   "metadata": {
    "collapsed": false
   },
   "outputs": [],
   "source": [
    "results = pd.DataFrame(grid_search)\n",
    "results.to_csv(\"tmp.csv\")"
   ]
  },
  {
   "cell_type": "markdown",
   "metadata": {},
   "source": [
    "## Sklearn with 1 hot\n"
   ]
  },
  {
   "cell_type": "code",
   "execution_count": 100,
   "metadata": {
    "collapsed": true
   },
   "outputs": [],
   "source": [
    "with open(path+\"collisions_1hot.pkl\", 'rb') as infile:\n",
    "    df = pickle.load(infile)"
   ]
  },
  {
   "cell_type": "code",
   "execution_count": 102,
   "metadata": {
    "collapsed": false
   },
   "outputs": [],
   "source": [
    "df = df.drop(['injured', 'killed'], axis=1)"
   ]
  },
  {
   "cell_type": "code",
   "execution_count": 103,
   "metadata": {
    "collapsed": true
   },
   "outputs": [],
   "source": [
    "X_train = df.drop(['injured_or_killed'], axis=1).iloc[train_indices[0]:train_indices[1]]\n",
    "y_train = df['injured_or_killed'].iloc[train_indices[0]:train_indices[1]]\n",
    "X_val = df.drop(['injured_or_killed'], axis=1).iloc[val_indices[0]:val_indices[1]]\n",
    "y_val = df['injured_or_killed'][val_indices[0]:val_indices[1]]\n",
    "X_test = df.drop(['injured_or_killed'], axis=1).iloc[test_indices[0]:test_indices[1]]\n",
    "y_test = df['injured_or_killed'][test_indices[0]:test_indices[1]]"
   ]
  },
  {
   "cell_type": "code",
   "execution_count": null,
   "metadata": {
    "collapsed": true
   },
   "outputs": [],
   "source": [
    "rf = RandomForestClassifier(n_estimators=i[0], max_depth=20, min_samples_leaf=10)\n",
    "rf.fit(X_train, y_train)"
   ]
  },
  {
   "cell_type": "code",
   "execution_count": 98,
   "metadata": {
    "collapsed": true
   },
   "outputs": [],
   "source": [
    "sk_grid_search = []"
   ]
  },
  {
   "cell_type": "code",
   "execution_count": 108,
   "metadata": {
    "collapsed": false
   },
   "outputs": [
    {
     "name": "stdout",
     "output_type": "stream",
     "text": [
      "(50, 10, 1) finished!\n",
      "Train AUC: 0.557355989745, Valid AUC: 0.575971714236, Train S&S: (0.12092482187000145, 0.99378715761908132), Valid S&S: (0.1660598179453836, 0.98588361052598483)\n",
      "(50, 10, 10) finished!\n",
      "Train AUC: 0.545554210649, Valid AUC: 0.569975602201, Train S&S: (0.097794580970384376, 0.99331384032840253), Valid S&S: (0.15513654096228868, 0.9848146634388657)\n",
      "(50, 10, 50) finished!\n",
      "Train AUC: 0.562150011028, Valid AUC: 0.587469687239, Train S&S: (0.13322669768794532, 0.99107332436832052), Valid S&S: (0.1936931079323797, 0.98124626654510017)\n",
      "(50, 10, 100) finished!\n",
      "Train AUC: 0.540441178842, Valid AUC: 0.560432125928, Train S&S: (0.085987106781057629, 0.99489525090239928), Valid S&S: (0.13211963589076722, 0.98874461596503915)\n",
      "(50, 20, 1) finished!\n",
      "Train AUC: 0.675076714515, Valid AUC: 0.661946506815, Train S&S: (0.36010857447530414, 0.99004485455446245), Valid S&S: (0.36300390117035108, 0.96088911245952147)\n",
      "(50, 20, 10) finished!\n",
      "Train AUC: 0.637940961162, Valid AUC: 0.65860442306, Train S&S: (0.29376181474480151, 0.98212010758015433), Valid S&S: (0.35669700910273083, 0.96051183701700882)\n",
      "(50, 20, 50) finished!\n",
      "Train AUC: 0.624642173136, Valid AUC: 0.659806878147, Train S&S: (0.27147496485870776, 0.97780938141411278), Valid S&S: (0.3609882964889467, 0.95862545980444558)\n",
      "(50, 20, 100) finished!\n",
      "Train AUC: 0.609664002739, Valid AUC: 0.646289684293, Train S&S: (0.23983326062721147, 0.97949474485101562), Valid S&S: (0.33101430429128736, 0.96156506429402333)\n",
      "(50, 50, 1) finished!\n",
      "Train AUC: 0.994984971787, Valid AUC: 0.674921256834, Train S&S: (0.99000533178226935, 0.9999646117913511), Valid S&S: (0.39726918075422629, 0.95257333291413837)\n",
      "(50, 50, 10) finished!\n",
      "Train AUC: 0.66620117213, Valid AUC: 0.676461392453, Train S&S: (0.35039503659541466, 0.98200730766508604), Valid S&S: (0.39915474642392718, 0.95376803848209513)\n",
      "(50, 50, 50) finished!\n",
      "Train AUC: 0.632529190409, Valid AUC: 0.666626361741, Train S&S: (0.28875963356114587, 0.97629874725741383), Valid S&S: (0.37704811443433028, 0.95620460904832272)\n",
      "(50, 50, 100) finished!\n",
      "Train AUC: 0.618334175855, Valid AUC: 0.655533487631, Train S&S: (0.25884348795501916, 0.97782486375539668), Valid S&S: (0.35110533159947982, 0.95996164366334458)\n",
      "(50, 100, 1) finished!\n",
      "Train AUC: 0.998278347333, Valid AUC: 0.674508999193, Train S&S: (0.99658765934758375, 0.9999690353174322), Valid S&S: (0.39609882964889465, 0.95291916873644167)\n",
      "(50, 100, 10) finished!\n",
      "Train AUC: 0.665357757842, Valid AUC: 0.674728744353, Train S&S: (0.34883427851291743, 0.98188123717177433), Valid S&S: (0.39512353706111836, 0.9543339516458641)\n",
      "(50, 100, 50) finished!\n",
      "Train AUC: 0.625714246115, Valid AUC: 0.658776234043, Train S&S: (0.27305511124036647, 0.97837338098945437), Valid S&S: (0.35806241872561767, 0.95949004936020377)\n",
      "(50, 100, 100) finished!\n",
      "Train AUC: 0.615605883414, Valid AUC: 0.651674126047, Train S&S: (0.2528428093645485, 0.97836895746337316), Valid S&S: (0.34297789336801038, 0.96037035872606658)\n",
      "(100, 10, 1) finished!\n",
      "Train AUC: 0.547212218326, Valid AUC: 0.572698820131, Train S&S: (0.10220541902961562, 0.99221901762332787), Valid S&S: (0.16443433029908971, 0.98096330996321568)\n",
      "(100, 10, 10) finished!\n",
      "Train AUC: 0.563120037574, Valid AUC: 0.589044436081, Train S&S: (0.13507828025786439, 0.99116179488994272), Valid S&S: (0.1972041612483745, 0.98088471091269214)\n",
      "(100, 10, 50) finished!\n",
      "Train AUC: 0.546458331127, Valid AUC: 0.569789842697, Train S&S: (0.099529833745334695, 0.99338682850874094), Valid S&S: (0.15435630689206761, 0.9852233785015877)\n",
      "(100, 10, 100) finished!\n",
      "Train AUC: 0.524095779628, Valid AUC: 0.53900222052, Train S&S: (0.051223886384566916, 0.9969676728713992), Valid S&S: (0.085565669700910271, 0.9924387713396422)\n",
      "(100, 20, 1) finished!\n",
      "Train AUC: 0.676495141567, Valid AUC: 0.662132967475, Train S&S: (0.36237700547719454, 0.99061327765588503), Valid S&S: (0.36430429128738623, 0.95996164366334458)\n",
      "(100, 20, 10) finished!\n",
      "Train AUC: 0.643761805536, Valid AUC: 0.663680188252, Train S&S: (0.30622849110561778, 0.98129511996602736), Valid S&S: (0.36853055916775035, 0.95882981733580663)\n",
      "(100, 20, 50) finished!\n",
      "Train AUC: 0.617665346591, Valid AUC: 0.650447021112, Train S&S: (0.25576074838834761, 0.97956994479439452), Valid S&S: (0.33862158647594276, 0.96227245574873455)\n",
      "(100, 20, 100) finished!\n",
      "Train AUC: 0.609158022883, Valid AUC: 0.643603588827, Train S&S: (0.23797198390771171, 0.98034406185858869), Valid S&S: (0.32301690507152148, 0.96419027258150725)\n",
      "(100, 50, 1) finished!\n",
      "Train AUC: 0.998497148031, Valid AUC: 0.675914409497, Train S&S: (0.99701420192913581, 0.999980094132635), Valid S&S: (0.39934980494148242, 0.95247901405351021)\n",
      "(100, 50, 10) finished!\n",
      "Train AUC: 0.665853852744, Valid AUC: 0.676610730649, Train S&S: (0.34940623333818038, 0.98230147214947983), Valid S&S: (0.39915474642392718, 0.95406671487408434)\n",
      "(100, 50, 50) finished!\n",
      "Train AUC: 0.631429704059, Valid AUC: 0.663600113297, Train S&S: (0.28637487276428675, 0.97648453535282043), Valid S&S: (0.37035110533159948, 0.95684912126261512)\n",
      "(100, 50, 100) finished!\n",
      "Train AUC: 0.613173850848, Valid AUC: 0.649096593347, Train S&S: (0.24747225049682517, 0.97887545119966024), Valid S&S: (0.33680104031209362, 0.96139214638287174)\n",
      "(100, 100, 1) finished!\n",
      "Train AUC: 0.999742163919, Valid AUC: 0.67827156947, Train S&S: (0.99951529252096361, 0.9999690353174322), Valid S&S: (0.40312093628088425, 0.95342220265979183)\n",
      "(100, 100, 10) finished!\n",
      "Train AUC: 0.666540443169, Valid AUC: 0.674319328134, Train S&S: (0.35074402598032089, 0.98233686035812862), Valid S&S: (0.39460338101430431, 0.95403527525387488)\n",
      "(100, 100, 50) finished!\n",
      "Train AUC: 0.628211737926, Valid AUC: 0.66042777385, Train S&S: (0.27865832969802723, 0.97776514615330168), Valid S&S: (0.36241872561768529, 0.95843682208318925)\n",
      "(100, 100, 100) finished!\n",
      "Train AUC: 0.614487032038, Valid AUC: 0.650634182929, Train S&S: (0.25029324802481701, 0.97868081605209145), Valid S&S: (0.34044213263979195, 0.96082623321910277)\n",
      "(200, 10, 1) finished!\n",
      "Train AUC: 0.57287258664, Valid AUC: 0.596353410849, Train S&S: (0.15423391982938298, 0.99151125345035029), Valid S&S: (0.21196358907672302, 0.98074323262174989)\n",
      "(200, 10, 10) finished!\n",
      "Train AUC: 0.545278467307, Valid AUC: 0.568133616587, Train S&S: (0.096621588871116285, 0.99393534574279852), Valid S&S: (0.15162548764629388, 0.984641745527714)\n",
      "(200, 10, 50) finished!\n",
      "Train AUC: 0.550538867103, Valid AUC: 0.579292912516, Train S&S: (0.11010615093790897, 0.99097158326845491), Valid S&S: (0.17873862158647594, 0.97984720344578236)\n",
      "(200, 10, 100) finished!\n",
      "Train AUC: 0.545353625311, Valid AUC: 0.572444793928, Train S&S: (0.099151761911686301, 0.99155548871116139), Valid S&S: (0.16475942782834851, 0.98013016002766684)\n",
      "(200, 20, 1) finished!\n",
      "Train AUC: 0.679012067303, Valid AUC: 0.664773748391, Train S&S: (0.3673113276137851, 0.99071280699271003), Valid S&S: (0.37002600780234068, 0.95952148898041312)\n",
      "(200, 20, 10) finished!\n",
      "Train AUC: 0.640608875099, Valid AUC: 0.659545065629, Train S&S: (0.29873491347971498, 0.98248283671880532), Valid S&S: (0.35845253576072822, 0.96063759549784633)\n",
      "(200, 20, 50) finished!\n",
      "Train AUC: 0.617270827103, Valid AUC: 0.651065776551, Train S&S: (0.25470408608404826, 0.97983756812230161), Valid S&S: (0.3399219765929779, 0.96220957650831573)\n",
      "(200, 20, 100) finished!\n",
      "Train AUC: 0.609989696945, Valid AUC: 0.644944680782, Train S&S: (0.23999806117008385, 0.9799813327199377), Valid S&S: (0.32665799739921975, 0.9632313641651209)\n",
      "(200, 50, 1) finished!\n",
      "Train AUC: 0.999195126801, Valid AUC: 0.680420755742, Train S&S: (0.99841015946876055, 0.999980094132635), Valid S&S: (0.40858257477243171, 0.95225893671204453)\n",
      "(200, 50, 10) finished!\n",
      "Train AUC: 0.66649870173, Valid AUC: 0.676314563498, Train S&S: (0.35059861373660994, 0.98239878972326422), Valid S&S: (0.39882964889466838, 0.95379947810230448)\n",
      "(200, 50, 50) finished!\n",
      "Train AUC: 0.628380679936, Valid AUC: 0.661687425333, Train S&S: (0.27913334302748294, 0.97762801684478728), Valid S&S: (0.36540962288686607, 0.95796522778004845)\n",
      "(200, 50, 100) finished!\n",
      "Train AUC: 0.612938108201, Valid AUC: 0.649433130156, Train S&S: (0.24665794193204402, 0.97921827447094623), Valid S&S: (0.33719115734720417, 0.96167510296475622)\n",
      "(200, 100, 1) finished!\n",
      "Train AUC: 0.999797693505, Valid AUC: 0.678909255117, Train S&S: (0.99962192816635165, 0.9999734588435133), Valid S&S: (0.40461638491547464, 0.95320212531832615)\n",
      "(200, 100, 10) finished!\n",
      "Train AUC: 0.666353853603, Valid AUC: 0.67545646833, Train S&S: (0.35001696476176625, 0.9826907424446174), Valid S&S: (0.3963589076723017, 0.95455402898732988)\n",
      "(200, 100, 50) finished!\n",
      "Train AUC: 0.627407852392, Valid AUC: 0.660720730603, Train S&S: (0.27678735882894673, 0.97802834595512778), Valid S&S: (0.36254876462938884, 0.95889269657622533)\n",
      "(200, 100, 100) finished!\n",
      "Train AUC: 0.61502959816, Valid AUC: 0.650305173845, Train S&S: (0.25119480393582472, 0.97886439238445755), Valid S&S: (0.33907672301690506, 0.96153362467381398)\n"
     ]
    }
   ],
   "source": [
    "n_trees = [50, 100, 200]\n",
    "max_depth = [10, 20, 50, 100]\n",
    "min_rows = [1, 10, 50, 100]\n",
    "\n",
    "for i in itertools.product(n_trees,max_depth,min_rows):\n",
    "    \n",
    "    rf = RandomForestClassifier(n_estimators=i[0], max_depth=i[1], min_samples_leaf=i[2])\n",
    "    rf.fit(X_train, y_train)\n",
    "    \n",
    "    #Train results\n",
    "    t_predictions = rf.predict(X_train)\n",
    "    t_auc = metrics.roc_auc_score(y_train, t_predictions)\n",
    "    t_sens = y_train.astype(int).dot(t_predictions.astype(int))/np.sum(y_train)\n",
    "    t_spec = (y_train == 0).astype(int).dot((t_predictions==0).astype(int))/np.sum((y_train == 0))\n",
    "    \n",
    "    #Val results\n",
    "    v_predictions = rf.predict(X_test)\n",
    "    v_auc = metrics.roc_auc_score(y_test, v_predictions)\n",
    "    v_sens = y_test.astype(int).dot(v_predictions.astype(int))/np.sum(y_test)\n",
    "    v_spec = (y_test == 0).astype(int).dot((v_predictions==0).astype(int))/np.sum((y_test == 0))\n",
    "    \n",
    "    results = [i,\\\n",
    "                t_auc,\\\n",
    "                v_auc,\\\n",
    "                (t_sens, t_spec),\\\n",
    "                (v_sens, v_spec)]\n",
    "    \n",
    "    \n",
    "    print (\"%s finished!\" % (str(i)))\n",
    "    print (\"Train AUC: %s, Valid AUC: %s, Train S&S: %s, Valid S&S: %s\" %\\\n",
    "           (results[1], results[2], results[3], results[4]))\n",
    "    \n",
    "    sk_grid_search.append(results)"
   ]
  },
  {
   "cell_type": "code",
   "execution_count": 110,
   "metadata": {
    "collapsed": true
   },
   "outputs": [],
   "source": [
    "results = pd.DataFrame(sk_grid_search)\n",
    "results.to_csv(\"tmp.csv\")"
   ]
  },
  {
   "cell_type": "code",
   "execution_count": null,
   "metadata": {
    "collapsed": true
   },
   "outputs": [],
   "source": [
    "fig = plt.figure(figsize=(14, 10))\n",
    "\n",
    "num_features = 30\n",
    "\n",
    "y_pos = np.arange(num_features)\n",
    "\n",
    "plt.bar(y_pos, rf.varimp(True)['percentage'][:num_features])\n",
    "plt.xticks(y_pos, rf.varimp(True)['variable'][:num_features])\n",
    "fig.autofmt_xdate()"
   ]
  }
 ],
 "metadata": {
  "anaconda-cloud": {},
  "kernelspec": {
   "display_name": "Python [py35]",
   "language": "python",
   "name": "Python [py35]"
  },
  "language_info": {
   "codemirror_mode": {
    "name": "ipython",
    "version": 3
   },
   "file_extension": ".py",
   "mimetype": "text/x-python",
   "name": "python",
   "nbconvert_exporter": "python",
   "pygments_lexer": "ipython3",
   "version": "3.5.2"
  }
 },
 "nbformat": 4,
 "nbformat_minor": 0
}
