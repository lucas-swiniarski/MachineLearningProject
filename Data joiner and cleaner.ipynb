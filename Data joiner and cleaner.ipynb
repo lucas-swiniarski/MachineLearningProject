{
 "cells": [
  {
   "cell_type": "code",
   "execution_count": 1,
   "metadata": {
    "collapsed": false
   },
   "outputs": [],
   "source": [
    "import numpy as np\n",
    "import pandas as pd\n",
    "import pickle\n",
    "import os\n",
    "import datetime\n",
    "import matplotlib.pyplot as plt\n",
    "import csv\n",
    "%matplotlib inline"
   ]
  },
  {
   "cell_type": "code",
   "execution_count": 2,
   "metadata": {
    "collapsed": true
   },
   "outputs": [],
   "source": [
    "#path = \"../../../Google Drive/Data_science/NYU/Machine Learning/ML Project (Collisions)/\" #Joe\n",
    "path = \"../../../../Google Drive/ML Project (Collisions)/\" # Joyce\n",
    "# path = \"\" # Lucas"
   ]
  },
  {
   "cell_type": "code",
   "execution_count": 3,
   "metadata": {
    "collapsed": false
   },
   "outputs": [],
   "source": [
    "df = pd.read_csv(path + \"NYPD_Motor_Vehicle_Collisions.csv\", parse_dates=[['DATE', 'TIME']], infer_datetime_format=True)"
   ]
  },
  {
   "cell_type": "code",
   "execution_count": 4,
   "metadata": {
    "collapsed": false
   },
   "outputs": [],
   "source": [
    "df['DATE_TIME'] = pd.to_numeric(df['DATE_TIME'])\n",
    "df = df.sort_values('DATE_TIME', axis=0, ascending=True)"
   ]
  },
  {
   "cell_type": "markdown",
   "metadata": {},
   "source": [
    "Loop through the directory"
   ]
  },
  {
   "cell_type": "code",
   "execution_count": 5,
   "metadata": {
    "collapsed": false
   },
   "outputs": [],
   "source": [
    "datasets = {}\n",
    "\n",
    "for file in os.listdir(path+\"data_for_joining/\"):\n",
    "    if file.endswith(\".pkl\") and \"injury_avgs\" not in file:\n",
    "        with open(os.path.join(path+\"data_for_joining/\", file), 'rb') as pkl_file:\n",
    "            datasets[file.replace(\".pkl\", \"\")] = pickle.load(pkl_file, encoding='latin1')"
   ]
  },
  {
   "cell_type": "code",
   "execution_count": 6,
   "metadata": {
    "collapsed": false
   },
   "outputs": [
    {
     "name": "stdout",
     "output_type": "stream",
     "text": [
      "311_joined finished!\n",
      "lights finished!\n",
      "traffic_joined_0.03 finished!\n",
      "weather_joined_utm finished!\n",
      "traffic_joined_0.1 finished!\n",
      "daylight_joined finished!\n",
      "subway_joined finished!\n",
      "Bank_Holidays finished!\n",
      "lat_long_inferred finished!\n",
      "traffic_joined_0.3 finished!\n",
      "self finished!\n",
      "traffic_joined_0.06 finished!\n"
     ]
    }
   ],
   "source": [
    "for key, value in datasets.items() :\n",
    "    if \"traffic\" in key:\n",
    "        datasets[key].name = datasets[key].name + '_' + key.split('_')[-1]\n",
    "    df = df.join(datasets[key], on='UNIQUE KEY', how='left', rsuffix=\"_\"+key)\n",
    "    print (\"%s finished!\" % (key))"
   ]
  },
  {
   "cell_type": "code",
   "execution_count": 7,
   "metadata": {
    "collapsed": false
   },
   "outputs": [],
   "source": [
    "df.set_index('UNIQUE KEY', inplace=True)"
   ]
  },
  {
   "cell_type": "markdown",
   "metadata": {},
   "source": [
    "Replace values with inferred lat long values"
   ]
  },
  {
   "cell_type": "code",
   "execution_count": 8,
   "metadata": {
    "collapsed": true
   },
   "outputs": [],
   "source": [
    "inferred_datasets = {}\n",
    "\n",
    "for file in os.listdir(path+\"inferred_lat_long_data/\"):\n",
    "    if file.endswith(\".pkl\"):\n",
    "        with open(os.path.join(path+\"inferred_lat_long_data/\", file), 'rb') as pkl_file:\n",
    "            inferred_datasets[file.replace(\".pkl\", \"\")] = pickle.load(pkl_file, encoding='latin1')"
   ]
  },
  {
   "cell_type": "code",
   "execution_count": 9,
   "metadata": {
    "collapsed": false
   },
   "outputs": [
    {
     "name": "stdout",
     "output_type": "stream",
     "text": [
      "new_lat_long finished!\n",
      "traffic_joined_0.3LATLONGCLEANED finished!\n",
      "311_joined finished!\n",
      "traffic_joined_0.03LATLONGCLEANED finished!\n",
      "weather_joined_utm finished!\n",
      "traffic_joined_0.1LATLONGCLEANED finished!\n",
      "subway_joined finished!\n",
      "traffic_joined_0.06LATLONGCLEANED finished!\n"
     ]
    }
   ],
   "source": [
    "for key, value in inferred_datasets.items():\n",
    "    try:\n",
    "        replace_columns = inferred_datasets[key].columns.values\n",
    "    except:\n",
    "        replace_columns = inferred_datasets[key].name\n",
    "        \n",
    "    df.loc[inferred_datasets[key].index, replace_columns] = inferred_datasets[key]\n",
    "    print (\"%s finished!\" % (key))"
   ]
  },
  {
   "cell_type": "code",
   "execution_count": 10,
   "metadata": {
    "collapsed": false
   },
   "outputs": [],
   "source": [
    "renamed_columns = [x.lower().replace(' ', '_').replace('_bin', '') for x in df.columns.values]\n",
    "    \n",
    "df.columns = renamed_columns"
   ]
  },
  {
   "cell_type": "code",
   "execution_count": 11,
   "metadata": {
    "collapsed": false
   },
   "outputs": [],
   "source": [
    "df.ix[df.longitude[df.longitude < -100].index,'longitude'] = np.nan"
   ]
  },
  {
   "cell_type": "code",
   "execution_count": 12,
   "metadata": {
    "collapsed": false
   },
   "outputs": [
    {
     "data": {
      "text/plain": [
       "(0, 10000)"
      ]
     },
     "execution_count": 12,
     "metadata": {},
     "output_type": "execute_result"
    },
    {
     "data": {
      "image/png": "[encoded data removed]",
      "text/plain": [
       "<matplotlib.figure.Figure at 0x12852e780>"
      ]
     },
     "metadata": {},
     "output_type": "display_data"
    }
   ],
   "source": [
    "plt.figure(figsize=(16,10))\n",
    "df['conditions'].value_counts().plot(kind='bar')\n",
    "plt.ylim([0, 10000])"
   ]
  },
  {
   "cell_type": "code",
   "execution_count": 13,
   "metadata": {
    "collapsed": false
   },
   "outputs": [],
   "source": [
    "remap_weather = {'Heavy Snow': 'Snow',\n",
    "                'Light Freezing Rain': 'Light Rain',\n",
    "                'Heavy Thunderstorms and Rain': 'Thunderstorms and Rain',\n",
    "                'Light Thunderstorms and Rain': 'Thunderstorms and Rain',\n",
    "                'Light Ice Pellets': 'Ice Pellets',\n",
    "                'Heavy Ice Pellets': 'Ice Pellets',\n",
    "                'Thunderstorms with Small Hail': 'Thunderstorms and Rain',\n",
    "                'Shallow Fog': 'Fog',\n",
    "                'Light Freezing Fog': 'Fog',\n",
    "                'Mist': 'Fog',\n",
    "                'Blowing Snow': 'Snow',\n",
    "                'Drizzle': 'Light Rain',\n",
    "                'Widespread Dust': 'Haze',\n",
    "                'Squalls': np.nan,\n",
    "                'Unknown': np.nan,\n",
    "                'Light Drizzle': 'Light Rain',\n",
    "                'Light Freezing Drizzle': 'Light Rain',\n",
    "                'Patches of Fog': 'Fog',\n",
    "                'Light Rain Showers': 'Light Rain',\n",
    "                }\n",
    "\n",
    "df['conditions'] = df['conditions'].replace(remap_weather)"
   ]
  },
  {
   "cell_type": "code",
   "execution_count": 14,
   "metadata": {
    "collapsed": false
   },
   "outputs": [
    {
     "data": {
      "text/plain": [
       "(0, 10000)"
      ]
     },
     "execution_count": 14,
     "metadata": {},
     "output_type": "execute_result"
    },
    {
     "data": {
      "image/png": "[encoded data removed]",
      "text/plain": [
       "<matplotlib.figure.Figure at 0x13fbaab00>"
      ]
     },
     "metadata": {},
     "output_type": "display_data"
    }
   ],
   "source": [
    "plt.figure(figsize=(16,10))\n",
    "df['conditions'].value_counts().plot(kind='bar')\n",
    "plt.ylim([0, 10000])"
   ]
  },
  {
   "cell_type": "code",
   "execution_count": 15,
   "metadata": {
    "collapsed": false
   },
   "outputs": [
    {
     "data": {
      "text/plain": [
       "<matplotlib.axes._subplots.AxesSubplot at 0x1242af9e8>"
      ]
     },
     "execution_count": 15,
     "metadata": {},
     "output_type": "execute_result"
    },
    {
     "data": {
      "image/png": "[encoded data removed]",
      "text/plain": [
       "<matplotlib.figure.Figure at 0x13fbaacf8>"
      ]
     },
     "metadata": {},
     "output_type": "display_data"
    }
   ],
   "source": [
    "plt.figure(figsize=(16,10))\n",
    "df['vehicle_type_code_1'].value_counts().plot(kind='bar')"
   ]
  },
  {
   "cell_type": "code",
   "execution_count": 16,
   "metadata": {
    "collapsed": true
   },
   "outputs": [],
   "source": [
    "remap_vehicle = {'TAXI': 'SMALL COM VEH(4 TIRES)',\n",
    "                'BUS': 'LARGE VEHICLE',\n",
    "                'SCOOTER': 'MOTORCYCLE',\n",
    "                'LIVERY VEHICLE': 'SMALL COM VEH(4 TIRES)',\n",
    "                'VAN': 'MEDIUM VEHICLE',\n",
    "                'PEDICAB': 'BICYCLE',\n",
    "                'PICK-UP TRUCK': 'MEDIUM VEHICLE',\n",
    "                'SPORT UTILITY / STATION WAGON': 'MEDIUM VEHICLE',\n",
    "                'LARGE COM VEH(6 OR MORE TIRES)': 'LARGE VEHICLE',\n",
    "                'FIRE TRUCK': 'LARGE VEHICLE',\n",
    "                }"
   ]
  },
  {
   "cell_type": "code",
   "execution_count": 17,
   "metadata": {
    "collapsed": true
   },
   "outputs": [],
   "source": [
    "for column in ['vehicle_type_code_1', 'vehicle_type_code_2',\n",
    "       'vehicle_type_code_3', 'vehicle_type_code_4', 'vehicle_type_code_5']:\n",
    "    df[column] = df[column].replace(remap_vehicle)"
   ]
  },
  {
   "cell_type": "code",
   "execution_count": 18,
   "metadata": {
    "collapsed": false
   },
   "outputs": [
    {
     "data": {
      "text/plain": [
       "<matplotlib.axes._subplots.AxesSubplot at 0x117e152e8>"
      ]
     },
     "execution_count": 18,
     "metadata": {},
     "output_type": "execute_result"
    },
    {
     "data": {
      "image/png": "[encoded data removed]",
      "text/plain": [
       "<matplotlib.figure.Figure at 0x117e15128>"
      ]
     },
     "metadata": {},
     "output_type": "display_data"
    }
   ],
   "source": [
    "plt.figure(figsize=(16,10))\n",
    "df['vehicle_type_code_1'].value_counts().plot(kind='bar')"
   ]
  },
  {
   "cell_type": "code",
   "execution_count": 19,
   "metadata": {
    "collapsed": true
   },
   "outputs": [],
   "source": [
    "df['rise_time'] = pd.to_datetime(df.rise_time).dt.hour*60 + pd.to_datetime(df.rise_time).dt.minute\n",
    "df['set_time'] = pd.to_datetime(df.set_time).dt.hour*60 + pd.to_datetime(df.set_time).dt.minute"
   ]
  },
  {
   "cell_type": "code",
   "execution_count": 20,
   "metadata": {
    "collapsed": false
   },
   "outputs": [],
   "source": [
    "floats = ['latitude', 'longitude','temperature', 'heat_index', 'dew_point', 'humidity', 'pressure',\\\n",
    "          'visibility', 'wind_speed', 'gust_speed', 'precip', 'zip_code']"
   ]
  },
  {
   "cell_type": "code",
   "execution_count": 21,
   "metadata": {
    "collapsed": true
   },
   "outputs": [],
   "source": [
    "for column in floats:\n",
    "    df[column] = pd.to_numeric(df[column], errors='coerce')"
   ]
  },
  {
   "cell_type": "code",
   "execution_count": 22,
   "metadata": {
    "collapsed": false
   },
   "outputs": [],
   "source": [
    "with open(path+\"data_for_training/v4/predrop_collisions.pkl\", 'wb') as outfile:\n",
    "    pickle.dump(df, outfile)"
   ]
  },
  {
   "cell_type": "code",
   "execution_count": 23,
   "metadata": {
    "collapsed": true
   },
   "outputs": [],
   "source": [
    "drop_columns = ['location', 'on_street_name', 'cross_street_name',\n",
    "       'off_street_name', 'number_of_persons_injured',\n",
    "       'number_of_persons_killed', 'number_of_pedestrians_injured',\n",
    "       'number_of_pedestrians_killed', 'number_of_cyclist_injured',\n",
    "       'number_of_cyclist_killed', 'number_of_motorist_injured',\n",
    "       'number_of_motorist_killed', 'contributing_factor_vehicle_1',\n",
    "       'contributing_factor_vehicle_2', 'contributing_factor_vehicle_3',\n",
    "       'contributing_factor_vehicle_4', 'contributing_factor_vehicle_5',\n",
    "        'injured', 'killed']"
   ]
  },
  {
   "cell_type": "code",
   "execution_count": 24,
   "metadata": {
    "collapsed": false
   },
   "outputs": [],
   "source": [
    "df = df.drop(drop_columns, axis=1)"
   ]
  },
  {
   "cell_type": "code",
   "execution_count": 25,
   "metadata": {
    "collapsed": false
   },
   "outputs": [],
   "source": [
    "def fill_nas(df):\n",
    "    \n",
    "    for column in df:\n",
    "        if np.sum(df[column].isnull()) > 0:\n",
    "            df[column+'_nan'] = df[column].isnull()\n",
    "\n",
    "            if column == 'zip_code':\n",
    "                df[column].fillna(df[column].mode()[0], inplace=True)\n",
    "            elif column in df._get_numeric_data().columns.values:\n",
    "                df[column].fillna(df[column].mean(), inplace=True)\n",
    "                \n",
    "    return df\n",
    "            \n",
    "df = fill_nas(df)"
   ]
  },
  {
   "cell_type": "code",
   "execution_count": 26,
   "metadata": {
    "collapsed": false
   },
   "outputs": [],
   "source": [
    "onehotdf = pd.get_dummies(df, columns=['borough', 'wind_dir', 'conditions', 'lat/long_infered',\n",
    "                                      'vehicle_type_code_1', 'vehicle_type_code_2', 'vehicle_type_code_3',\n",
    "                                      'vehicle_type_code_4', 'vehicle_type_code_5'])"
   ]
  },
  {
   "cell_type": "code",
   "execution_count": 27,
   "metadata": {
    "collapsed": false
   },
   "outputs": [],
   "source": [
    "renamed_columns = [x.lower().replace(' ', '_') for x in onehotdf.columns.values]\n",
    "    \n",
    "onehotdf.columns = renamed_columns"
   ]
  },
  {
   "cell_type": "code",
   "execution_count": 28,
   "metadata": {
    "collapsed": false
   },
   "outputs": [],
   "source": [
    "with open(path+\"data_for_training/v4/collisions_1hot.pkl\", 'wb') as outfile:\n",
    "    pickle.dump(onehotdf, outfile)"
   ]
  },
  {
   "cell_type": "code",
   "execution_count": 29,
   "metadata": {
    "collapsed": false
   },
   "outputs": [],
   "source": [
    "with open(path+\"data_for_training/v4/collisions_no1hot.pkl\", 'wb') as outfile:\n",
    "    pickle.dump(df, outfile)"
   ]
  },
  {
   "cell_type": "code",
   "execution_count": 30,
   "metadata": {
    "collapsed": false
   },
   "outputs": [],
   "source": [
    "view_date = pd.to_datetime(df['date_time'])\n",
    "\n",
    "train_indices = (0, np.sum(view_date < datetime.date(2015,9,12))-1)\n",
    "val_indices = (train_indices[1]+1,\\\n",
    "               train_indices[1] + \\\n",
    "               np.sum((view_date >= datetime.date(2015,9,12)) & (view_date < datetime.date(2016,7,31))))\n",
    "test_indices = (val_indices[1]+1,\\\n",
    "               val_indices[1] + np.sum(view_date >= datetime.date(2016,7,31)))"
   ]
  },
  {
   "cell_type": "code",
   "execution_count": 31,
   "metadata": {
    "collapsed": true
   },
   "outputs": [],
   "source": [
    "train = df.iloc[train_indices[0]:train_indices[1]]\n",
    "val = df.iloc[val_indices[0]:val_indices[1]]\n",
    "test = df.iloc[test_indices[0]:test_indices[1]]"
   ]
  },
  {
   "cell_type": "code",
   "execution_count": 32,
   "metadata": {
    "collapsed": false
   },
   "outputs": [
    {
     "name": "stdout",
     "output_type": "stream",
     "text": [
      "65.91, 19.26, 14.83\n"
     ]
    }
   ],
   "source": [
    "train_count = np.sum(train['num_bicycle'] > 0)\n",
    "val_count = np.sum(val['num_bicycle'] > 0)\n",
    "test_count = np.sum(test['num_bicycle'] > 0)\n",
    "total = train_count + val_count + test_count\n",
    "\n",
    "print (\"%.2f, %.2f, %.2f\" % (train_count/total*100, val_count/total*100, test_count/total*100))"
   ]
  },
  {
   "cell_type": "code",
   "execution_count": 33,
   "metadata": {
    "collapsed": false
   },
   "outputs": [
    {
     "name": "stdout",
     "output_type": "stream",
     "text": [
      "51.36, 20.26, 28.38\n"
     ]
    }
   ],
   "source": [
    "train_count = np.sum((train['num_vehicles'] == 1) & (train['num_bicycle'] == 0))\n",
    "val_count = np.sum((val['num_vehicles'] == 1) & (val['num_bicycle'] == 0))\n",
    "test_count = np.sum((test['num_vehicles'] == 1) & (test['num_bicycle'] == 0))\n",
    "total = train_count + val_count + test_count\n",
    "\n",
    "print (\"%.2f, %.2f, %.2f\" % (train_count/total*100, val_count/total*100, test_count/total*100))"
   ]
  },
  {
   "cell_type": "code",
   "execution_count": 34,
   "metadata": {
    "collapsed": false
   },
   "outputs": [
    {
     "name": "stdout",
     "output_type": "stream",
     "text": [
      "18.46, 16.88, 64.66\n"
     ]
    }
   ],
   "source": [
    "train_count = np.sum((train['num_vehicles'] == 0))\n",
    "val_count = np.sum((val['num_vehicles'] == 0))\n",
    "test_count = np.sum((test['num_vehicles'] == 0))\n",
    "total = train_count + val_count + test_count\n",
    "\n",
    "print (\"%.2f, %.2f, %.2f\" % (train_count/total*100, val_count/total*100, test_count/total*100))"
   ]
  },
  {
   "cell_type": "code",
   "execution_count": 35,
   "metadata": {
    "collapsed": false
   },
   "outputs": [
    {
     "name": "stdout",
     "output_type": "stream",
     "text": [
      "68.96, 19.87, 11.17\n"
     ]
    }
   ],
   "source": [
    "train_count = np.sum((train['num_vehicles'] > 1) & (train['num_bicycle'] == 0))\n",
    "val_count = np.sum((val['num_vehicles'] > 1) & (val['num_bicycle'] == 0))\n",
    "test_count = np.sum((test['num_vehicles'] > 1) & (test['num_bicycle'] == 0))\n",
    "total = train_count + val_count + test_count\n",
    "\n",
    "print (\"%.2f, %.2f, %.2f\" % (train_count/total*100, val_count/total*100, test_count/total*100))"
   ]
  },
  {
   "cell_type": "code",
   "execution_count": 36,
   "metadata": {
    "collapsed": false
   },
   "outputs": [
    {
     "data": {
      "text/plain": [
       "array(['date_time', 'zip_code', 'latitude', 'longitude',\n",
       "       'congestion/gridlock_0.001', 'chronic_speeding_0.001',\n",
       "       'drag_racing_0.001', 'chronic_stoplight_violation_0.001',\n",
       "       'truck_route_violation_0.001', 'congestion/gridlock_0.002',\n",
       "       'chronic_speeding_0.002', 'drag_racing_0.002',\n",
       "       'chronic_stoplight_violation_0.002', 'truck_route_violation_0.002',\n",
       "       'congestion/gridlock_0.005', 'chronic_speeding_0.005',\n",
       "       'chronic_stoplight_violation_0.005', 'drag_racing_0.005',\n",
       "       'truck_route_violation_0.005', 'chronic_speeding_0.03',\n",
       "       'chronic_stoplight_violation_0.03', 'congestion/gridlock_0.03',\n",
       "       'drag_racing_0.03', 'truck_route_violation_0.03',\n",
       "       'chronic_speeding_0.06', 'chronic_stoplight_violation_0.06',\n",
       "       'congestion/gridlock_0.06', 'drag_racing_0.06',\n",
       "       'truck_route_violation_0.06', 'chronic_speeding_0.1',\n",
       "       'chronic_stoplight_violation_0.1', 'congestion/gridlock_0.1',\n",
       "       'drag_racing_0.1', 'truck_route_violation_0.1',\n",
       "       'chronic_speeding_0.3', 'chronic_stoplight_violation_0.3',\n",
       "       'congestion/gridlock_0.3', 'drag_racing_0.3',\n",
       "       'truck_route_violation_0.3', 'lights_complaints_0.001', 'lat_long',\n",
       "       'lat_lat', 'long_long', 'lights_complaints_0.03',\n",
       "       'lights_complaints_0.06', 'uber_count_0.03', 'temperature',\n",
       "       'heat_index', 'dew_point', 'humidity', 'pressure', 'visibility',\n",
       "       'wind_speed', 'gust_speed', 'precip', 'rain', 'thunderstorm',\n",
       "       'snow', 'fog', 'uber_count_0.1', 'rise_time', 'set_time', 'sun_out',\n",
       "       'dist_to_closest_subway', 'bank_holiday_flag', 'uber_count_0.3',\n",
       "       'day_of_week', 'hour_of_day', 'year', 'month', 'day', 'time_of_day',\n",
       "       'num_vehicles', 'all_vehicles_same_type', 'num_medium_vehicle',\n",
       "       'num_passenger_vehicle', 'num_nan', 'num_small_com_veh(4_tires)',\n",
       "       'num_bicycle', 'num_other', 'num_large_vehicle', 'num_motorcycle',\n",
       "       'num_ambulance', 'num_unknown', 'injured_or_killed',\n",
       "       'in_parking_lot', 'uber_count_0.06', 'uber_count', 'borough_nan',\n",
       "       'zip_code_nan', 'vehicle_type_code_1_nan',\n",
       "       'vehicle_type_code_2_nan', 'vehicle_type_code_3_nan',\n",
       "       'vehicle_type_code_4_nan', 'vehicle_type_code_5_nan',\n",
       "       'congestion/gridlock_0.001_nan', 'chronic_speeding_0.001_nan',\n",
       "       'drag_racing_0.001_nan', 'chronic_stoplight_violation_0.001_nan',\n",
       "       'truck_route_violation_0.001_nan', 'congestion/gridlock_0.002_nan',\n",
       "       'chronic_speeding_0.002_nan', 'drag_racing_0.002_nan',\n",
       "       'chronic_stoplight_violation_0.002_nan',\n",
       "       'truck_route_violation_0.002_nan', 'congestion/gridlock_0.005_nan',\n",
       "       'chronic_speeding_0.005_nan',\n",
       "       'chronic_stoplight_violation_0.005_nan', 'drag_racing_0.005_nan',\n",
       "       'truck_route_violation_0.005_nan', 'chronic_speeding_0.03_nan',\n",
       "       'chronic_stoplight_violation_0.03_nan',\n",
       "       'congestion/gridlock_0.03_nan', 'drag_racing_0.03_nan',\n",
       "       'truck_route_violation_0.03_nan', 'chronic_speeding_0.06_nan',\n",
       "       'chronic_stoplight_violation_0.06_nan',\n",
       "       'congestion/gridlock_0.06_nan', 'drag_racing_0.06_nan',\n",
       "       'truck_route_violation_0.06_nan', 'chronic_speeding_0.1_nan',\n",
       "       'chronic_stoplight_violation_0.1_nan',\n",
       "       'congestion/gridlock_0.1_nan', 'drag_racing_0.1_nan',\n",
       "       'truck_route_violation_0.1_nan', 'chronic_speeding_0.3_nan',\n",
       "       'chronic_stoplight_violation_0.3_nan',\n",
       "       'congestion/gridlock_0.3_nan', 'drag_racing_0.3_nan',\n",
       "       'truck_route_violation_0.3_nan', 'lights_complaints_0.001_nan',\n",
       "       'lat_long_nan', 'lat_lat_nan', 'long_long_nan',\n",
       "       'lights_complaints_0.03_nan', 'lights_complaints_0.06_nan',\n",
       "       'uber_count_0.03_nan', 'temperature_nan', 'heat_index_nan',\n",
       "       'dew_point_nan', 'humidity_nan', 'pressure_nan', 'visibility_nan',\n",
       "       'wind_speed_nan', 'gust_speed_nan', 'precip_nan', 'conditions_nan',\n",
       "       'uber_count_0.1_nan', 'rise_time_nan', 'set_time_nan',\n",
       "       'dist_to_closest_subway_nan', 'uber_count_0.3_nan',\n",
       "       'uber_count_0.06_nan', 'uber_count_nan', 'borough_bronx',\n",
       "       'borough_brooklyn', 'borough_manhattan', 'borough_queens',\n",
       "       'borough_staten_island', 'wind_dir_calm', 'wind_dir_ene',\n",
       "       'wind_dir_ese', 'wind_dir_east', 'wind_dir_ne', 'wind_dir_nne',\n",
       "       'wind_dir_nnw', 'wind_dir_nw', 'wind_dir_north', 'wind_dir_se',\n",
       "       'wind_dir_sse', 'wind_dir_ssw', 'wind_dir_sw', 'wind_dir_south',\n",
       "       'wind_dir_variable', 'wind_dir_wnw', 'wind_dir_wsw',\n",
       "       'wind_dir_west', 'conditions_clear', 'conditions_fog',\n",
       "       'conditions_haze', 'conditions_heavy_rain',\n",
       "       'conditions_ice_pellets', 'conditions_light_rain',\n",
       "       'conditions_light_snow', 'conditions_mostly_cloudy',\n",
       "       'conditions_overcast', 'conditions_partly_cloudy',\n",
       "       'conditions_rain', 'conditions_scattered_clouds', 'conditions_snow',\n",
       "       'conditions_thunderstorm', 'conditions_thunderstorms_and_rain',\n",
       "       'lat/long_infered_cross', 'lat/long_infered_off',\n",
       "       'lat/long_infered_on', 'lat/long_infered_on_cross',\n",
       "       'lat/long_infered_original', 'lat/long_infered_unable_to_infer',\n",
       "       'vehicle_type_code_1_ambulance', 'vehicle_type_code_1_bicycle',\n",
       "       'vehicle_type_code_1_large_vehicle',\n",
       "       'vehicle_type_code_1_medium_vehicle',\n",
       "       'vehicle_type_code_1_motorcycle', 'vehicle_type_code_1_other',\n",
       "       'vehicle_type_code_1_passenger_vehicle',\n",
       "       'vehicle_type_code_1_small_com_veh(4_tires)',\n",
       "       'vehicle_type_code_1_unknown', 'vehicle_type_code_2_ambulance',\n",
       "       'vehicle_type_code_2_bicycle', 'vehicle_type_code_2_large_vehicle',\n",
       "       'vehicle_type_code_2_medium_vehicle',\n",
       "       'vehicle_type_code_2_motorcycle', 'vehicle_type_code_2_other',\n",
       "       'vehicle_type_code_2_passenger_vehicle',\n",
       "       'vehicle_type_code_2_small_com_veh(4_tires)',\n",
       "       'vehicle_type_code_2_unknown', 'vehicle_type_code_3_ambulance',\n",
       "       'vehicle_type_code_3_bicycle', 'vehicle_type_code_3_large_vehicle',\n",
       "       'vehicle_type_code_3_medium_vehicle',\n",
       "       'vehicle_type_code_3_motorcycle', 'vehicle_type_code_3_other',\n",
       "       'vehicle_type_code_3_passenger_vehicle',\n",
       "       'vehicle_type_code_3_small_com_veh(4_tires)',\n",
       "       'vehicle_type_code_3_unknown', 'vehicle_type_code_4_ambulance',\n",
       "       'vehicle_type_code_4_bicycle', 'vehicle_type_code_4_large_vehicle',\n",
       "       'vehicle_type_code_4_medium_vehicle',\n",
       "       'vehicle_type_code_4_motorcycle', 'vehicle_type_code_4_other',\n",
       "       'vehicle_type_code_4_passenger_vehicle',\n",
       "       'vehicle_type_code_4_small_com_veh(4_tires)',\n",
       "       'vehicle_type_code_4_unknown', 'vehicle_type_code_5_ambulance',\n",
       "       'vehicle_type_code_5_bicycle', 'vehicle_type_code_5_large_vehicle',\n",
       "       'vehicle_type_code_5_medium_vehicle',\n",
       "       'vehicle_type_code_5_motorcycle', 'vehicle_type_code_5_other',\n",
       "       'vehicle_type_code_5_passenger_vehicle',\n",
       "       'vehicle_type_code_5_small_com_veh(4_tires)',\n",
       "       'vehicle_type_code_5_unknown'], dtype=object)"
      ]
     },
     "execution_count": 36,
     "metadata": {},
     "output_type": "execute_result"
    }
   ],
   "source": [
    "onehotdf.columns.values"
   ]
  },
  {
   "cell_type": "code",
   "execution_count": 37,
   "metadata": {
    "collapsed": false
   },
   "outputs": [],
   "source": [
    "csvfile = open(path+'features.csv', 'w')\n",
    "csvwriter = csv.writer(csvfile)\n",
    "for item in df.columns.values:\n",
    "    if '_nan' not in item:\n",
    "        csvwriter.writerow([item])\n",
    "csvfile.close()"
   ]
  },
  {
   "cell_type": "code",
   "execution_count": 38,
   "metadata": {
    "collapsed": false
   },
   "outputs": [],
   "source": [
    "bike = onehotdf[onehotdf['num_bicycle'] > 0]"
   ]
  },
  {
   "cell_type": "code",
   "execution_count": 39,
   "metadata": {
    "collapsed": false
   },
   "outputs": [],
   "source": [
    "one = onehotdf[(onehotdf['num_vehicles'] == 1) & (onehotdf['num_bicycle'] == 0)]"
   ]
  },
  {
   "cell_type": "code",
   "execution_count": 40,
   "metadata": {
    "collapsed": true
   },
   "outputs": [],
   "source": [
    "multi = onehotdf[(onehotdf['num_vehicles'] > 1) & (onehotdf['num_bicycle'] == 0)]"
   ]
  },
  {
   "cell_type": "code",
   "execution_count": 42,
   "metadata": {
    "collapsed": true
   },
   "outputs": [],
   "source": [
    "with open(path+\"data_for_training/v4/split/bike.pkl\", 'wb') as outfile:\n",
    "    pickle.dump(bike, outfile)\n",
    "with open(path+\"data_for_training/v4/split/one.pkl\", 'wb') as outfile:\n",
    "    pickle.dump(one, outfile)\n",
    "with open(path+\"data_for_training/v4/split/multi.pkl\", 'wb') as outfile:\n",
    "    pickle.dump(multi, outfile)"
   ]
  },
  {
   "cell_type": "code",
   "execution_count": 45,
   "metadata": {
    "collapsed": false
   },
   "outputs": [
    {
     "data": {
      "text/plain": [
       "array(['date_time', 'zip_code', 'latitude', 'longitude',\n",
       "       'congestion/gridlock_0.001', 'chronic_speeding_0.001',\n",
       "       'drag_racing_0.001', 'chronic_stoplight_violation_0.001',\n",
       "       'truck_route_violation_0.001', 'congestion/gridlock_0.002',\n",
       "       'chronic_speeding_0.002', 'drag_racing_0.002',\n",
       "       'chronic_stoplight_violation_0.002', 'truck_route_violation_0.002',\n",
       "       'congestion/gridlock_0.005', 'chronic_speeding_0.005',\n",
       "       'chronic_stoplight_violation_0.005', 'drag_racing_0.005',\n",
       "       'truck_route_violation_0.005', 'chronic_speeding_0.03',\n",
       "       'chronic_stoplight_violation_0.03', 'congestion/gridlock_0.03',\n",
       "       'drag_racing_0.03', 'truck_route_violation_0.03',\n",
       "       'chronic_speeding_0.06', 'chronic_stoplight_violation_0.06',\n",
       "       'congestion/gridlock_0.06', 'drag_racing_0.06',\n",
       "       'truck_route_violation_0.06', 'chronic_speeding_0.1',\n",
       "       'chronic_stoplight_violation_0.1', 'congestion/gridlock_0.1',\n",
       "       'drag_racing_0.1', 'truck_route_violation_0.1',\n",
       "       'chronic_speeding_0.3', 'chronic_stoplight_violation_0.3',\n",
       "       'congestion/gridlock_0.3', 'drag_racing_0.3',\n",
       "       'truck_route_violation_0.3', 'lights_complaints_0.001', 'lat_long',\n",
       "       'lat_lat', 'long_long', 'lights_complaints_0.03',\n",
       "       'lights_complaints_0.06', 'uber_count_0.03', 'temperature',\n",
       "       'heat_index', 'dew_point', 'humidity', 'pressure', 'visibility',\n",
       "       'wind_speed', 'gust_speed', 'precip', 'rain', 'thunderstorm',\n",
       "       'snow', 'fog', 'uber_count_0.1', 'rise_time', 'set_time', 'sun_out',\n",
       "       'dist_to_closest_subway', 'bank_holiday_flag', 'uber_count_0.3',\n",
       "       'day_of_week', 'hour_of_day', 'year', 'month', 'day', 'time_of_day',\n",
       "       'num_vehicles', 'all_vehicles_same_type', 'num_medium_vehicle',\n",
       "       'num_passenger_vehicle', 'num_nan', 'num_small_com_veh(4_tires)',\n",
       "       'num_bicycle', 'num_other', 'num_large_vehicle', 'num_motorcycle',\n",
       "       'num_ambulance', 'num_unknown', 'injured_or_killed',\n",
       "       'in_parking_lot', 'uber_count_0.06', 'uber_count', 'borough_nan',\n",
       "       'zip_code_nan', 'vehicle_type_code_1_nan',\n",
       "       'vehicle_type_code_2_nan', 'vehicle_type_code_3_nan',\n",
       "       'vehicle_type_code_4_nan', 'vehicle_type_code_5_nan',\n",
       "       'congestion/gridlock_0.001_nan', 'chronic_speeding_0.001_nan',\n",
       "       'drag_racing_0.001_nan', 'chronic_stoplight_violation_0.001_nan',\n",
       "       'truck_route_violation_0.001_nan', 'congestion/gridlock_0.002_nan',\n",
       "       'chronic_speeding_0.002_nan', 'drag_racing_0.002_nan',\n",
       "       'chronic_stoplight_violation_0.002_nan',\n",
       "       'truck_route_violation_0.002_nan', 'congestion/gridlock_0.005_nan',\n",
       "       'chronic_speeding_0.005_nan',\n",
       "       'chronic_stoplight_violation_0.005_nan', 'drag_racing_0.005_nan',\n",
       "       'truck_route_violation_0.005_nan', 'chronic_speeding_0.03_nan',\n",
       "       'chronic_stoplight_violation_0.03_nan',\n",
       "       'congestion/gridlock_0.03_nan', 'drag_racing_0.03_nan',\n",
       "       'truck_route_violation_0.03_nan', 'chronic_speeding_0.06_nan',\n",
       "       'chronic_stoplight_violation_0.06_nan',\n",
       "       'congestion/gridlock_0.06_nan', 'drag_racing_0.06_nan',\n",
       "       'truck_route_violation_0.06_nan', 'chronic_speeding_0.1_nan',\n",
       "       'chronic_stoplight_violation_0.1_nan',\n",
       "       'congestion/gridlock_0.1_nan', 'drag_racing_0.1_nan',\n",
       "       'truck_route_violation_0.1_nan', 'chronic_speeding_0.3_nan',\n",
       "       'chronic_stoplight_violation_0.3_nan',\n",
       "       'congestion/gridlock_0.3_nan', 'drag_racing_0.3_nan',\n",
       "       'truck_route_violation_0.3_nan', 'lights_complaints_0.001_nan',\n",
       "       'lat_long_nan', 'lat_lat_nan', 'long_long_nan',\n",
       "       'lights_complaints_0.03_nan', 'lights_complaints_0.06_nan',\n",
       "       'uber_count_0.03_nan', 'temperature_nan', 'heat_index_nan',\n",
       "       'dew_point_nan', 'humidity_nan', 'pressure_nan', 'visibility_nan',\n",
       "       'wind_speed_nan', 'gust_speed_nan', 'precip_nan', 'conditions_nan',\n",
       "       'uber_count_0.1_nan', 'rise_time_nan', 'set_time_nan',\n",
       "       'dist_to_closest_subway_nan', 'uber_count_0.3_nan',\n",
       "       'uber_count_0.06_nan', 'uber_count_nan', 'borough_bronx',\n",
       "       'borough_brooklyn', 'borough_manhattan', 'borough_queens',\n",
       "       'borough_staten_island', 'wind_dir_calm', 'wind_dir_ene',\n",
       "       'wind_dir_ese', 'wind_dir_east', 'wind_dir_ne', 'wind_dir_nne',\n",
       "       'wind_dir_nnw', 'wind_dir_nw', 'wind_dir_north', 'wind_dir_se',\n",
       "       'wind_dir_sse', 'wind_dir_ssw', 'wind_dir_sw', 'wind_dir_south',\n",
       "       'wind_dir_variable', 'wind_dir_wnw', 'wind_dir_wsw',\n",
       "       'wind_dir_west', 'conditions_clear', 'conditions_fog',\n",
       "       'conditions_haze', 'conditions_heavy_rain',\n",
       "       'conditions_ice_pellets', 'conditions_light_rain',\n",
       "       'conditions_light_snow', 'conditions_mostly_cloudy',\n",
       "       'conditions_overcast', 'conditions_partly_cloudy',\n",
       "       'conditions_rain', 'conditions_scattered_clouds', 'conditions_snow',\n",
       "       'conditions_thunderstorm', 'conditions_thunderstorms_and_rain',\n",
       "       'lat/long_infered_cross', 'lat/long_infered_off',\n",
       "       'lat/long_infered_on', 'lat/long_infered_on_cross',\n",
       "       'lat/long_infered_original', 'lat/long_infered_unable_to_infer',\n",
       "       'vehicle_type_code_1_ambulance', 'vehicle_type_code_1_bicycle',\n",
       "       'vehicle_type_code_1_large_vehicle',\n",
       "       'vehicle_type_code_1_medium_vehicle',\n",
       "       'vehicle_type_code_1_motorcycle', 'vehicle_type_code_1_other',\n",
       "       'vehicle_type_code_1_passenger_vehicle',\n",
       "       'vehicle_type_code_1_small_com_veh(4_tires)',\n",
       "       'vehicle_type_code_1_unknown', 'vehicle_type_code_2_ambulance',\n",
       "       'vehicle_type_code_2_bicycle', 'vehicle_type_code_2_large_vehicle',\n",
       "       'vehicle_type_code_2_medium_vehicle',\n",
       "       'vehicle_type_code_2_motorcycle', 'vehicle_type_code_2_other',\n",
       "       'vehicle_type_code_2_passenger_vehicle',\n",
       "       'vehicle_type_code_2_small_com_veh(4_tires)',\n",
       "       'vehicle_type_code_2_unknown', 'vehicle_type_code_3_ambulance',\n",
       "       'vehicle_type_code_3_bicycle', 'vehicle_type_code_3_large_vehicle',\n",
       "       'vehicle_type_code_3_medium_vehicle',\n",
       "       'vehicle_type_code_3_motorcycle', 'vehicle_type_code_3_other',\n",
       "       'vehicle_type_code_3_passenger_vehicle',\n",
       "       'vehicle_type_code_3_small_com_veh(4_tires)',\n",
       "       'vehicle_type_code_3_unknown', 'vehicle_type_code_4_ambulance',\n",
       "       'vehicle_type_code_4_bicycle', 'vehicle_type_code_4_large_vehicle',\n",
       "       'vehicle_type_code_4_medium_vehicle',\n",
       "       'vehicle_type_code_4_motorcycle', 'vehicle_type_code_4_other',\n",
       "       'vehicle_type_code_4_passenger_vehicle',\n",
       "       'vehicle_type_code_4_small_com_veh(4_tires)',\n",
       "       'vehicle_type_code_4_unknown', 'vehicle_type_code_5_ambulance',\n",
       "       'vehicle_type_code_5_bicycle', 'vehicle_type_code_5_large_vehicle',\n",
       "       'vehicle_type_code_5_medium_vehicle',\n",
       "       'vehicle_type_code_5_motorcycle', 'vehicle_type_code_5_other',\n",
       "       'vehicle_type_code_5_passenger_vehicle',\n",
       "       'vehicle_type_code_5_small_com_veh(4_tires)',\n",
       "       'vehicle_type_code_5_unknown'], dtype=object)"
      ]
     },
     "execution_count": 45,
     "metadata": {},
     "output_type": "execute_result"
    }
   ],
   "source": [
    "onehotdf.columns.values"
   ]
  },
  {
   "cell_type": "code",
   "execution_count": null,
   "metadata": {
    "collapsed": true
   },
   "outputs": [],
   "source": []
  }
 ],
 "metadata": {
  "anaconda-cloud": {},
  "kernelspec": {
   "display_name": "Python [py35]",
   "language": "python",
   "name": "Python [py35]"
  },
  "language_info": {
   "codemirror_mode": {
    "name": "ipython",
    "version": 3
   },
   "file_extension": ".py",
   "mimetype": "text/x-python",
   "name": "python",
   "nbconvert_exporter": "python",
   "pygments_lexer": "ipython3",
   "version": "3.5.2"
  }
 },
 "nbformat": 4,
 "nbformat_minor": 0
}
