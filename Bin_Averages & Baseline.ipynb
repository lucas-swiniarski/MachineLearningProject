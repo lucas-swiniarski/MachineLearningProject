{
 "cells": [
  {
   "cell_type": "code",
   "execution_count": 1,
   "metadata": {
    "collapsed": true
   },
   "outputs": [],
   "source": [
    "import pandas as pd\n",
    "import numpy as np\n",
    "import pickle as pkl\n",
    "import datetime\n",
    "% matplotlib inline"
   ]
  },
  {
   "cell_type": "code",
   "execution_count": 2,
   "metadata": {
    "collapsed": true
   },
   "outputs": [],
   "source": [
    "#path = \"../../../Google Drive/Data_science/NYU/Machine Learning/ML Project (Collisions)/\" #Joe\n",
    "path = \"../../../../Google Drive/ML Project (Collisions)/\" # Joyce\n",
    "# path = \"\" # Lucas"
   ]
  },
  {
   "cell_type": "code",
   "execution_count": 3,
   "metadata": {
    "collapsed": false
   },
   "outputs": [],
   "source": [
    "df = pkl.load(open(path + 'data_for_training/v2/predrop_collisions.pkl','rb'))"
   ]
  },
  {
   "cell_type": "code",
   "execution_count": 4,
   "metadata": {
    "collapsed": false
   },
   "outputs": [],
   "source": [
    "train_df = df[pd.to_datetime(df.date_time).dt.date <= datetime.date(2015,9,11)]\n",
    "val_df = df[(pd.to_datetime(df.date_time).dt.date >= datetime.date(2015,9,12)) & (pd.to_datetime(df.date_time).dt.date <= datetime.date(2016,7,30))]\n",
    "test_df = df[pd.to_datetime(df.date_time).dt.date >= datetime.date(2016,7,31)]"
   ]
  },
  {
   "cell_type": "code",
   "execution_count": 5,
   "metadata": {
    "collapsed": false
   },
   "outputs": [
    {
     "name": "stdout",
     "output_type": "stream",
     "text": [
      "Finished step: 0.01\n",
      "Finished step: 0.03\n",
      "Finished step: 0.06\n",
      "Finished step: 0.1\n",
      "Finished step: 0.3\n",
      "Finished step: 0.6\n",
      "Finished step: 1\n",
      "Finished step: 10\n"
     ]
    }
   ],
   "source": [
    "index_df = df[['longitude','latitude','day_of_week','hour_of_day']].dropna()\n",
    "\n",
    "steps = [.01,.03,.06,.1,.3,.6,1,10]\n",
    "train_df_avg = train_df.copy()\n",
    "for step in steps:\n",
    "    \n",
    "    # create bins\n",
    "    to_bin = lambda x: np.round(x / step) * step\n",
    "    for df in [train_df_avg, index_df]:\n",
    "        df['Lat_bin'] = df.latitude.map(to_bin)\n",
    "        df['Long_bin'] = df.longitude.map(to_bin)\n",
    "    \n",
    "    #groupby\n",
    "    avg_df = train_df_avg.groupby(['Lat_bin', 'Long_bin','hour_of_day','day_of_week'])['injured_or_killed'].mean()\n",
    "    \n",
    "    # Add step to name\n",
    "    if isinstance(avg_df,pd.Series):\n",
    "        avg_df.name = avg_df.name + ' - ' + str(step)\n",
    "    else:\n",
    "        avg_df.columns = map(lambda x: x + ' - ' + str(step),avg_df.columns)\n",
    "        \n",
    "    index_df = index_df.join(avg_df, on = avg_df.index.names).fillna(0)\n",
    "    index_df.drop(['Lat_bin','Long_bin'],axis=1, inplace=True)\n",
    "\n",
    "    print (\"Finished step: %s\" % (step))\n",
    "index_df.drop(['longitude','latitude','day_of_week','hour_of_day'],axis=1, inplace=True)\n",
    "index_df.index.name = 'UNIQUE KEY'"
   ]
  },
  {
   "cell_type": "code",
   "execution_count": 6,
   "metadata": {
    "collapsed": true
   },
   "outputs": [],
   "source": [
    "pkl.dump(index_df, open(path+'data_for_joining/injury_avgs.pkl','wb'))"
   ]
  },
  {
   "cell_type": "code",
   "execution_count": null,
   "metadata": {
    "collapsed": false
   },
   "outputs": [],
   "source": [
    "val_joined = val_df.join(index_df, on='unique_key')"
   ]
  },
  {
   "cell_type": "markdown",
   "metadata": {},
   "source": [
    "## Avg. Baslines"
   ]
  },
  {
   "cell_type": "code",
   "execution_count": null,
   "metadata": {
    "collapsed": false
   },
   "outputs": [],
   "source": [
    "from sklearn.metrics import roc_auc_score"
   ]
  },
  {
   "cell_type": "code",
   "execution_count": null,
   "metadata": {
    "collapsed": false
   },
   "outputs": [],
   "source": [
    "for step in steps:\n",
    "    print(roc_auc_score(val_joined.injured_or_killed,val_joined['injured_or_killed - '+str(step)]))"
   ]
  },
  {
   "cell_type": "markdown",
   "metadata": {},
   "source": [
    "## More Baslines"
   ]
  },
  {
   "cell_type": "code",
   "execution_count": null,
   "metadata": {
    "collapsed": false
   },
   "outputs": [],
   "source": [
    "df = pkl.load(open(path + 'collisions_1hot.pkl','rb'))"
   ]
  },
  {
   "cell_type": "code",
   "execution_count": null,
   "metadata": {
    "collapsed": true
   },
   "outputs": [],
   "source": [
    "df.date_time_proper = df.date_time.apply(lambda x: datetime.datetime.fromtimestamp(int(x)/1e9))"
   ]
  },
  {
   "cell_type": "code",
   "execution_count": null,
   "metadata": {
    "collapsed": false
   },
   "outputs": [],
   "source": [
    "train_df = df[df.date_time_proper.dt.date <= datetime.date(2015,9,11)]\n",
    "val_df = df[(df.date_time_proper.dt.date >= datetime.date(2015,9,12)) & (df.date_time_proper.dt.date <= datetime.date(2016,7,30))]\n",
    "# test_df = df[df.date_time.dt.date >= datetime.date(2016,7,31)]"
   ]
  },
  {
   "cell_type": "code",
   "execution_count": null,
   "metadata": {
    "collapsed": false
   },
   "outputs": [],
   "source": [
    "datetime.datetime.fromtimestamp(int(df.date_time.iloc[0]/1e9))"
   ]
  },
  {
   "cell_type": "code",
   "execution_count": null,
   "metadata": {
    "collapsed": false
   },
   "outputs": [],
   "source": [
    "val_df['global_mean'] = train_df.injured_or_killed.mean()"
   ]
  },
  {
   "cell_type": "code",
   "execution_count": null,
   "metadata": {
    "collapsed": false
   },
   "outputs": [],
   "source": [
    "roc_auc_score(val_df.injured_or_killed,val_df['global_mean'])"
   ]
  },
  {
   "cell_type": "code",
   "execution_count": null,
   "metadata": {
    "collapsed": true
   },
   "outputs": [],
   "source": []
  }
 ],
 "metadata": {
  "kernelspec": {
   "display_name": "Python [py35]",
   "language": "python",
   "name": "Python [py35]"
  },
  "language_info": {
   "codemirror_mode": {
    "name": "ipython",
    "version": 3
   },
   "file_extension": ".py",
   "mimetype": "text/x-python",
   "name": "python",
   "nbconvert_exporter": "python",
   "pygments_lexer": "ipython3",
   "version": "3.5.2"
  }
 },
 "nbformat": 4,
 "nbformat_minor": 0
}
