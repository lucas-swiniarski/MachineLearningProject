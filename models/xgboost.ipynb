{
 "cells": [
  {
   "cell_type": "code",
   "execution_count": 1,
   "metadata": {
    "collapsed": false
   },
   "outputs": [],
   "source": [
    "import xgboost as xgb\n",
    "import numpy as np\n",
    "import pandas as pd\n",
    "import pickle as pkl\n",
    "from sklearn import metrics\n",
    "import matplotlib.pylab as plt\n",
    "%matplotlib inline"
   ]
  },
  {
   "cell_type": "code",
   "execution_count": 46,
   "metadata": {
    "collapsed": true
   },
   "outputs": [],
   "source": [
    "path = \"../../../Google Drive/Data_science/NYU/Machine Learning/ML Project (Collisions)/data_for_training/v4/normalized_1hot\" #Joe\n",
    "#path = \"../../../../Google Drive/ML Project (Collisions)/\" # Joyce\n",
    "# path = \"\" # Lucas"
   ]
  },
  {
   "cell_type": "code",
   "execution_count": 3,
   "metadata": {
    "collapsed": false
   },
   "outputs": [],
   "source": [
    "def modelfit(alg, train_X, train_y, val_X=None, val_y=None, early_stopping_rounds=50):\n",
    "    \n",
    "    val_check = (not val_X is None)\n",
    "    \n",
    "    # Fit the algorithm on the data\n",
    "    print(alg.get_params)\n",
    "    alg.fit(train_X, train_y, eval_metric='auc')\n",
    "        \n",
    "    # Predict training set:\n",
    "    dtrain_predictions = alg.predict(train_X)\n",
    "    dtrain_predprob = alg.predict_proba(train_X)[:,1]\n",
    "\n",
    "    # Predict val set:\n",
    "    if val_check:\n",
    "        dval_predictions = alg.predict(val_X)\n",
    "        dval_predprob = alg.predict_proba(val_X)[:,1]\n",
    "    \n",
    "    #Print model report:\n",
    "    print(\"\\nModel Report\")\n",
    "    print(\"Accuracy : %.4g\" % metrics.accuracy_score(train_y, dtrain_predictions))\n",
    "    print(\"AUC Score (Train): %f\" % metrics.roc_auc_score(train_y, dtrain_predprob))\n",
    "\n",
    "    if val_check:\n",
    "        print(\"\\nAccuracy : %.4g\" % metrics.accuracy_score(val_y, dval_predictions))\n",
    "        print(\"AUC Score (Val): %f\" % metrics.roc_auc_score(val_y, dval_predprob))\n",
    "    \n",
    "    feat_imp = pd.Series(alg.booster().get_fscore()).sort_values(ascending=False)\n",
    "    feat_imp.plot(kind='bar', title='Feature Importances')\n",
    "    plt.ylabel('Feature Importance Score')\n",
    "    \n",
    "    return alg"
   ]
  },
  {
   "cell_type": "code",
   "execution_count": 47,
   "metadata": {
    "collapsed": false
   },
   "outputs": [],
   "source": [
    "train_X = pkl.load(open(path+'/train_X.pkl','rb'))\n",
    "train_y = pkl.load(open(path+'/train_y.pkl','rb'))\n",
    "\n",
    "val_X = pkl.load(open(path+'/val_X.pkl','rb'))\n",
    "val_y = pkl.load(open(path+'/val_y.pkl','rb'))"
   ]
  },
  {
   "cell_type": "code",
   "execution_count": null,
   "metadata": {
    "collapsed": false
   },
   "outputs": [
    {
     "name": "stdout",
     "output_type": "stream",
     "text": [
      "<bound method XGBModel.get_params of XGBClassifier(base_score=0.5, colsample_bylevel=1, colsample_bytree=1,\n",
      "       gamma=0, learning_rate=0.1, max_delta_step=0, max_depth=4,\n",
      "       min_child_weight=1, missing=None, n_estimators=1000, nthread=-1,\n",
      "       objective='binary:logistic', reg_alpha=0, reg_lambda=100.0,\n",
      "       scale_pos_weight=1, seed=0, silent=False, subsample=1)>\n"
     ]
    }
   ],
   "source": [
    "model = modelfit(xgb.XGBClassifier(learning_rate = 0.1, max_depth = 4, n_estimators=1000, reg_lambda = 1e2), train_X=train_X, train_y=train_y, val_X=val_X, val_y=val_y)"
   ]
  },
  {
   "cell_type": "code",
   "execution_count": null,
   "metadata": {
    "collapsed": false
   },
   "outputs": [],
   "source": [
    "pkl.dump(model, open('./best_xgboost_all_data.pkl','wb'))"
   ]
  },
  {
   "cell_type": "markdown",
   "metadata": {
    "collapsed": true
   },
   "source": [
    "bike = 0.583272\n",
    "one = 0.650619\n",
    "multi = 0.687697"
   ]
  },
  {
   "cell_type": "code",
   "execution_count": null,
   "metadata": {
    "collapsed": true
   },
   "outputs": [],
   "source": [
    "best_model = pkl.load(open('./best_xgboost_all_data.pkl','rb'))"
   ]
  },
  {
   "cell_type": "code",
   "execution_count": 21,
   "metadata": {
    "collapsed": true
   },
   "outputs": [],
   "source": [
    "bike_model = pkl.load(open('./best_xgboost_bike_data.pkl','rb'))"
   ]
  },
  {
   "cell_type": "code",
   "execution_count": 22,
   "metadata": {
    "collapsed": true
   },
   "outputs": [],
   "source": [
    "one_model = pkl.load(open('./best_xgboost_one_data.pkl','rb'))"
   ]
  },
  {
   "cell_type": "code",
   "execution_count": 33,
   "metadata": {
    "collapsed": true
   },
   "outputs": [],
   "source": [
    "multi_model = pkl.load(open('./best_xgboost_multi_data.pkl','rb'))"
   ]
  },
  {
   "cell_type": "code",
   "execution_count": 26,
   "metadata": {
    "collapsed": false
   },
   "outputs": [],
   "source": [
    "target_variable = 'injured_or_killed'\n",
    "column_names = [i for i in pkl.load(open('../../../Google Drive/Data_science/NYU/Machine Learning/ML Project (Collisions)/data_for_training/v4/'+'collisions_1hot.pkl', 'rb')).columns.values if i != target_variable]"
   ]
  },
  {
   "cell_type": "code",
   "execution_count": 27,
   "metadata": {
    "collapsed": false
   },
   "outputs": [],
   "source": [
    "foo = pd.Series(bike_model.feature_importances_, index=column_names)"
   ]
  },
  {
   "cell_type": "code",
   "execution_count": 28,
   "metadata": {
    "collapsed": false
   },
   "outputs": [
    {
     "data": {
      "text/plain": [
       "zip_code                             0.165333\n",
       "lat_long                             0.093333\n",
       "uber_count_0.06                      0.052667\n",
       "date_time                            0.045333\n",
       "uber_count_0.03                      0.044667\n",
       "dist_to_closest_subway               0.040667\n",
       "num_unknown                          0.038000\n",
       "drag_racing_0.005                    0.036667\n",
       "drag_racing_0.06                     0.035333\n",
       "uber_count_0.3                       0.034000\n",
       "congestion/gridlock_0.005            0.032667\n",
       "time_of_day                          0.032667\n",
       "day_of_week                          0.030667\n",
       "chronic_stoplight_violation_0.06     0.030667\n",
       "chronic_stoplight_violation_0.005    0.029333\n",
       "latitude                             0.023333\n",
       "set_time                             0.023333\n",
       "chronic_speeding_0.06                0.022000\n",
       "chronic_stoplight_violation_0.03     0.019333\n",
       "longitude                            0.018667\n",
       "truck_route_violation_0.005          0.018667\n",
       "congestion/gridlock_0.06             0.017333\n",
       "uber_count_0.1                       0.014000\n",
       "chronic_speeding_0.005               0.011333\n",
       "congestion/gridlock_0.03             0.010667\n",
       "rise_time                            0.009333\n",
       "conditions_clear                     0.009333\n",
       "drag_racing_0.1                      0.008667\n",
       "chronic_speeding_0.1                 0.008000\n",
       "chronic_speeding_0.03                0.005333\n",
       "dtype: float32"
      ]
     },
     "execution_count": 28,
     "metadata": {},
     "output_type": "execute_result"
    }
   ],
   "source": [
    "foo.sort_values(ascending=False)[:30]"
   ]
  },
  {
   "cell_type": "code",
   "execution_count": null,
   "metadata": {
    "collapsed": false
   },
   "outputs": [],
   "source": [
    "val_preds = [best_model.predict_proba(val_X)[:,1]]\n",
    "\n",
    "plt.figure(figsize=(8,8))\n",
    "lw = 2\n",
    "for val_pred in val_preds:\n",
    "    fpr, tpr, _ = metrics.roc_curve(val_y, val_pred)\n",
    "    plt.plot(fpr, tpr,\n",
    "         lw=lw, label='AUC = %0.2f' % metrics.auc(fpr,tpr))\n",
    "\n",
    "plt.plot([0, 1], [0, 1], color='red', lw=lw, linestyle='--')\n",
    "plt.xlim([0.0, 1.0])\n",
    "plt.ylim([0.0, 1.05])\n",
    "plt.xlabel('False Positive Rate')\n",
    "plt.ylabel('True Positive Rate')\n",
    "plt.legend(loc=\"lower right\")\n",
    "plt.show()"
   ]
  },
  {
   "cell_type": "code",
   "execution_count": null,
   "metadata": {
    "collapsed": true
   },
   "outputs": [],
   "source": []
  }
 ],
 "metadata": {
  "anaconda-cloud": {},
  "kernelspec": {
   "display_name": "Python [conda env:collisions-env]",
   "language": "python",
   "name": "conda-env-collisions-env-py"
  },
  "language_info": {
   "codemirror_mode": {
    "name": "ipython",
    "version": 3
   },
   "file_extension": ".py",
   "mimetype": "text/x-python",
   "name": "python",
   "nbconvert_exporter": "python",
   "pygments_lexer": "ipython3",
   "version": "3.5.2"
  }
 },
 "nbformat": 4,
 "nbformat_minor": 2
}
