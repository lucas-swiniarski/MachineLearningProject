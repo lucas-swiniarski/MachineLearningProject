{
 "cells": [
  {
   "cell_type": "code",
   "execution_count": 13,
   "metadata": {
    "collapsed": false
   },
   "outputs": [],
   "source": [
    "import pandas as pd\n",
    "import numpy as np\n",
    "import pickle as pkl\n",
    "import datetime\n",
    "from sklearn import preprocessing\n",
    "% matplotlib inline"
   ]
  },
  {
   "cell_type": "code",
   "execution_count": 14,
   "metadata": {
    "collapsed": true
   },
   "outputs": [],
   "source": [
    "#path = \"../../../Google Drive/Data_science/NYU/Machine Learning/ML Project (Collisions)/data_for_training/v2/\" #Joe\n",
    "path = \"../../../../Google Drive/ML Project (Collisions)/data_for_training/v4/\" # Joyce\n",
    "# path = \"\" # Lucas"
   ]
  },
  {
   "cell_type": "code",
   "execution_count": 15,
   "metadata": {
    "collapsed": false
   },
   "outputs": [],
   "source": [
    "df = pkl.load(open(path + 'collisions_1hot.pkl','rb'))\n",
    "view_date = pd.to_datetime(df['date_time'])\n",
    "\n",
    "train_indices = (0, np.sum(view_date < datetime.date(2015,9,12))-1)\n",
    "val_indices = (train_indices[1]+1,\\\n",
    "               train_indices[1] + \\\n",
    "               np.sum((view_date >= datetime.date(2015,9,12)) & (view_date < datetime.date(2016,7,31))))\n",
    "test_indices = (val_indices[1]+1,\\\n",
    "               val_indices[1] + np.sum(view_date >= datetime.date(2016,7,31)))\n",
    "\n",
    "train_df = df.iloc[train_indices[0]:train_indices[1]]\n",
    "val_df = df.iloc[val_indices[0]:val_indices[1]]\n",
    "test_df = df.iloc[test_indices[0]:test_indices[1]]"
   ]
  },
  {
   "cell_type": "code",
   "execution_count": 16,
   "metadata": {
    "collapsed": false
   },
   "outputs": [
    {
     "name": "stdout",
     "output_type": "stream",
     "text": [
      "2012-07-01 00:05:00\n",
      "2015-09-11 23:55:00\n",
      "2015-09-12 00:01:00\n",
      "2016-07-30 23:07:00\n",
      "2016-07-31 00:07:00\n",
      "2017-03-11 23:50:00\n"
     ]
    }
   ],
   "source": [
    "print(pd.to_datetime(train_df.date_time.min()))\n",
    "print(pd.to_datetime(train_df.date_time.max()))\n",
    "print(pd.to_datetime(val_df.date_time.min()))\n",
    "print(pd.to_datetime(val_df.date_time.max()))\n",
    "print(pd.to_datetime(test_df.date_time.min()))\n",
    "print(pd.to_datetime(test_df.date_time.max()))"
   ]
  },
  {
   "cell_type": "code",
   "execution_count": 17,
   "metadata": {
    "collapsed": false
   },
   "outputs": [],
   "source": [
    "train_df = train_df.applymap(float)\n",
    "val_df = val_df.applymap(float)\n",
    "test_df = test_df.applymap(float)"
   ]
  },
  {
   "cell_type": "code",
   "execution_count": 18,
   "metadata": {
    "collapsed": false
   },
   "outputs": [],
   "source": [
    "train_X = train_df.drop(['injured_or_killed'],axis=1)\n",
    "train_y = train_df['injured_or_killed']\n",
    "val_X = val_df.drop(['injured_or_killed'],axis=1)\n",
    "val_y = val_df['injured_or_killed']\n",
    "test_X = test_df.drop(['injured_or_killed'],axis=1)\n",
    "test_y = test_df['injured_or_killed']"
   ]
  },
  {
   "cell_type": "code",
   "execution_count": 19,
   "metadata": {
    "collapsed": false
   },
   "outputs": [
    {
     "data": {
      "text/plain": [
       "StandardScaler(copy=True, with_mean=True, with_std=True)"
      ]
     },
     "execution_count": 19,
     "metadata": {},
     "output_type": "execute_result"
    }
   ],
   "source": [
    "normalizer = preprocessing.StandardScaler()\n",
    "normalizer.fit(train_X)"
   ]
  },
  {
   "cell_type": "code",
   "execution_count": 20,
   "metadata": {
    "collapsed": false
   },
   "outputs": [],
   "source": [
    "train_X = normalizer.transform(train_X)\n",
    "val_X = normalizer.transform(val_X)\n",
    "test_X = normalizer.transform(test_X)"
   ]
  },
  {
   "cell_type": "code",
   "execution_count": 21,
   "metadata": {
    "collapsed": false
   },
   "outputs": [],
   "source": [
    "pkl.dump(train_X,open(path + 'normalized_1hot/train_X.pkl','wb'))\n",
    "pkl.dump(train_y,open(path + 'normalized_1hot/train_y.pkl','wb'))\n",
    "pkl.dump(val_X,open(path + 'normalized_1hot/val_X.pkl','wb'))\n",
    "pkl.dump(val_y,open(path + 'normalized_1hot/val_y.pkl','wb'))\n",
    "pkl.dump(test_X,open(path + 'normalized_1hot/test_X.pkl','wb'))\n",
    "pkl.dump(test_y,open(path + 'normalized_1hot/test_y.pkl','wb'))"
   ]
  },
  {
   "cell_type": "markdown",
   "metadata": {
    "collapsed": true
   },
   "source": [
    "## For bike, one vehicle, and multivehicle"
   ]
  },
  {
   "cell_type": "code",
   "execution_count": 22,
   "metadata": {
    "collapsed": false
   },
   "outputs": [
    {
     "name": "stdout",
     "output_type": "stream",
     "text": [
      "Starting bike\n",
      "2012-07-01 00:20:00\n",
      "2015-09-11 22:45:00\n",
      "2015-09-12 00:15:00\n",
      "2016-07-30 23:07:00\n",
      "2016-07-31 00:07:00\n",
      "2017-03-11 18:50:00\n",
      "Starting one\n",
      "2012-07-01 01:10:00\n",
      "2015-09-11 23:05:00\n",
      "2015-09-12 01:51:00\n",
      "2016-07-30 23:07:00\n",
      "2016-07-31 00:07:00\n",
      "2017-03-11 23:05:00\n",
      "Starting multi\n",
      "2012-07-01 00:05:00\n",
      "2015-09-11 23:50:00\n",
      "2015-09-12 00:01:00\n",
      "2016-07-30 23:07:00\n",
      "2016-07-31 00:07:00\n",
      "2017-03-11 23:50:00\n"
     ]
    }
   ],
   "source": [
    "for coll_type in ['bike', 'one', 'multi']:\n",
    "    print (\"Starting {0}\".format(coll_type))\n",
    "    \n",
    "    df = pkl.load(open(path + 'split/{0}.pkl'.format(coll_type),'rb'))\n",
    "    \n",
    "    view_date = pd.to_datetime(df['date_time'])\n",
    "\n",
    "    train_indices = (0, np.sum(view_date < datetime.date(2015,9,12))-1)\n",
    "    val_indices = (train_indices[1]+1,\\\n",
    "                   train_indices[1] + \\\n",
    "                   np.sum((view_date >= datetime.date(2015,9,12)) & (view_date < datetime.date(2016,7,31))))\n",
    "    test_indices = (val_indices[1]+1,\\\n",
    "                   val_indices[1] + np.sum(view_date >= datetime.date(2016,7,31)))\n",
    "\n",
    "    train_df = df.iloc[train_indices[0]:train_indices[1]]\n",
    "    val_df = df.iloc[val_indices[0]:val_indices[1]]\n",
    "    test_df = df.iloc[test_indices[0]:test_indices[1]]\n",
    "    \n",
    "    print(pd.to_datetime(train_df.date_time.min()))\n",
    "    print(pd.to_datetime(train_df.date_time.max()))\n",
    "    print(pd.to_datetime(val_df.date_time.min()))\n",
    "    print(pd.to_datetime(val_df.date_time.max()))\n",
    "    print(pd.to_datetime(test_df.date_time.min()))\n",
    "    print(pd.to_datetime(test_df.date_time.max()))\n",
    "    \n",
    "    train_df = train_df.applymap(float)\n",
    "    val_df = val_df.applymap(float)\n",
    "    test_df = test_df.applymap(float)\n",
    "    \n",
    "    train_X = train_df.drop(['injured_or_killed'],axis=1)\n",
    "    train_y = train_df['injured_or_killed']\n",
    "    val_X = val_df.drop(['injured_or_killed'],axis=1)\n",
    "    val_y = val_df['injured_or_killed']\n",
    "    test_X = test_df.drop(['injured_or_killed'],axis=1)\n",
    "    test_y = test_df['injured_or_killed']\n",
    "    \n",
    "    normalizer = preprocessing.StandardScaler()\n",
    "    normalizer.fit(train_X)\n",
    "    \n",
    "    train_X = normalizer.transform(train_X)\n",
    "    val_X = normalizer.transform(val_X)\n",
    "    test_X = normalizer.transform(test_X)\n",
    "    \n",
    "    pkl.dump(train_X,open(path + 'split/{0}/train_X.pkl'.format(coll_type),'wb'))\n",
    "    pkl.dump(train_y,open(path + 'split/{0}//train_y.pkl'.format(coll_type),'wb'))\n",
    "    pkl.dump(val_X,open(path + 'split/{0}/val_X.pkl'.format(coll_type),'wb'))\n",
    "    pkl.dump(val_y,open(path + 'split/{0}/val_y.pkl'.format(coll_type),'wb'))\n",
    "    pkl.dump(test_X,open(path + 'split/{0}/test_X.pkl'.format(coll_type),'wb'))\n",
    "    pkl.dump(test_y,open(path + 'split/{0}/test_y.pkl'.format(coll_type),'wb'))"
   ]
  },
  {
   "cell_type": "code",
   "execution_count": null,
   "metadata": {
    "collapsed": true
   },
   "outputs": [],
   "source": []
  }
 ],
 "metadata": {
  "kernelspec": {
   "display_name": "Python [py35]",
   "language": "python",
   "name": "Python [py35]"
  },
  "language_info": {
   "codemirror_mode": {
    "name": "ipython",
    "version": 3
   },
   "file_extension": ".py",
   "mimetype": "text/x-python",
   "name": "python",
   "nbconvert_exporter": "python",
   "pygments_lexer": "ipython3",
   "version": "3.5.2"
  }
 },
 "nbformat": 4,
 "nbformat_minor": 0
}
