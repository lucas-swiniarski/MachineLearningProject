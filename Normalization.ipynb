{
 "cells": [
  {
   "cell_type": "code",
   "execution_count": 2,
   "metadata": {
    "collapsed": false
   },
   "outputs": [],
   "source": [
    "import pandas as pd\n",
    "import numpy as np\n",
    "import pickle as pkl\n",
    "import datetime\n",
    "from sklearn import preprocessing\n",
    "% matplotlib inline"
   ]
  },
  {
   "cell_type": "code",
   "execution_count": 3,
   "metadata": {
    "collapsed": true
   },
   "outputs": [],
   "source": [
    "path = \"../../../Google Drive/Data_science/NYU/Machine Learning/ML Project (Collisions)/data_for_training/v2/\" #Joe\n",
    "#path = \"../../../../Google Drive/ML Project (Collisions)/\" # Joyce\n",
    "# path = \"\" # Lucas"
   ]
  },
  {
   "cell_type": "code",
   "execution_count": 4,
   "metadata": {
    "collapsed": false
   },
   "outputs": [],
   "source": [
    "df = pkl.load(open(path + 'collisions_1hot.pkl','rb'))\n",
    "df.date_time_proper = df.date_time.apply(lambda x: datetime.datetime.fromtimestamp(int(x)/1e9))\n",
    "\n",
    "df.drop(['injured','killed'],axis=1,inplace=True)\n",
    "\n",
    "train_df = df[df.date_time_proper.dt.date <= datetime.date(2015,9,11)]\n",
    "# val_df = df[(df.date_time_proper.dt.date >= datetime.date(2015,9,12)) & (df.date_time_proper.dt.date <= datetime.date(2016,7,30))]\n",
    "# test_df = df[df.date_time_proper.dt.date >= datetime.date(2016,7,31)]\n",
    "del df"
   ]
  },
  {
   "cell_type": "code",
   "execution_count": 5,
   "metadata": {
    "collapsed": false
   },
   "outputs": [],
   "source": [
    "train_df = train_df.applymap(float)\n",
    "# val_df = val_df.applymap(float)\n",
    "# test_df = test_df.applymap(float)"
   ]
  },
  {
   "cell_type": "code",
   "execution_count": 6,
   "metadata": {
    "collapsed": false
   },
   "outputs": [],
   "source": [
    "train_X = train_df.drop(['injured_or_killed'],axis=1)\n",
    "# train_y = train_df['injured_or_killed']\n",
    "# val_X = val_df.drop(['injured_or_killed'],axis=1)\n",
    "# val_y = val_df['injured_or_killed']\n",
    "# test_X = test_df.drop(['injured_or_killed'],axis=1)\n",
    "# test_y = test_df['injured_or_killed']"
   ]
  },
  {
   "cell_type": "code",
   "execution_count": 17,
   "metadata": {
    "collapsed": false
   },
   "outputs": [
    {
     "data": {
      "text/plain": [
       "StandardScaler(copy=True, with_mean=True, with_std=True)"
      ]
     },
     "execution_count": 17,
     "metadata": {},
     "output_type": "execute_result"
    }
   ],
   "source": [
    "normalizer = preprocessing.StandardScaler()\n",
    "normalizer.fit(train_X)"
   ]
  },
  {
   "cell_type": "code",
   "execution_count": 18,
   "metadata": {
    "collapsed": false
   },
   "outputs": [],
   "source": [
    "train_X = normalizer.transform(train_X)\n",
    "val_X = normalizer.transform(val_X)\n",
    "test_X = normalizer.transform(test_X)"
   ]
  },
  {
   "cell_type": "code",
   "execution_count": 19,
   "metadata": {
    "collapsed": false
   },
   "outputs": [],
   "source": [
    "pkl.dump(train_X,open(path + 'normalized_1hot/train_X.pkl','wb'))\n",
    "pkl.dump(train_y,open(path + 'normalized_1hot/train_y.pkl','wb'))\n",
    "pkl.dump(val_X,open(path + 'normalized_1hot/val_X.pkl','wb'))\n",
    "pkl.dump(val_y,open(path + 'normalized_1hot/val_y.pkl','wb'))\n",
    "pkl.dump(test_X,open(path + 'normalized_1hot/test_X.pkl','wb'))\n",
    "pkl.dump(test_y,open(path + 'normalized_1hot/test_y.pkl','wb'))"
   ]
  },
  {
   "cell_type": "code",
   "execution_count": null,
   "metadata": {
    "collapsed": true
   },
   "outputs": [],
   "source": []
  }
 ],
 "metadata": {
  "kernelspec": {
   "display_name": "Python [default]",
   "language": "python",
   "name": "python3"
  },
  "language_info": {
   "codemirror_mode": {
    "name": "ipython",
    "version": 3
   },
   "file_extension": ".py",
   "mimetype": "text/x-python",
   "name": "python",
   "nbconvert_exporter": "python",
   "pygments_lexer": "ipython3",
   "version": "3.5.2"
  }
 },
 "nbformat": 4,
 "nbformat_minor": 0
}
