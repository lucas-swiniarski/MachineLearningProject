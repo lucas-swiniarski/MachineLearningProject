{
 "cells": [
  {
   "cell_type": "code",
   "execution_count": 4,
   "metadata": {
    "collapsed": false
   },
   "outputs": [],
   "source": [
    "import numpy as np\n",
    "import pandas as pd\n",
    "import pickle\n",
    "from scipy.spatial.distance import cdist\n",
    "import time"
   ]
  },
  {
   "cell_type": "code",
   "execution_count": 16,
   "metadata": {
    "collapsed": true
   },
   "outputs": [],
   "source": [
    "import math\n",
    "\n",
    "class OutOfRangeError(ValueError):\n",
    "    pass\n",
    "\n",
    "__all__ = ['to_latlon', 'from_latlon']\n",
    "\n",
    "K0 = 0.9996\n",
    "\n",
    "E = 0.00669438\n",
    "E2 = E * E\n",
    "E3 = E2 * E\n",
    "E_P2 = E / (1.0 - E)\n",
    "\n",
    "SQRT_E = math.sqrt(1 - E)\n",
    "_E = (1 - SQRT_E) / (1 + SQRT_E)\n",
    "_E2 = _E * _E\n",
    "_E3 = _E2 * _E\n",
    "_E4 = _E3 * _E\n",
    "_E5 = _E4 * _E\n",
    "\n",
    "M1 = (1 - E / 4 - 3 * E2 / 64 - 5 * E3 / 256)\n",
    "M2 = (3 * E / 8 + 3 * E2 / 32 + 45 * E3 / 1024)\n",
    "M3 = (15 * E2 / 256 + 45 * E3 / 1024)\n",
    "M4 = (35 * E3 / 3072)\n",
    "\n",
    "P2 = (3. / 2 * _E - 27. / 32 * _E3 + 269. / 512 * _E5)\n",
    "P3 = (21. / 16 * _E2 - 55. / 32 * _E4)\n",
    "P4 = (151. / 96 * _E3 - 417. / 128 * _E5)\n",
    "P5 = (1097. / 512 * _E4)\n",
    "\n",
    "R = 6378137\n",
    "\n",
    "ZONE_LETTERS = \"CDEFGHJKLMNPQRSTUVWXX\"\n",
    "\n",
    "\n",
    "def to_latlon(easting, northing, zone_number, zone_letter=None, northern=None):\n",
    "\n",
    "    if not zone_letter and northern is None:\n",
    "        raise ValueError('either zone_letter or northern needs to be set')\n",
    "\n",
    "    elif zone_letter and northern is not None:\n",
    "        raise ValueError('set either zone_letter or northern, but not both')\n",
    "\n",
    "    if not 100000 <= easting < 1000000:\n",
    "        raise OutOfRangeError('easting out of range (must be between 100.000 m and 999.999 m)')\n",
    "    if not 0 <= northing <= 10000000:\n",
    "        raise OutOfRangeError('northing out of range (must be between 0 m and 10.000.000 m)')\n",
    "    if not 1 <= zone_number <= 60:\n",
    "        raise OutOfRangeError('zone number out of range (must be between 1 and 60)')\n",
    "\n",
    "    if zone_letter:\n",
    "        zone_letter = zone_letter.upper()\n",
    "\n",
    "        if not 'C' <= zone_letter <= 'X' or zone_letter in ['I', 'O']:\n",
    "            raise OutOfRangeError('zone letter out of range (must be between C and X)')\n",
    "\n",
    "        northern = (zone_letter >= 'N')\n",
    "\n",
    "    x = easting - 500000\n",
    "    y = northing\n",
    "\n",
    "    if not northern:\n",
    "        y -= 10000000\n",
    "\n",
    "    m = y / K0\n",
    "    mu = m / (R * M1)\n",
    "\n",
    "    p_rad = (mu +\n",
    "             P2 * math.sin(2 * mu) +\n",
    "             P3 * math.sin(4 * mu) +\n",
    "             P4 * math.sin(6 * mu) +\n",
    "             P5 * math.sin(8 * mu))\n",
    "\n",
    "    p_sin = math.sin(p_rad)\n",
    "    p_sin2 = p_sin * p_sin\n",
    "\n",
    "    p_cos = math.cos(p_rad)\n",
    "\n",
    "    p_tan = p_sin / p_cos\n",
    "    p_tan2 = p_tan * p_tan\n",
    "    p_tan4 = p_tan2 * p_tan2\n",
    "\n",
    "    ep_sin = 1 - E * p_sin2\n",
    "    ep_sin_sqrt = math.sqrt(1 - E * p_sin2)\n",
    "\n",
    "    n = R / ep_sin_sqrt\n",
    "    r = (1 - E) / ep_sin\n",
    "\n",
    "    c = _E * p_cos**2\n",
    "    c2 = c * c\n",
    "\n",
    "    d = x / (n * K0)\n",
    "    d2 = d * d\n",
    "    d3 = d2 * d\n",
    "    d4 = d3 * d\n",
    "    d5 = d4 * d\n",
    "    d6 = d5 * d\n",
    "\n",
    "    latitude = (p_rad - (p_tan / r) *\n",
    "                (d2 / 2 -\n",
    "                 d4 / 24 * (5 + 3 * p_tan2 + 10 * c - 4 * c2 - 9 * E_P2)) +\n",
    "                 d6 / 720 * (61 + 90 * p_tan2 + 298 * c + 45 * p_tan4 - 252 * E_P2 - 3 * c2))\n",
    "\n",
    "    longitude = (d -\n",
    "                 d3 / 6 * (1 + 2 * p_tan2 + c) +\n",
    "                 d5 / 120 * (5 - 2 * c + 28 * p_tan2 - 3 * c2 + 8 * E_P2 + 24 * p_tan4)) / p_cos\n",
    "\n",
    "    return (math.degrees(latitude),\n",
    "            math.degrees(longitude) + zone_number_to_central_longitude(zone_number))\n",
    "\n",
    "\n",
    "def from_latlon(latitude, longitude, force_zone_number=None):\n",
    "    if not -80.0 <= latitude <= 84.0:\n",
    "        raise OutOfRangeError('latitude out of range (must be between 80 deg S and 84 deg N)')\n",
    "    if not -180.0 <= longitude <= 180.0:\n",
    "        raise OutOfRangeError('longitude out of range (must be between 180 deg W and 180 deg E)')\n",
    "\n",
    "    lat_rad = math.radians(latitude)\n",
    "    lat_sin = math.sin(lat_rad)\n",
    "    lat_cos = math.cos(lat_rad)\n",
    "\n",
    "    lat_tan = lat_sin / lat_cos\n",
    "    lat_tan2 = lat_tan * lat_tan\n",
    "    lat_tan4 = lat_tan2 * lat_tan2\n",
    "\n",
    "    if force_zone_number is None:\n",
    "        zone_number = latlon_to_zone_number(latitude, longitude)\n",
    "    else:\n",
    "        zone_number = force_zone_number\n",
    "\n",
    "    zone_letter = latitude_to_zone_letter(latitude)\n",
    "\n",
    "    lon_rad = math.radians(longitude)\n",
    "    central_lon = zone_number_to_central_longitude(zone_number)\n",
    "    central_lon_rad = math.radians(central_lon)\n",
    "\n",
    "    n = R / math.sqrt(1 - E * lat_sin**2)\n",
    "    c = E_P2 * lat_cos**2\n",
    "\n",
    "    a = lat_cos * (lon_rad - central_lon_rad)\n",
    "    a2 = a * a\n",
    "    a3 = a2 * a\n",
    "    a4 = a3 * a\n",
    "    a5 = a4 * a\n",
    "    a6 = a5 * a\n",
    "\n",
    "    m = R * (M1 * lat_rad -\n",
    "             M2 * math.sin(2 * lat_rad) +\n",
    "             M3 * math.sin(4 * lat_rad) -\n",
    "             M4 * math.sin(6 * lat_rad))\n",
    "\n",
    "    easting = K0 * n * (a +\n",
    "                        a3 / 6 * (1 - lat_tan2 + c) +\n",
    "                        a5 / 120 * (5 - 18 * lat_tan2 + lat_tan4 + 72 * c - 58 * E_P2)) + 500000\n",
    "\n",
    "    northing = K0 * (m + n * lat_tan * (a2 / 2 +\n",
    "                                        a4 / 24 * (5 - lat_tan2 + 9 * c + 4 * c**2) +\n",
    "                                        a6 / 720 * (61 - 58 * lat_tan2 + lat_tan4 + 600 * c - 330 * E_P2)))\n",
    "\n",
    "    if latitude < 0:\n",
    "        northing += 10000000\n",
    "\n",
    "    return easting, northing\n",
    "\n",
    "\n",
    "def latitude_to_zone_letter(latitude):\n",
    "    if -80 <= latitude <= 84:\n",
    "        return ZONE_LETTERS[int(latitude + 80) >> 3]\n",
    "    else:\n",
    "        return None\n",
    "\n",
    "\n",
    "def latlon_to_zone_number(latitude, longitude):\n",
    "    if 56 <= latitude < 64 and 3 <= longitude < 12:\n",
    "        return 32\n",
    "\n",
    "    if 72 <= latitude <= 84 and longitude >= 0:\n",
    "        if longitude <= 9:\n",
    "            return 31\n",
    "        elif longitude <= 21:\n",
    "            return 33\n",
    "        elif longitude <= 33:\n",
    "            return 35\n",
    "        elif longitude <= 42:\n",
    "            return 37\n",
    "\n",
    "    return int((longitude + 180) / 6) + 1\n",
    "\n",
    "\n",
    "def zone_number_to_central_longitude(zone_number):\n",
    "    return (zone_number - 1) * 6 - 180 + 3"
   ]
  },
  {
   "cell_type": "code",
   "execution_count": 19,
   "metadata": {
    "collapsed": true
   },
   "outputs": [],
   "source": [
    "def get_utm(latitude, longitude):\n",
    "    utm1, utm2 = from_latlon(latitude, longitude)\n",
    "    return (utm1, utm2)"
   ]
  },
  {
   "cell_type": "code",
   "execution_count": 20,
   "metadata": {
    "collapsed": true
   },
   "outputs": [],
   "source": [
    "#path = \"../../../Google Drive/Data_science/NYU/Machine Learning/ML Project (Collisions)/\" #Joe\n",
    "path = \"../../../../Google Drive/ML Project (Collisions)/\" # Joyce\n",
    "# path = \"\" # Lucas"
   ]
  },
  {
   "cell_type": "code",
   "execution_count": 42,
   "metadata": {
    "collapsed": true
   },
   "outputs": [],
   "source": [
    "df = pd.read_csv(path + \"NYPD_Motor_Vehicle_Collisions.csv\")"
   ]
  },
  {
   "cell_type": "code",
   "execution_count": 43,
   "metadata": {
    "collapsed": true
   },
   "outputs": [],
   "source": [
    "df.LATITUDE = df.LATITUDE.astype(float)\n",
    "df.LONGITUDE = df.LONGITUDE.astype(float)\n",
    "df = df[df.LATITUDE.notnull()]\n",
    "df = df[df.LONGITUDE > -100]"
   ]
  },
  {
   "cell_type": "code",
   "execution_count": 44,
   "metadata": {
    "collapsed": false
   },
   "outputs": [],
   "source": [
    "df['LOCATION'] = [get_utm(x,y) for x,y in zip(df['LATITUDE'], df['LONGITUDE'])]"
   ]
  },
  {
   "cell_type": "code",
   "execution_count": 46,
   "metadata": {
    "collapsed": true
   },
   "outputs": [],
   "source": [
    "stations = pd.read_csv(path+'NYC_Transit_Subway_Entrance_And_Exit_Data.csv')\n",
    "stations['Entrance Latitude'] = stations['Entrance Latitude'].astype(float)\n",
    "stations['Entrance Longitude'] = stations['Entrance Longitude'].astype(float)"
   ]
  },
  {
   "cell_type": "code",
   "execution_count": 47,
   "metadata": {
    "collapsed": false
   },
   "outputs": [],
   "source": [
    "stations['LOCATION'] = [get_utm(x,y) for x,y in zip(stations['Entrance Latitude'], stations['Entrance Longitude'])]"
   ]
  },
  {
   "cell_type": "code",
   "execution_count": 48,
   "metadata": {
    "collapsed": false
   },
   "outputs": [],
   "source": [
    "points = list(stations['LOCATION'])\n",
    "\n",
    "def dist_to_closest_station(point):\n",
    "    \"\"\" Find closest point from a list of points. \"\"\"\n",
    "    minpt = cdist([point], points).min()\n",
    "    return minpt"
   ]
  },
  {
   "cell_type": "code",
   "execution_count": 49,
   "metadata": {
    "collapsed": false
   },
   "outputs": [
    {
     "data": {
      "text/plain": [
       "932.78544487933584"
      ]
     },
     "execution_count": 49,
     "metadata": {},
     "output_type": "execute_result"
    }
   ],
   "source": [
    "dist_to_closest_station(df['LOCATION'][0])"
   ]
  },
  {
   "cell_type": "code",
   "execution_count": 50,
   "metadata": {
    "collapsed": true
   },
   "outputs": [],
   "source": [
    "df['dist_to_closest_subway'] = [dist_to_closest_station(x) for x in df.LOCATION]"
   ]
  },
  {
   "cell_type": "code",
   "execution_count": 51,
   "metadata": {
    "collapsed": false
   },
   "outputs": [],
   "source": [
    "subway_join = df.set_index(['UNIQUE KEY'])['dist_to_closest_subway']"
   ]
  },
  {
   "cell_type": "code",
   "execution_count": 52,
   "metadata": {
    "collapsed": false
   },
   "outputs": [],
   "source": [
    "with open('subway_joined.pkl', 'wb') as output:\n",
    "    pickle.dump(subway_join, output, pickle.HIGHEST_PROTOCOL)"
   ]
  }
 ],
 "metadata": {
  "kernelspec": {
   "display_name": "Python [py27]",
   "language": "python",
   "name": "Python [py27]"
  },
  "language_info": {
   "codemirror_mode": {
    "name": "ipython",
    "version": 2
   },
   "file_extension": ".py",
   "mimetype": "text/x-python",
   "name": "python",
   "nbconvert_exporter": "python",
   "pygments_lexer": "ipython2",
   "version": "2.7.12"
  }
 },
 "nbformat": 4,
 "nbformat_minor": 0
}
