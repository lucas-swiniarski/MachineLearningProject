{
 "cells": [
  {
   "cell_type": "code",
   "execution_count": 26,
   "metadata": {
    "collapsed": true
   },
   "outputs": [],
   "source": [
    "import numpy as np\n",
    "import pandas as pd\n",
    "import pickle\n",
    "from sklearn import naive_bayes\n",
    "import matplotlib.pyplot as plt\n",
    "from sklearn.model_selection import train_test_split\n",
    "import itertools\n",
    "from sklearn import metrics\n",
    "from sklearn.preprocessing import LabelEncoder\n",
    "%matplotlib inline\n",
    "import datetime"
   ]
  },
  {
   "cell_type": "code",
   "execution_count": 27,
   "metadata": {
    "collapsed": true
   },
   "outputs": [],
   "source": [
    "#path = \"../../../Google Drive/Data_science/NYU/Machine Learning/ML Project (Collisions)/data_for_training/v2/\" #Joe\n",
    "path = \"../../../../Google Drive/ML Project (Collisions)/data_for_training/v4/\" # Joyce\n",
    "# path = \"\" # Lucas"
   ]
  },
  {
   "cell_type": "markdown",
   "metadata": {},
   "source": [
    "## Load train, val, test split"
   ]
  },
  {
   "cell_type": "code",
   "execution_count": 28,
   "metadata": {
    "collapsed": false
   },
   "outputs": [],
   "source": [
    "target_variable = 'injured_or_killed'\n",
    "column_names = [i for i in pickle.load(open(path+'collisions_1hot.pkl', 'rb')).columns.values if i != target_variable]\n",
    "\n",
    "X_train = pd.DataFrame(pickle.load(open(path+'normalized_1hot/train_X.pkl', 'rb')), columns=column_names )\n",
    "y_train = pd.DataFrame(pickle.load(open(path+'normalized_1hot/train_y.pkl', 'rb')), columns = [target_variable])\n",
    "X_val = pd.DataFrame(pickle.load(open(path+'normalized_1hot/val_X.pkl', 'rb')), columns=column_names)\n",
    "y_val = pd.DataFrame(pickle.load(open(path+'normalized_1hot/val_y.pkl', 'rb')), columns = [target_variable])\n",
    "X_test = pd.DataFrame(pickle.load(open(path+'normalized_1hot/test_X.pkl', 'rb')), columns=column_names )\n",
    "y_test = pd.DataFrame(pickle.load(open(path+'normalized_1hot/test_y.pkl', 'rb')), columns = [target_variable])"
   ]
  },
  {
   "cell_type": "code",
   "execution_count": 29,
   "metadata": {
    "collapsed": false
   },
   "outputs": [
    {
     "data": {
      "text/plain": [
       "242"
      ]
     },
     "execution_count": 29,
     "metadata": {},
     "output_type": "execute_result"
    }
   ],
   "source": [
    "len(column_names)"
   ]
  },
  {
   "cell_type": "markdown",
   "metadata": {},
   "source": [
    "## Train a multinomial on the categorical variables and a Gaussian/Bernoulli on the numeric"
   ]
  },
  {
   "cell_type": "code",
   "execution_count": 10,
   "metadata": {
    "collapsed": false
   },
   "outputs": [],
   "source": [
    "numeric = X_train._get_numeric_data().columns.values"
   ]
  },
  {
   "cell_type": "code",
   "execution_count": 11,
   "metadata": {
    "collapsed": false
   },
   "outputs": [],
   "source": [
    "categorical = [i for i in X_train.columns.values if i not in numeric and i != 'injured_or_killed']"
   ]
  },
  {
   "cell_type": "code",
   "execution_count": null,
   "metadata": {
    "collapsed": true
   },
   "outputs": [],
   "source": [
    "multinomial = naive_bayes.MultinomialNB()\n",
    "gaussian = naive_bayes.GaussianNB()\n",
    "bernoulli = naive_bayes.BernoulliNB()"
   ]
  },
  {
   "cell_type": "code",
   "execution_count": null,
   "metadata": {
    "collapsed": true
   },
   "outputs": [],
   "source": [
    "label_encodings = {}"
   ]
  },
  {
   "cell_type": "code",
   "execution_count": null,
   "metadata": {
    "collapsed": false
   },
   "outputs": [],
   "source": [
    "for column in categorical:\n",
    "    label_encodings[column] = LabelEncoder()\n",
    "    label_encodings[column].fit(df[column].fillna('NaN'))\n",
    "    df[column] = label_encodings[column].transform(df[column].fillna('NaN')) "
   ]
  },
  {
   "cell_type": "code",
   "execution_count": null,
   "metadata": {
    "collapsed": true
   },
   "outputs": [],
   "source": [
    "X_train = df.drop(['injured_or_killed'], axis=1).iloc[train_indices[0]:train_indices[1]]\n",
    "y_train = df['injured_or_killed'].iloc[train_indices[0]:train_indices[1]]\n",
    "X_val = df.drop(['injured_or_killed'], axis=1).iloc[val_indices[0]:val_indices[1]]\n",
    "y_val = df['injured_or_killed'][val_indices[0]:val_indices[1]]\n",
    "X_test = df.drop(['injured_or_killed'], axis=1).iloc[test_indices[0]:test_indices[1]]\n",
    "y_test = df['injured_or_killed'][test_indices[0]:test_indices[1]]"
   ]
  },
  {
   "cell_type": "code",
   "execution_count": null,
   "metadata": {
    "collapsed": false
   },
   "outputs": [],
   "source": [
    "multinomial.fit(X_train.loc[:, categorical], y_train)"
   ]
  },
  {
   "cell_type": "code",
   "execution_count": null,
   "metadata": {
    "collapsed": false
   },
   "outputs": [],
   "source": [
    "gaussian.fit(X_train.loc[:, numeric], y_train)"
   ]
  },
  {
   "cell_type": "code",
   "execution_count": null,
   "metadata": {
    "collapsed": false
   },
   "outputs": [],
   "source": [
    "bernoulli.fit(X_train.loc[:, numeric], y_train)"
   ]
  },
  {
   "cell_type": "code",
   "execution_count": null,
   "metadata": {
    "collapsed": false
   },
   "outputs": [],
   "source": [
    "def generate_pred(X, model1, model2):\n",
    "    pred_cat = [i[1] for i in model1.predict_proba(X.loc[:, categorical])]\n",
    "    pred_num = [i[1] for i in model2.predict_proba(X.loc[:, numeric])]\n",
    "    pred_final = np.multiply(pred_cat, pred_num)\n",
    "    \n",
    "    return pred_final"
   ]
  },
  {
   "cell_type": "code",
   "execution_count": null,
   "metadata": {
    "collapsed": false,
    "scrolled": true
   },
   "outputs": [],
   "source": [
    "t_auc = metrics.roc_auc_score(y_train, generate_pred(X_train, multinomial, gaussian))\n",
    "v_auc = metrics.roc_auc_score(y_val, generate_pred(X_val, multinomial, gaussian))\n",
    "\n",
    "print (t_auc, v_auc)"
   ]
  },
  {
   "cell_type": "code",
   "execution_count": null,
   "metadata": {
    "collapsed": false
   },
   "outputs": [],
   "source": [
    "t_auc = metrics.roc_auc_score(y_train, generate_pred(X_train, multinomial, bernoulli))\n",
    "v_auc = metrics.roc_auc_score(y_val, generate_pred(X_val, multinomial, bernoulli))\n",
    "\n",
    "print (t_auc, v_auc)"
   ]
  },
  {
   "cell_type": "code",
   "execution_count": null,
   "metadata": {
    "collapsed": false
   },
   "outputs": [],
   "source": [
    "binary = [i for i in numeric if len(df[i].unique()) == 2]"
   ]
  },
  {
   "cell_type": "code",
   "execution_count": null,
   "metadata": {
    "collapsed": false
   },
   "outputs": [],
   "source": [
    "nonbinary = [i for i in numeric if i not in binary]"
   ]
  },
  {
   "cell_type": "code",
   "execution_count": null,
   "metadata": {
    "collapsed": true
   },
   "outputs": [],
   "source": [
    "nonbinary_gaussian = naive_bayes.GaussianNB()\n",
    "binary_bernoulli = naive_bayes.BernoulliNB()"
   ]
  },
  {
   "cell_type": "code",
   "execution_count": null,
   "metadata": {
    "collapsed": false
   },
   "outputs": [],
   "source": [
    "binary_bernoulli.fit(X_train.loc[:, binary], y_train)\n",
    "nonbinary_gaussian.fit(X_train.loc[:, nonbinary], y_train)"
   ]
  },
  {
   "cell_type": "code",
   "execution_count": null,
   "metadata": {
    "collapsed": false
   },
   "outputs": [],
   "source": [
    "def combine_three_pred(X):\n",
    "\n",
    "    pred_cat = [i[1] for i in multinomial.predict_proba(X.loc[:, categorical])]\n",
    "    pred_bin = [i[1] for i in binary_bernoulli.predict_proba(X.loc[:, binary])]\n",
    "    pred_nonbin = [i[1] for i in nonbinary_gaussian.predict_proba(X.loc[:, nonbinary])]\n",
    "\n",
    "    pred_final = np.multiply(np.multiply(pred_cat, pred_bin), pred_nonbin)\n",
    "    \n",
    "    return pred_final"
   ]
  },
  {
   "cell_type": "code",
   "execution_count": null,
   "metadata": {
    "collapsed": false
   },
   "outputs": [],
   "source": [
    "t_auc = metrics.roc_auc_score(y_train, combine_three_pred(X_train))\n",
    "v_auc = metrics.roc_auc_score(y_val, combine_three_pred(X_val))\n",
    "\n",
    "print (t_auc, v_auc)"
   ]
  },
  {
   "cell_type": "markdown",
   "metadata": {},
   "source": [
    "## 1 Hot Encoding version"
   ]
  },
  {
   "cell_type": "markdown",
   "metadata": {},
   "source": [
    "Gaussian NB"
   ]
  },
  {
   "cell_type": "code",
   "execution_count": 30,
   "metadata": {
    "collapsed": true
   },
   "outputs": [],
   "source": [
    "one_hot_gaussian = naive_bayes.GaussianNB()"
   ]
  },
  {
   "cell_type": "code",
   "execution_count": 31,
   "metadata": {
    "collapsed": false
   },
   "outputs": [
    {
     "name": "stderr",
     "output_type": "stream",
     "text": [
      "//anaconda/envs/py35/lib/python3.5/site-packages/sklearn/utils/validation.py:526: DataConversionWarning: A column-vector y was passed when a 1d array was expected. Please change the shape of y to (n_samples, ), for example using ravel().\n",
      "  y = column_or_1d(y, warn=True)\n"
     ]
    },
    {
     "data": {
      "text/plain": [
       "GaussianNB(priors=None)"
      ]
     },
     "execution_count": 31,
     "metadata": {},
     "output_type": "execute_result"
    }
   ],
   "source": [
    "one_hot_gaussian.fit(X_train, y_train)"
   ]
  },
  {
   "cell_type": "code",
   "execution_count": 32,
   "metadata": {
    "collapsed": false
   },
   "outputs": [
    {
     "name": "stdout",
     "output_type": "stream",
     "text": [
      "0.726189248729 0.702795185309\n"
     ]
    }
   ],
   "source": [
    "one_hot_pred_train = [i[1] for i in one_hot_gaussian.predict_proba(X_train)]\n",
    "one_hot_pred_val = [i[1] for i in one_hot_gaussian.predict_proba(X_val)]\n",
    "\n",
    "t_auc = metrics.roc_auc_score(y_train, one_hot_pred_train)\n",
    "v_auc = metrics.roc_auc_score(y_val, one_hot_pred_val)\n",
    "\n",
    "print (t_auc, v_auc)"
   ]
  },
  {
   "cell_type": "markdown",
   "metadata": {},
   "source": [
    "Bernoulli NB"
   ]
  },
  {
   "cell_type": "code",
   "execution_count": 33,
   "metadata": {
    "collapsed": true
   },
   "outputs": [],
   "source": [
    "one_hot_bernoulli = naive_bayes.BernoulliNB()"
   ]
  },
  {
   "cell_type": "code",
   "execution_count": 34,
   "metadata": {
    "collapsed": false
   },
   "outputs": [
    {
     "name": "stderr",
     "output_type": "stream",
     "text": [
      "//anaconda/envs/py35/lib/python3.5/site-packages/sklearn/utils/validation.py:526: DataConversionWarning: A column-vector y was passed when a 1d array was expected. Please change the shape of y to (n_samples, ), for example using ravel().\n",
      "  y = column_or_1d(y, warn=True)\n"
     ]
    },
    {
     "data": {
      "text/plain": [
       "BernoulliNB(alpha=1.0, binarize=0.0, class_prior=None, fit_prior=True)"
      ]
     },
     "execution_count": 34,
     "metadata": {},
     "output_type": "execute_result"
    }
   ],
   "source": [
    "one_hot_bernoulli.fit(X_train, y_train)"
   ]
  },
  {
   "cell_type": "code",
   "execution_count": 35,
   "metadata": {
    "collapsed": false
   },
   "outputs": [
    {
     "name": "stdout",
     "output_type": "stream",
     "text": [
      "0.735045343965 0.707063078097\n"
     ]
    }
   ],
   "source": [
    "one_hot_pred_train = [i[1] for i in one_hot_bernoulli.predict_proba(X_train)]\n",
    "one_hot_pred_val = [i[1] for i in one_hot_bernoulli.predict_proba(X_val)]\n",
    "\n",
    "t_auc = metrics.roc_auc_score(y_train, one_hot_pred_train)\n",
    "v_auc = metrics.roc_auc_score(y_val, one_hot_pred_val)\n",
    "\n",
    "print (t_auc, v_auc)"
   ]
  },
  {
   "cell_type": "code",
   "execution_count": null,
   "metadata": {
    "collapsed": true
   },
   "outputs": [],
   "source": [
    "\n",
    "\n",
    "\n",
    "\n"
   ]
  },
  {
   "cell_type": "code",
   "execution_count": null,
   "metadata": {
    "collapsed": true
   },
   "outputs": [],
   "source": []
  }
 ],
 "metadata": {
  "anaconda-cloud": {},
  "kernelspec": {
   "display_name": "Python [py35]",
   "language": "python",
   "name": "Python [py35]"
  },
  "language_info": {
   "codemirror_mode": {
    "name": "ipython",
    "version": 3
   },
   "file_extension": ".py",
   "mimetype": "text/x-python",
   "name": "python",
   "nbconvert_exporter": "python",
   "pygments_lexer": "ipython3",
   "version": "3.5.2"
  }
 },
 "nbformat": 4,
 "nbformat_minor": 0
}
