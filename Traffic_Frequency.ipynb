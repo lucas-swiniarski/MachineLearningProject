{
 "cells": [
  {
   "cell_type": "code",
   "execution_count": 2,
   "metadata": {
    "collapsed": false
   },
   "outputs": [],
   "source": [
    "import numpy as np\n",
    "import pandas as pd\n",
    "import geopandas as gpd\n",
    "import matplotlib.pyplot as plt\n",
    "import math\n",
    "from shapely.geometry import Point\n",
    "import pickle\n",
    "import os\n",
    "%matplotlib inline"
   ]
  },
  {
   "cell_type": "code",
   "execution_count": 3,
   "metadata": {
    "collapsed": true
   },
   "outputs": [],
   "source": [
    "path = \"../../../Google Drive/Data_science/NYU/Machine Learning/ML Project (Collisions)/\" #Joe\n",
    "#path = \"../../../../Google Drive/ML Project (Collisions)/\" # Joyce\n",
    "# path = \"\" # Lucas"
   ]
  },
  {
   "cell_type": "code",
   "execution_count": 4,
   "metadata": {
    "collapsed": true
   },
   "outputs": [],
   "source": [
    "uber_path = path+\"Uber Data/\""
   ]
  },
  {
   "cell_type": "markdown",
   "metadata": {},
   "source": [
    "## Create Traffic Measures"
   ]
  },
  {
   "cell_type": "code",
   "execution_count": 5,
   "metadata": {
    "collapsed": true
   },
   "outputs": [],
   "source": [
    "def parse_and_add(new_filename,combined_df, step):\n",
    "    df = pd.read_csv(uber_path + new_filename)\n",
    "    df['Date/Time'] = pd.to_datetime(df['Date/Time'], format='%m/%d/%Y %H:%M:%S')\n",
    "    \n",
    "    to_bin = lambda x: np.round(x / step) * step\n",
    "    df[\"Lat_bin\"] = df.Lat.map(to_bin)\n",
    "    df[\"Long_bin\"] = df.Lon.map(to_bin)\n",
    "    df['hour']=df['Date/Time'].dt.hour\n",
    "    df['dayofweek']=df['Date/Time'].dt.dayofweek\n",
    "    grouped_df = df.groupby(['Lat_bin','Long_bin','hour','dayofweek'])['Base'].count()\n",
    "    del df\n",
    "    \n",
    "    if type(combined_df) == type(None):\n",
    "        return grouped_df\n",
    "    else:\n",
    "        return combined_df.combine(grouped_df,lambda x,y: x+y, fill_value=0)"
   ]
  },
  {
   "cell_type": "code",
   "execution_count": 6,
   "metadata": {
    "collapsed": true
   },
   "outputs": [],
   "source": [
    "file_list = ['uber-raw-data-apr14.csv',\n",
    " 'uber-raw-data-aug14.csv',\n",
    " 'uber-raw-data-jul14.csv',\n",
    " 'uber-raw-data-jun14.csv',\n",
    " 'uber-raw-data-may14.csv',\n",
    " 'uber-raw-data-sep14.csv']"
   ]
  },
  {
   "cell_type": "code",
   "execution_count": 12,
   "metadata": {
    "collapsed": false
   },
   "outputs": [
    {
     "name": "stdout",
     "output_type": "stream",
     "text": [
      "uber-raw-data-apr14.csv\n",
      "uber-raw-data-aug14.csv\n",
      "uber-raw-data-jul14.csv\n",
      "uber-raw-data-jun14.csv\n",
      "uber-raw-data-may14.csv\n",
      "uber-raw-data-sep14.csv\n"
     ]
    }
   ],
   "source": [
    "step=0.005\n",
    "combined_df = None\n",
    "for filename in file_list:\n",
    "    print(filename)\n",
    "    combined_df = parse_and_add(filename,combined_df, step)\n",
    "combined_df.name = 'Uber_Count'\n",
    "pickle.dump(combined_df, open('./data/hourly_traffic_intensity_'+str(step)+'.pkl','wb'))"
   ]
  },
  {
   "cell_type": "markdown",
   "metadata": {},
   "source": [
    "## Join Traffic Measures"
   ]
  },
  {
   "cell_type": "code",
   "execution_count": 8,
   "metadata": {
    "collapsed": true
   },
   "outputs": [],
   "source": [
    "def join_traffic_to_collision(collisions_path, step):\n",
    "    collisions = pickle.load(open(collisions_path,'rb'), encoding='latin1')\n",
    "    \n",
    "    to_bin = lambda x: np.round(x / step) * step\n",
    "    collisions[\"Lat_bin\"] = collisions.LATITUDE.map(to_bin)\n",
    "    collisions[\"Long_bin\"] = collisions.LONGITUDE.map(to_bin)\n",
    "    collisions['hour'] = collisions.DATE_TIME.dt.hour\n",
    "    collisions['dayofweek'] = collisions.DATE_TIME.dt.dayofweek\n",
    "    collisions = collisions[['UNIQUE KEY','hour','dayofweek','Long_bin','Lat_bin']].dropna()\n",
    "    \n",
    "    df = pickle.load(open('./data/hourly_traffic_intensity_'+str(step)+'.pkl','rb'))\n",
    "\n",
    "    joined = collisions.join(df, on = ['Lat_bin','Long_bin','hour','dayofweek']).fillna(0)\n",
    "    joined.index=joined['UNIQUE KEY']\n",
    "    return joined[joined.columns[-1]]"
   ]
  },
  {
   "cell_type": "code",
   "execution_count": 14,
   "metadata": {
    "collapsed": false
   },
   "outputs": [],
   "source": [
    "step = 0.003\n",
    "pickle.dump(join_traffic_to_collision(path + 'data_for_joining/collisions.pkl', step), open(path+'data_for_joining/traffic_joined_'+str(step)+'.pkl','wb'))"
   ]
  },
  {
   "cell_type": "code",
   "execution_count": null,
   "metadata": {
    "collapsed": true
   },
   "outputs": [],
   "source": []
  }
 ],
 "metadata": {
  "kernelspec": {
   "display_name": "Python 3",
   "language": "python",
   "name": "python3"
  },
  "language_info": {
   "codemirror_mode": {
    "name": "ipython",
    "version": 3
   },
   "file_extension": ".py",
   "mimetype": "text/x-python",
   "name": "python",
   "nbconvert_exporter": "python",
   "pygments_lexer": "ipython3",
   "version": "3.5.2"
  }
 },
 "nbformat": 4,
 "nbformat_minor": 0
}
