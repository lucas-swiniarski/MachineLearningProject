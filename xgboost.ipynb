{
 "cells": [
  {
   "cell_type": "code",
   "execution_count": 14,
   "metadata": {
    "collapsed": false
   },
   "outputs": [],
   "source": [
    "import xgboost as xgb\n",
    "import numpy as np\n",
    "import pandas as pd\n",
    "import pickle as pkl\n",
    "from sklearn import metrics\n",
    "import matplotlib.pylab as plt\n",
    "%matplotlib inline"
   ]
  },
  {
   "cell_type": "code",
   "execution_count": 17,
   "metadata": {
    "collapsed": true
   },
   "outputs": [],
   "source": [
    "path = \"../../../Google Drive/Data_science/NYU/Machine Learning/ML Project (Collisions)/data_for_training/v2/\" #Joe\n",
    "#path = \"../../../../Google Drive/ML Project (Collisions)/\" # Joyce\n",
    "# path = \"\" # Lucas"
   ]
  },
  {
   "cell_type": "code",
   "execution_count": 26,
   "metadata": {
    "collapsed": false
   },
   "outputs": [],
   "source": [
    "def modelfit(alg, train_X, train_y, val_X=None, val_y=None, early_stopping_rounds=50):\n",
    "    \n",
    "    val_check = (not val_X is None)\n",
    "    \n",
    "    # Fit the algorithm on the data\n",
    "    print(alg.get_params)\n",
    "    alg.fit(train_X, train_y, eval_metric='auc')\n",
    "        \n",
    "    # Predict training set:\n",
    "    dtrain_predictions = alg.predict(train_X)\n",
    "    dtrain_predprob = alg.predict_proba(train_X)[:,1]\n",
    "\n",
    "    # Predict val set:\n",
    "    if val_check:\n",
    "        dval_predictions = alg.predict(val_X)\n",
    "        dval_predprob = alg.predict_proba(val_X)[:,1]\n",
    "    \n",
    "    #Print model report:\n",
    "    print(\"\\nModel Report\")\n",
    "    print(\"Accuracy : %.4g\" % metrics.accuracy_score(train_y, dtrain_predictions))\n",
    "    print(\"AUC Score (Train): %f\" % metrics.roc_auc_score(train_y, dtrain_predprob))\n",
    "\n",
    "    if val_check:\n",
    "        print(\"\\nAccuracy : %.4g\" % metrics.accuracy_score(val_y, dval_predictions))\n",
    "        print(\"AUC Score (Val): %f\" % metrics.roc_auc_score(val_y, dval_predprob))\n",
    "    \n",
    "    feat_imp = pd.Series(alg.booster().get_fscore()).sort_values(ascending=False)\n",
    "    feat_imp.plot(kind='bar', title='Feature Importances')\n",
    "    plt.ylabel('Feature Importance Score')"
   ]
  },
  {
   "cell_type": "code",
   "execution_count": 18,
   "metadata": {
    "collapsed": false
   },
   "outputs": [],
   "source": [
    "train_X = pkl.load(open(path+'normalized_1hot/train_X.pkl','rb'))\n",
    "train_y = pkl.load(open(path+'normalized_1hot/train_y.pkl','rb'))\n",
    "\n",
    "val_X = pkl.load(open(path+'normalized_1hot/val_X.pkl','rb'))\n",
    "val_y = pkl.load(open(path+'normalized_1hot/val_y.pkl','rb'))"
   ]
  },
  {
   "cell_type": "code",
   "execution_count": 28,
   "metadata": {
    "collapsed": false
   },
   "outputs": [
    {
     "name": "stdout",
     "output_type": "stream",
     "text": [
      "<bound method XGBModel.get_params of XGBClassifier(base_score=0.5, colsample_bylevel=1, colsample_bytree=1,\n",
      "       gamma=0, learning_rate=0.1, max_delta_step=0, max_depth=3,\n",
      "       min_child_weight=1, missing=None, n_estimators=100, nthread=-1,\n",
      "       objective='binary:logistic', reg_alpha=0, reg_lambda=1,\n",
      "       scale_pos_weight=1, seed=0, silent=False, subsample=1)>\n",
      "\n",
      "Model Report\n",
      "Accuracy : 0.8513\n",
      "AUC Score (Train): 0.795226\n",
      "\n",
      "Accuracy : 0.8264\n",
      "AUC Score (Val): 0.758015\n"
     ]
    },
    {
     "data": {
      "image/png": "[encoded data removed]",
      "text/plain": [
       "<matplotlib.figure.Figure at 0x11345c208>"
      ]
     },
     "metadata": {},
     "output_type": "display_data"
    }
   ],
   "source": [
    "modelfit(xgb.XGBClassifier(silent=False, ), train_X=train_X, train_y=train_y, val_X=val_X, val_y=val_y)"
   ]
  },
  {
   "cell_type": "code",
   "execution_count": 31,
   "metadata": {
    "collapsed": false
   },
   "outputs": [
    {
     "name": "stdout",
     "output_type": "stream",
     "text": [
      "<bound method XGBModel.get_params of XGBClassifier(base_score=0.1874486476325611, colsample_bylevel=1,\n",
      "       colsample_bytree=1, gamma=0, learning_rate=0.1, max_delta_step=0,\n",
      "       max_depth=3, min_child_weight=1, missing=None, n_estimators=100,\n",
      "       nthread=-1, objective='binary:logistic', reg_alpha=0, reg_lambda=1,\n",
      "       scale_pos_weight=1, seed=0, silent=True, subsample=1)>\n",
      "\n",
      "Model Report\n",
      "Accuracy : 0.8514\n",
      "AUC Score (Train): 0.795570\n",
      "\n",
      "Accuracy : 0.8264\n",
      "AUC Score (Val): 0.758184\n"
     ]
    },
    {
     "data": {
      "image/png": "[encoded data removed]",
      "text/plain": [
       "<matplotlib.figure.Figure at 0x1183c7978>"
      ]
     },
     "metadata": {},
     "output_type": "display_data"
    }
   ],
   "source": [
    "modelfit(xgb.XGBClassifier(base_score=train_y.mean()), train_X=train_X, train_y=train_y, val_X=val_X, val_y=val_y)"
   ]
  },
  {
   "cell_type": "code",
   "execution_count": null,
   "metadata": {
    "collapsed": true
   },
   "outputs": [],
   "source": []
  }
 ],
 "metadata": {
  "anaconda-cloud": {},
  "kernelspec": {
   "display_name": "Python [conda env:collisions-env]",
   "language": "python",
   "name": "conda-env-collisions-env-py"
  },
  "language_info": {
   "codemirror_mode": {
    "name": "ipython",
    "version": 3
   },
   "file_extension": ".py",
   "mimetype": "text/x-python",
   "name": "python",
   "nbconvert_exporter": "python",
   "pygments_lexer": "ipython3",
   "version": "3.5.2"
  }
 },
 "nbformat": 4,
 "nbformat_minor": 2
}
