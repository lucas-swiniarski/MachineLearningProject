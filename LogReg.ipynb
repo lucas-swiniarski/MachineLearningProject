{
 "cells": [
  {
   "cell_type": "code",
   "execution_count": 4,
   "metadata": {
    "collapsed": false
   },
   "outputs": [],
   "source": [
    "import pandas as pd\n",
    "import numpy as np\n",
    "import pickle as pkl\n",
    "import datetime\n",
    "from sklearn import preprocessing\n",
    "from sklearn import linear_model\n",
    "from sklearn.metrics import roc_auc_score\n",
    "% matplotlib inline"
   ]
  },
  {
   "cell_type": "code",
   "execution_count": 2,
   "metadata": {
    "collapsed": true
   },
   "outputs": [],
   "source": [
    "path = \"../../../Google Drive/Data_science/NYU/Machine Learning/ML Project (Collisions)/data_for_training/v4/\" #Joe\n",
    "#path = \"../../../../Google Drive/ML Project (Collisions)/\" # Joyce\n",
    "# path = \"\" # Lucas"
   ]
  },
  {
   "cell_type": "code",
   "execution_count": 3,
   "metadata": {
    "collapsed": false
   },
   "outputs": [],
   "source": [
    "target_variable = 'injured_or_killed'\n",
    "column_names = [i for i in pkl.load(open(path+'collisions_1hot.pkl', 'rb')).columns.values if i != target_variable]\n",
    "\n",
    "train_X = pd.DataFrame(pkl.load(open(path+'normalized_1hot/train_X.pkl', 'rb')), columns=column_names )\n",
    "train_y = pd.DataFrame(pkl.load(open(path+'normalized_1hot/train_y.pkl', 'rb')), columns = [target_variable])\n",
    "val_X = pd.DataFrame(pkl.load(open(path+'normalized_1hot/val_X.pkl', 'rb')), columns=column_names)\n",
    "val_y = pd.DataFrame(pkl.load(open(path+'normalized_1hot/val_y.pkl', 'rb')), columns = [target_variable])\n",
    "# X_test = pd.DataFrame(pkl.load(open(path+'normalized_1hot/test_X.pkl', 'rb')), columns=column_names )\n",
    "# y_test = pd.DataFrame(pkl.load(open(path+'normalized_1hot/test_y.pkl', 'rb')), columns = [target_variable])"
   ]
  },
  {
   "cell_type": "code",
   "execution_count": 12,
   "metadata": {
    "collapsed": true
   },
   "outputs": [],
   "source": [
    "# best_model = pkl.load(open('./best_xgboost_all_data.pkl','rb'))"
   ]
  },
  {
   "cell_type": "code",
   "execution_count": 13,
   "metadata": {
    "collapsed": false
   },
   "outputs": [
    {
     "data": {
      "text/plain": [
       "array(['num_vehicles', 'time_of_day', 'date_time',\n",
       "       'dist_to_closest_subway', 'longitude'], dtype=object)"
      ]
     },
     "execution_count": 13,
     "metadata": {},
     "output_type": "execute_result"
    }
   ],
   "source": [
    "# feats = pd.Series(best_model.feature_importances_, index=column_names)\n",
    "# feats.sort_values(ascending=False)[:5].index.values"
   ]
  },
  {
   "cell_type": "code",
   "execution_count": 14,
   "metadata": {
    "collapsed": false
   },
   "outputs": [],
   "source": [
    "# top_k = {'five':feats.sort_values(ascending=False)[:5].index.values, 'ten':feats.sort_values(ascending=False)[:10].index.values, 'twenty':feats.sort_values(ascending=False)[:20].index.values}"
   ]
  },
  {
   "cell_type": "code",
   "execution_count": 16,
   "metadata": {
    "collapsed": true
   },
   "outputs": [],
   "source": [
    "# for key in top_k:\n",
    "#     pkl.dump(np.array(train_X[top_k[key]]), open(path+key+'/train_X.pkl','wb'))\n",
    "#     pkl.dump(np.array(val_X[top_k[key]]), open(path+key+'/val_X.pkl','wb'))\n",
    "    \n",
    "#     pkl.dump(np.array(train_y), open(path+key+'/train_y.pkl','wb'))\n",
    "#     pkl.dump(np.array(val_y), open(path+key+'/val_y.pkl','wb'))"
   ]
  },
  {
   "cell_type": "markdown",
   "metadata": {},
   "source": [
    "## LogReg"
   ]
  },
  {
   "cell_type": "code",
   "execution_count": 5,
   "metadata": {
    "collapsed": false
   },
   "outputs": [],
   "source": [
    "LogReg = linear_model.LogisticRegression(C=2e-6, max_iter=1e3, random_state=42)"
   ]
  },
  {
   "cell_type": "code",
   "execution_count": 6,
   "metadata": {
    "collapsed": false
   },
   "outputs": [
    {
     "name": "stderr",
     "output_type": "stream",
     "text": [
      "/Users/Joe/anaconda2/envs/collisions-env/lib/python3.5/site-packages/sklearn/utils/validation.py:526: DataConversionWarning: A column-vector y was passed when a 1d array was expected. Please change the shape of y to (n_samples, ), for example using ravel().\n",
      "  y = column_or_1d(y, warn=True)\n"
     ]
    },
    {
     "data": {
      "text/plain": [
       "LogisticRegression(C=2e-06, class_weight=None, dual=False, fit_intercept=True,\n",
       "          intercept_scaling=1, max_iter=1000.0, multi_class='ovr',\n",
       "          n_jobs=1, penalty='l2', random_state=42, solver='liblinear',\n",
       "          tol=0.0001, verbose=0, warm_start=False)"
      ]
     },
     "execution_count": 6,
     "metadata": {},
     "output_type": "execute_result"
    }
   ],
   "source": [
    "LogReg.fit(train_X,train_y)"
   ]
  },
  {
   "cell_type": "code",
   "execution_count": 17,
   "metadata": {
    "collapsed": true
   },
   "outputs": [],
   "source": [
    "# train_scores = LogReg.predict_proba(train_X)\n",
    "val_scores = LogReg.predict_proba(val_X)[:,1]"
   ]
  },
  {
   "cell_type": "code",
   "execution_count": 19,
   "metadata": {
    "collapsed": false
   },
   "outputs": [
    {
     "name": "stdout",
     "output_type": "stream",
     "text": [
      "0.739434217413\n"
     ]
    }
   ],
   "source": [
    "# print(roc_auc_score(train_y,train_scores[:,1]))\n",
    "print(roc_auc_score(val_y,val_scores))"
   ]
  },
  {
   "cell_type": "code",
   "execution_count": 12,
   "metadata": {
    "collapsed": false
   },
   "outputs": [],
   "source": [
    "pkl.dump(LogReg,open('./model_logreg.pkl','wb'))\n",
    "# pkl.dump(val_scores, open('./logreg.pkl','wb'))"
   ]
  },
  {
   "cell_type": "code",
   "execution_count": 45,
   "metadata": {
    "collapsed": false
   },
   "outputs": [],
   "source": [
    "coefs = list(map(float,LogReg.coef_[0]))\n",
    "foo = pd.DataFrame(list(zip(coefs, column_names)))\n",
    "foo[0] = abs(foo[0])"
   ]
  },
  {
   "cell_type": "code",
   "execution_count": 70,
   "metadata": {
    "collapsed": false
   },
   "outputs": [
    {
     "data": {
      "text/html": [
       "<div>\n",
       "<table border=\"1\" class=\"dataframe\">\n",
       "  <thead>\n",
       "    <tr style=\"text-align: right;\">\n",
       "      <th></th>\n",
       "      <th>0</th>\n",
       "      <th>1</th>\n",
       "    </tr>\n",
       "  </thead>\n",
       "  <tbody>\n",
       "    <tr>\n",
       "      <th>84</th>\n",
       "      <td>0.000000</td>\n",
       "      <td>num_nan</td>\n",
       "    </tr>\n",
       "    <tr>\n",
       "      <th>171</th>\n",
       "      <td>0.000008</td>\n",
       "      <td>wind_dir_nne</td>\n",
       "    </tr>\n",
       "    <tr>\n",
       "      <th>173</th>\n",
       "      <td>0.000019</td>\n",
       "      <td>wind_dir_nw</td>\n",
       "    </tr>\n",
       "    <tr>\n",
       "      <th>167</th>\n",
       "      <td>0.000024</td>\n",
       "      <td>wind_dir_ene</td>\n",
       "    </tr>\n",
       "    <tr>\n",
       "      <th>236</th>\n",
       "      <td>0.000035</td>\n",
       "      <td>vehicle_type_code_4_motorcycle</td>\n",
       "    </tr>\n",
       "    <tr>\n",
       "      <th>183</th>\n",
       "      <td>0.000062</td>\n",
       "      <td>wind_dir_west</td>\n",
       "    </tr>\n",
       "    <tr>\n",
       "      <th>200</th>\n",
       "      <td>0.000069</td>\n",
       "      <td>lat/long_infered_off</td>\n",
       "    </tr>\n",
       "    <tr>\n",
       "      <th>16</th>\n",
       "      <td>0.000088</td>\n",
       "      <td>truck_route_violation_0.001</td>\n",
       "    </tr>\n",
       "    <tr>\n",
       "      <th>141</th>\n",
       "      <td>0.000089</td>\n",
       "      <td>dew_point_nan</td>\n",
       "    </tr>\n",
       "    <tr>\n",
       "      <th>142</th>\n",
       "      <td>0.000089</td>\n",
       "      <td>humidity_nan</td>\n",
       "    </tr>\n",
       "    <tr>\n",
       "      <th>143</th>\n",
       "      <td>0.000089</td>\n",
       "      <td>pressure_nan</td>\n",
       "    </tr>\n",
       "    <tr>\n",
       "      <th>197</th>\n",
       "      <td>0.000114</td>\n",
       "      <td>conditions_thunderstorm</td>\n",
       "    </tr>\n",
       "    <tr>\n",
       "      <th>168</th>\n",
       "      <td>0.000118</td>\n",
       "      <td>wind_dir_ese</td>\n",
       "    </tr>\n",
       "    <tr>\n",
       "      <th>14</th>\n",
       "      <td>0.000153</td>\n",
       "      <td>drag_racing_0.001</td>\n",
       "    </tr>\n",
       "    <tr>\n",
       "      <th>107</th>\n",
       "      <td>0.000154</td>\n",
       "      <td>congestion/gridlock_0.002_nan</td>\n",
       "    </tr>\n",
       "    <tr>\n",
       "      <th>153</th>\n",
       "      <td>0.000154</td>\n",
       "      <td>lights_complaints_0.001_nan</td>\n",
       "    </tr>\n",
       "    <tr>\n",
       "      <th>154</th>\n",
       "      <td>0.000154</td>\n",
       "      <td>lat_long_nan</td>\n",
       "    </tr>\n",
       "    <tr>\n",
       "      <th>155</th>\n",
       "      <td>0.000154</td>\n",
       "      <td>lat_lat_nan</td>\n",
       "    </tr>\n",
       "    <tr>\n",
       "      <th>136</th>\n",
       "      <td>0.000154</td>\n",
       "      <td>truck_route_violation_0.3_nan</td>\n",
       "    </tr>\n",
       "    <tr>\n",
       "      <th>135</th>\n",
       "      <td>0.000154</td>\n",
       "      <td>drag_racing_0.3_nan</td>\n",
       "    </tr>\n",
       "    <tr>\n",
       "      <th>102</th>\n",
       "      <td>0.000154</td>\n",
       "      <td>congestion/gridlock_0.001_nan</td>\n",
       "    </tr>\n",
       "    <tr>\n",
       "      <th>103</th>\n",
       "      <td>0.000154</td>\n",
       "      <td>chronic_speeding_0.001_nan</td>\n",
       "    </tr>\n",
       "    <tr>\n",
       "      <th>104</th>\n",
       "      <td>0.000154</td>\n",
       "      <td>drag_racing_0.001_nan</td>\n",
       "    </tr>\n",
       "    <tr>\n",
       "      <th>156</th>\n",
       "      <td>0.000154</td>\n",
       "      <td>long_long_nan</td>\n",
       "    </tr>\n",
       "    <tr>\n",
       "      <th>105</th>\n",
       "      <td>0.000154</td>\n",
       "      <td>chronic_stoplight_violation_0.001_nan</td>\n",
       "    </tr>\n",
       "    <tr>\n",
       "      <th>106</th>\n",
       "      <td>0.000154</td>\n",
       "      <td>truck_route_violation_0.001_nan</td>\n",
       "    </tr>\n",
       "    <tr>\n",
       "      <th>132</th>\n",
       "      <td>0.000154</td>\n",
       "      <td>chronic_speeding_0.3_nan</td>\n",
       "    </tr>\n",
       "    <tr>\n",
       "      <th>149</th>\n",
       "      <td>0.000154</td>\n",
       "      <td>dist_to_closest_subway_nan</td>\n",
       "    </tr>\n",
       "    <tr>\n",
       "      <th>108</th>\n",
       "      <td>0.000154</td>\n",
       "      <td>chronic_speeding_0.002_nan</td>\n",
       "    </tr>\n",
       "    <tr>\n",
       "      <th>124</th>\n",
       "      <td>0.000154</td>\n",
       "      <td>congestion/gridlock_0.06_nan</td>\n",
       "    </tr>\n",
       "    <tr>\n",
       "      <th>...</th>\n",
       "      <td>...</td>\n",
       "      <td>...</td>\n",
       "    </tr>\n",
       "    <tr>\n",
       "      <th>235</th>\n",
       "      <td>0.010099</td>\n",
       "      <td>vehicle_type_code_4_medium_vehicle</td>\n",
       "    </tr>\n",
       "    <tr>\n",
       "      <th>219</th>\n",
       "      <td>0.011225</td>\n",
       "      <td>vehicle_type_code_2_other</td>\n",
       "    </tr>\n",
       "    <tr>\n",
       "      <th>206</th>\n",
       "      <td>0.012871</td>\n",
       "      <td>vehicle_type_code_1_bicycle</td>\n",
       "    </tr>\n",
       "    <tr>\n",
       "      <th>83</th>\n",
       "      <td>0.013173</td>\n",
       "      <td>num_passenger_vehicle</td>\n",
       "    </tr>\n",
       "    <tr>\n",
       "      <th>82</th>\n",
       "      <td>0.013430</td>\n",
       "      <td>num_medium_vehicle</td>\n",
       "    </tr>\n",
       "    <tr>\n",
       "      <th>88</th>\n",
       "      <td>0.013838</td>\n",
       "      <td>num_large_vehicle</td>\n",
       "    </tr>\n",
       "    <tr>\n",
       "      <th>216</th>\n",
       "      <td>0.014045</td>\n",
       "      <td>vehicle_type_code_2_large_vehicle</td>\n",
       "    </tr>\n",
       "    <tr>\n",
       "      <th>238</th>\n",
       "      <td>0.014243</td>\n",
       "      <td>vehicle_type_code_4_passenger_vehicle</td>\n",
       "    </tr>\n",
       "    <tr>\n",
       "      <th>221</th>\n",
       "      <td>0.015715</td>\n",
       "      <td>vehicle_type_code_2_small_com_veh(4_tires)</td>\n",
       "    </tr>\n",
       "    <tr>\n",
       "      <th>218</th>\n",
       "      <td>0.015769</td>\n",
       "      <td>vehicle_type_code_2_motorcycle</td>\n",
       "    </tr>\n",
       "    <tr>\n",
       "      <th>7</th>\n",
       "      <td>0.016867</td>\n",
       "      <td>injured_or_killed_-_0.1</td>\n",
       "    </tr>\n",
       "    <tr>\n",
       "      <th>213</th>\n",
       "      <td>0.018059</td>\n",
       "      <td>vehicle_type_code_1_unknown</td>\n",
       "    </tr>\n",
       "    <tr>\n",
       "      <th>100</th>\n",
       "      <td>0.018567</td>\n",
       "      <td>vehicle_type_code_4_nan</td>\n",
       "    </tr>\n",
       "    <tr>\n",
       "      <th>226</th>\n",
       "      <td>0.018971</td>\n",
       "      <td>vehicle_type_code_3_medium_vehicle</td>\n",
       "    </tr>\n",
       "    <tr>\n",
       "      <th>209</th>\n",
       "      <td>0.019608</td>\n",
       "      <td>vehicle_type_code_1_motorcycle</td>\n",
       "    </tr>\n",
       "    <tr>\n",
       "      <th>229</th>\n",
       "      <td>0.024444</td>\n",
       "      <td>vehicle_type_code_3_passenger_vehicle</td>\n",
       "    </tr>\n",
       "    <tr>\n",
       "      <th>89</th>\n",
       "      <td>0.024799</td>\n",
       "      <td>num_motorcycle</td>\n",
       "    </tr>\n",
       "    <tr>\n",
       "      <th>91</th>\n",
       "      <td>0.025491</td>\n",
       "      <td>num_unknown</td>\n",
       "    </tr>\n",
       "    <tr>\n",
       "      <th>81</th>\n",
       "      <td>0.025986</td>\n",
       "      <td>all_vehicles_same_type</td>\n",
       "    </tr>\n",
       "    <tr>\n",
       "      <th>217</th>\n",
       "      <td>0.026700</td>\n",
       "      <td>vehicle_type_code_2_medium_vehicle</td>\n",
       "    </tr>\n",
       "    <tr>\n",
       "      <th>6</th>\n",
       "      <td>0.027656</td>\n",
       "      <td>injured_or_killed_-_0.06</td>\n",
       "    </tr>\n",
       "    <tr>\n",
       "      <th>220</th>\n",
       "      <td>0.030700</td>\n",
       "      <td>vehicle_type_code_2_passenger_vehicle</td>\n",
       "    </tr>\n",
       "    <tr>\n",
       "      <th>99</th>\n",
       "      <td>0.033885</td>\n",
       "      <td>vehicle_type_code_3_nan</td>\n",
       "    </tr>\n",
       "    <tr>\n",
       "      <th>222</th>\n",
       "      <td>0.040148</td>\n",
       "      <td>vehicle_type_code_2_unknown</td>\n",
       "    </tr>\n",
       "    <tr>\n",
       "      <th>80</th>\n",
       "      <td>0.048276</td>\n",
       "      <td>num_vehicles</td>\n",
       "    </tr>\n",
       "    <tr>\n",
       "      <th>5</th>\n",
       "      <td>0.051274</td>\n",
       "      <td>injured_or_killed_-_0.03</td>\n",
       "    </tr>\n",
       "    <tr>\n",
       "      <th>215</th>\n",
       "      <td>0.072829</td>\n",
       "      <td>vehicle_type_code_2_bicycle</td>\n",
       "    </tr>\n",
       "    <tr>\n",
       "      <th>86</th>\n",
       "      <td>0.073936</td>\n",
       "      <td>num_bicycle</td>\n",
       "    </tr>\n",
       "    <tr>\n",
       "      <th>98</th>\n",
       "      <td>0.113089</td>\n",
       "      <td>vehicle_type_code_2_nan</td>\n",
       "    </tr>\n",
       "    <tr>\n",
       "      <th>4</th>\n",
       "      <td>0.147992</td>\n",
       "      <td>injured_or_killed_-_0.01</td>\n",
       "    </tr>\n",
       "  </tbody>\n",
       "</table>\n",
       "<p>250 rows × 2 columns</p>\n",
       "</div>"
      ],
      "text/plain": [
       "            0                                           1\n",
       "84   0.000000                                     num_nan\n",
       "171  0.000008                                wind_dir_nne\n",
       "173  0.000019                                 wind_dir_nw\n",
       "167  0.000024                                wind_dir_ene\n",
       "236  0.000035              vehicle_type_code_4_motorcycle\n",
       "183  0.000062                               wind_dir_west\n",
       "200  0.000069                        lat/long_infered_off\n",
       "16   0.000088                 truck_route_violation_0.001\n",
       "141  0.000089                               dew_point_nan\n",
       "142  0.000089                                humidity_nan\n",
       "143  0.000089                                pressure_nan\n",
       "197  0.000114                     conditions_thunderstorm\n",
       "168  0.000118                                wind_dir_ese\n",
       "14   0.000153                           drag_racing_0.001\n",
       "107  0.000154               congestion/gridlock_0.002_nan\n",
       "153  0.000154                 lights_complaints_0.001_nan\n",
       "154  0.000154                                lat_long_nan\n",
       "155  0.000154                                 lat_lat_nan\n",
       "136  0.000154               truck_route_violation_0.3_nan\n",
       "135  0.000154                         drag_racing_0.3_nan\n",
       "102  0.000154               congestion/gridlock_0.001_nan\n",
       "103  0.000154                  chronic_speeding_0.001_nan\n",
       "104  0.000154                       drag_racing_0.001_nan\n",
       "156  0.000154                               long_long_nan\n",
       "105  0.000154       chronic_stoplight_violation_0.001_nan\n",
       "106  0.000154             truck_route_violation_0.001_nan\n",
       "132  0.000154                    chronic_speeding_0.3_nan\n",
       "149  0.000154                  dist_to_closest_subway_nan\n",
       "108  0.000154                  chronic_speeding_0.002_nan\n",
       "124  0.000154                congestion/gridlock_0.06_nan\n",
       "..        ...                                         ...\n",
       "235  0.010099          vehicle_type_code_4_medium_vehicle\n",
       "219  0.011225                   vehicle_type_code_2_other\n",
       "206  0.012871                 vehicle_type_code_1_bicycle\n",
       "83   0.013173                       num_passenger_vehicle\n",
       "82   0.013430                          num_medium_vehicle\n",
       "88   0.013838                           num_large_vehicle\n",
       "216  0.014045           vehicle_type_code_2_large_vehicle\n",
       "238  0.014243       vehicle_type_code_4_passenger_vehicle\n",
       "221  0.015715  vehicle_type_code_2_small_com_veh(4_tires)\n",
       "218  0.015769              vehicle_type_code_2_motorcycle\n",
       "7    0.016867                     injured_or_killed_-_0.1\n",
       "213  0.018059                 vehicle_type_code_1_unknown\n",
       "100  0.018567                     vehicle_type_code_4_nan\n",
       "226  0.018971          vehicle_type_code_3_medium_vehicle\n",
       "209  0.019608              vehicle_type_code_1_motorcycle\n",
       "229  0.024444       vehicle_type_code_3_passenger_vehicle\n",
       "89   0.024799                              num_motorcycle\n",
       "91   0.025491                                 num_unknown\n",
       "81   0.025986                      all_vehicles_same_type\n",
       "217  0.026700          vehicle_type_code_2_medium_vehicle\n",
       "6    0.027656                    injured_or_killed_-_0.06\n",
       "220  0.030700       vehicle_type_code_2_passenger_vehicle\n",
       "99   0.033885                     vehicle_type_code_3_nan\n",
       "222  0.040148                 vehicle_type_code_2_unknown\n",
       "80   0.048276                                num_vehicles\n",
       "5    0.051274                    injured_or_killed_-_0.03\n",
       "215  0.072829                 vehicle_type_code_2_bicycle\n",
       "86   0.073936                                 num_bicycle\n",
       "98   0.113089                     vehicle_type_code_2_nan\n",
       "4    0.147992                    injured_or_killed_-_0.01\n",
       "\n",
       "[250 rows x 2 columns]"
      ]
     },
     "execution_count": 70,
     "metadata": {},
     "output_type": "execute_result"
    }
   ],
   "source": [
    "foo.sort_values(by=0)"
   ]
  },
  {
   "cell_type": "code",
   "execution_count": null,
   "metadata": {
    "collapsed": true
   },
   "outputs": [],
   "source": []
  },
  {
   "cell_type": "code",
   "execution_count": null,
   "metadata": {
    "collapsed": true
   },
   "outputs": [],
   "source": []
  },
  {
   "cell_type": "code",
   "execution_count": null,
   "metadata": {
    "collapsed": true
   },
   "outputs": [],
   "source": []
  },
  {
   "cell_type": "code",
   "execution_count": null,
   "metadata": {
    "collapsed": true
   },
   "outputs": [],
   "source": []
  },
  {
   "cell_type": "code",
   "execution_count": null,
   "metadata": {
    "collapsed": false
   },
   "outputs": [],
   "source": [
    "Cs=np.logspace(-1,2,num=4)\n",
    "\n",
    "for C in Cs:\n",
    "    print(C)\n",
    "    LogReg = linear_model.LogisticRegression(C=C, random_state=42,)\n",
    "    LogReg.fit(X_train,y_train)\n",
    "    train_scores = LogReg.predict_proba(X_train)\n",
    "    val_scores = LogReg.predict_proba(X_val)\n",
    "    print(roc_auc_score(y_train.ravel(),train_scores[:,1]))\n",
    "    print(roc_auc_score(y_val.ravel(),val_scores[:,1]))"
   ]
  },
  {
   "cell_type": "markdown",
   "metadata": {},
   "source": [
    "v4\n",
    "\n",
    "0.1\n",
    "0.786901737729\n",
    "0.752232659028\n",
    "\n",
    "1.0\n",
    "0.786932842585\n",
    "0.752263367176\n",
    "\n",
    "10.0\n",
    "0.786949748595\n",
    "0.752275386723"
   ]
  },
  {
   "cell_type": "markdown",
   "metadata": {},
   "source": [
    "L2 Pen. v3\n",
    "\n",
    "1e-09\n",
    "0.719774037836\n",
    "0.683741387923\n",
    "1e-08\n",
    "0.777478926041\n",
    "0.684998012177\n",
    "1e-07\n",
    "0.792379790908\n",
    "0.694860639811\n",
    "1e-06\n",
    "0.839750776292\n",
    "0.716520467113\n",
    "1e-05\n",
    "0.869382155834\n",
    "0.711119636555\n",
    "\n",
    "1e-07\n",
    "0.792379790908\n",
    "0.694860639811\n",
    "1.77827941004e-07\n",
    "0.801985957609\n",
    "0.700598244204\n",
    "3.16227766017e-07\n",
    "0.814103988437\n",
    "0.707018482349\n",
    "5.6234132519e-07\n",
    "0.827245528871\n",
    "0.712749584654\n",
    "1e-06\n",
    "0.839750776292\n",
    "0.716520467113\n",
    "1.77827941004e-06\n",
    "0.850506728071\n",
    "0.71781028865\n",
    "3.16227766017e-06\n",
    "0.859005575419\n",
    "0.71692113728\n",
    "5.6234132519e-06\n",
    "0.865181982913\n",
    "0.714469848633\n",
    "1e-05\n",
    "0.869382155834\n",
    "0.711119636555"
   ]
  },
  {
   "cell_type": "markdown",
   "metadata": {
    "collapsed": true
   },
   "source": [
    "L2 Pen. v2\n",
    "\n",
    "1e-05\n",
    "0.825912034386\n",
    "0.630378143338\n",
    "5.99484250319e-06\n",
    "0.820994756631\n",
    "0.632988166979\n",
    "3.5938136638e-06\n",
    "0.81362624577\n",
    "0.63532103997\n",
    "2.15443469003e-06\n",
    "0.803302029781\n",
    "0.636701890666\n",
    "1.29154966501e-06\n",
    "0.790277153192\n",
    "0.63645463728\n",
    "7.74263682681e-07\n",
    "0.775694595274\n",
    "0.634273409764\n",
    "4.64158883361e-07\n",
    "0.761135393807\n",
    "0.630440269308\n",
    "2.78255940221e-07\n",
    "0.748061690646\n",
    "0.625780050399\n",
    "1.6681005372e-07\n",
    "0.737432867259\n",
    "0.621274502453\n",
    "1e-07\n",
    "0.729597498732\n",
    "0.617612201694"
   ]
  },
  {
   "cell_type": "code",
   "execution_count": null,
   "metadata": {
    "collapsed": true
   },
   "outputs": [],
   "source": []
  }
 ],
 "metadata": {
  "anaconda-cloud": {},
  "kernelspec": {
   "display_name": "Python [default]",
   "language": "python",
   "name": "python3"
  },
  "language_info": {
   "codemirror_mode": {
    "name": "ipython",
    "version": 3
   },
   "file_extension": ".py",
   "mimetype": "text/x-python",
   "name": "python",
   "nbconvert_exporter": "python",
   "pygments_lexer": "ipython3",
   "version": "3.5.2"
  }
 },
 "nbformat": 4,
 "nbformat_minor": 0
}
