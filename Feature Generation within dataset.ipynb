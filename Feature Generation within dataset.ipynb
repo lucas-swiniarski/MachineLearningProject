{
 "cells": [
  {
   "cell_type": "code",
   "execution_count": 1,
   "metadata": {
    "collapsed": false
   },
   "outputs": [],
   "source": [
    "import numpy as np\n",
    "import pandas as pd\n",
    "import pickle\n",
    "import os\n",
    "import matplotlib.pyplot as plt\n",
    "%matplotlib inline"
   ]
  },
  {
   "cell_type": "code",
   "execution_count": 2,
   "metadata": {
    "collapsed": true
   },
   "outputs": [],
   "source": [
    "#path = \"../../../Google Drive/Data_science/NYU/Machine Learning/ML Project (Collisions)/\" #Joe\n",
    "path = \"../../../../Google Drive/ML Project (Collisions)/\" # Joyce\n",
    "# path = \"\" # Lucas"
   ]
  },
  {
   "cell_type": "code",
   "execution_count": 3,
   "metadata": {
    "collapsed": false
   },
   "outputs": [],
   "source": [
    "df = pd.read_csv(path + \"NYPD_Motor_Vehicle_Collisions.csv\", parse_dates=[['DATE', 'TIME']], infer_datetime_format=True)"
   ]
  },
  {
   "cell_type": "code",
   "execution_count": 4,
   "metadata": {
    "collapsed": false
   },
   "outputs": [],
   "source": [
    "new_df = pd.DataFrame()"
   ]
  },
  {
   "cell_type": "code",
   "execution_count": 5,
   "metadata": {
    "collapsed": false
   },
   "outputs": [],
   "source": [
    "new_df['day_of_week'] = df['DATE_TIME'].dt.dayofweek\n",
    "new_df['hour_of_day'] = df['DATE_TIME'].dt.hour\n",
    "new_df['year'] = df['DATE_TIME'].dt.year\n",
    "new_df['month'] = df['DATE_TIME'].dt.month\n",
    "new_df['day'] = df['DATE_TIME'].dt.day\n",
    "new_df['time_of_day'] = df['DATE_TIME'].dt.hour*60 + df['DATE_TIME'].dt.minute"
   ]
  },
  {
   "cell_type": "code",
   "execution_count": 6,
   "metadata": {
    "collapsed": false
   },
   "outputs": [],
   "source": [
    "renamed_columns = [x.lower().replace(' ', '_') for x in df.columns.values]\n",
    "    \n",
    "df.columns = renamed_columns"
   ]
  },
  {
   "cell_type": "code",
   "execution_count": 7,
   "metadata": {
    "collapsed": false
   },
   "outputs": [],
   "source": [
    "new_df['num_vehicles'] = df.vehicle_type_code_1.notnull().astype(int)+df.vehicle_type_code_2.notnull().astype(int)\\\n",
    "                +df.vehicle_type_code_3.notnull().astype(int)+df.vehicle_type_code_4.notnull().astype(int)\\\n",
    "                +df.vehicle_type_code_5.notnull().astype(int)\n",
    "        \n",
    "df['num_vehicles'] = df.vehicle_type_code_1.notnull().astype(int)+df.vehicle_type_code_2.notnull().astype(int)\\\n",
    "                +df.vehicle_type_code_3.notnull().astype(int)+df.vehicle_type_code_4.notnull().astype(int)\\\n",
    "                +df.vehicle_type_code_5.notnull().astype(int)"
   ]
  },
  {
   "cell_type": "code",
   "execution_count": 8,
   "metadata": {
    "collapsed": true
   },
   "outputs": [],
   "source": [
    "remap_vehicle = {'TAXI': 'SMALL COM VEH(4 TIRES)',\n",
    "                'BUS': 'LARGE VEHICLE',\n",
    "                'SCOOTER': 'MOTORCYCLE',\n",
    "                'LIVERY VEHICLE': 'SMALL COM VEH(4 TIRES)',\n",
    "                'VAN': 'MEDIUM VEHICLE',\n",
    "                'PEDICAB': 'BICYCLE',\n",
    "                'PICK-UP TRUCK': 'MEDIUM VEHICLE',\n",
    "                'SPORT UTILITY / STATION WAGON': 'MEDIUM VEHICLE',\n",
    "                'LARGE COM VEH(6 OR MORE TIRES)': 'LARGE VEHICLE',\n",
    "                'FIRE TRUCK': 'LARGE VEHICLE',\n",
    "                }"
   ]
  },
  {
   "cell_type": "code",
   "execution_count": 9,
   "metadata": {
    "collapsed": false
   },
   "outputs": [],
   "source": [
    "for column in ['vehicle_type_code_1', 'vehicle_type_code_2',\n",
    "       'vehicle_type_code_3', 'vehicle_type_code_4', 'vehicle_type_code_5']:\n",
    "    new_df[column] = df[column].replace(remap_vehicle)"
   ]
  },
  {
   "cell_type": "code",
   "execution_count": 10,
   "metadata": {
    "collapsed": false
   },
   "outputs": [
    {
     "data": {
      "text/plain": [
       "array(['MEDIUM VEHICLE', 'PASSENGER VEHICLE', nan,\n",
       "       'SMALL COM VEH(4 TIRES)', 'BICYCLE', 'OTHER', 'LARGE VEHICLE',\n",
       "       'MOTORCYCLE', 'AMBULANCE', 'UNKNOWN'], dtype=object)"
      ]
     },
     "execution_count": 10,
     "metadata": {},
     "output_type": "execute_result"
    }
   ],
   "source": [
    "new_df['vehicle_type_code_1'].unique()"
   ]
  },
  {
   "cell_type": "code",
   "execution_count": 11,
   "metadata": {
    "collapsed": true
   },
   "outputs": [],
   "source": [
    "def all_same(vehlist, num_vehicles):\n",
    "    if num_vehicles < 2:\n",
    "        return False\n",
    "    else:\n",
    "        return all(x == vehlist[0] for x in vehlist[:num_vehicles])"
   ]
  },
  {
   "cell_type": "code",
   "execution_count": 12,
   "metadata": {
    "collapsed": false
   },
   "outputs": [],
   "source": [
    "new_df['all_vehicles_same_type'] = new_df.apply(lambda row: all_same([row['vehicle_type_code_1'],\\\n",
    "                                                              row['vehicle_type_code_2'],\\\n",
    "                                                              row['vehicle_type_code_3'],\\\n",
    "                                                              row['vehicle_type_code_4'],\\\n",
    "                                                              row['vehicle_type_code_5']], row['num_vehicles']), axis=1)"
   ]
  },
  {
   "cell_type": "code",
   "execution_count": 13,
   "metadata": {
    "collapsed": false
   },
   "outputs": [],
   "source": [
    "for column in new_df.vehicle_type_code_1.unique():\n",
    "    \n",
    "    col1 = (new_df['vehicle_type_code_1'] == column).astype(int)\n",
    "    col2 = (new_df['vehicle_type_code_2'] == column).astype(int)\n",
    "    col3 = (new_df['vehicle_type_code_3'] == column).astype(int)\n",
    "    col4 = (new_df['vehicle_type_code_4'] == column).astype(int)\n",
    "    col5 = (new_df['vehicle_type_code_5'] == column).astype(int)\n",
    "    \n",
    "    new_df['num '+str(column)] = col1+col2+col3+col4+col5"
   ]
  },
  {
   "cell_type": "code",
   "execution_count": 14,
   "metadata": {
    "collapsed": false
   },
   "outputs": [],
   "source": [
    "new_df['injured'] = (df.number_of_persons_injured+df.number_of_pedestrians_injured+\\\n",
    "                df.number_of_cyclist_injured+df.number_of_motorist_injured)>0\n",
    "new_df['killed'] = (df.number_of_persons_killed+df.number_of_pedestrians_killed+\\\n",
    "                df.number_of_cyclist_killed+df.number_of_motorist_killed)>0\n",
    "new_df['injured_or_killed'] = new_df.injured | new_df.killed"
   ]
  },
  {
   "cell_type": "code",
   "execution_count": 15,
   "metadata": {
    "collapsed": false
   },
   "outputs": [],
   "source": [
    "renamed_columns = [x.lower().replace(' ', '_') for x in new_df.columns.values]\n",
    "    \n",
    "new_df.columns = renamed_columns"
   ]
  },
  {
   "cell_type": "code",
   "execution_count": 16,
   "metadata": {
    "collapsed": false
   },
   "outputs": [
    {
     "name": "stdout",
     "output_type": "stream",
     "text": [
      "Num bicycles > 0: 78.19 percent, 25423 counts\n"
     ]
    }
   ],
   "source": [
    "total = np.sum((new_df['num_bicycle'] > 0))\n",
    "percent = np.sum((new_df['num_bicycle'] > 0) & (new_df.injured_or_killed > 0))/total\n",
    "\n",
    "print (\"Num bicycles > 0: %.2f percent, %s counts\" % (percent*100, total))"
   ]
  },
  {
   "cell_type": "code",
   "execution_count": 17,
   "metadata": {
    "collapsed": false
   },
   "outputs": [
    {
     "name": "stdout",
     "output_type": "stream",
     "text": [
      "Num vehicles = 1: 45.43 percent, 130334 counts\n"
     ]
    }
   ],
   "source": [
    "total = np.sum((new_df['num_vehicles'] == 1) & (new_df['num_bicycle'] == 0))\n",
    "percent = np.sum((new_df['num_vehicles'] == 1) & (new_df.injured_or_killed > 0) & (new_df['num_bicycle'] == 0))/total\n",
    "\n",
    "print (\"Num vehicles = 1: %.2f percent, %s counts\" % (percent*100, total))\n"
   ]
  },
  {
   "cell_type": "code",
   "execution_count": 18,
   "metadata": {
    "collapsed": false
   },
   "outputs": [
    {
     "name": "stdout",
     "output_type": "stream",
     "text": [
      "Num vehicles = 0: 28.31 percent, 5006 counts\n"
     ]
    }
   ],
   "source": [
    "total = np.sum((new_df['num_vehicles'] == 0))\n",
    "percent = np.sum((new_df['num_vehicles'] == 0) & (new_df.injured_or_killed > 0))/total\n",
    "\n",
    "print (\"Num vehicles = 0: %.2f percent, %s counts\" % (percent*100, total))"
   ]
  },
  {
   "cell_type": "code",
   "execution_count": 19,
   "metadata": {
    "collapsed": false
   },
   "outputs": [
    {
     "name": "stdout",
     "output_type": "stream",
     "text": [
      "Num vehicles > 1: 12.72 percent, 833736 counts\n"
     ]
    }
   ],
   "source": [
    "total = np.sum((new_df['num_vehicles'] > 1) & (new_df['num_bicycle'] == 0))\n",
    "percent = np.sum((new_df['num_vehicles'] > 1) & (new_df.injured_or_killed > 0) & (new_df['num_bicycle'] == 0))/total\n",
    "\n",
    "print (\"Num vehicles > 1: %.2f percent, %s counts\" % (percent*100, total))"
   ]
  },
  {
   "cell_type": "code",
   "execution_count": 20,
   "metadata": {
    "collapsed": false
   },
   "outputs": [],
   "source": [
    "new_df['UNIQUE KEY'] = df['unique_key']\n",
    "new_df.set_index('UNIQUE KEY', inplace=True)"
   ]
  },
  {
   "cell_type": "code",
   "execution_count": 21,
   "metadata": {
    "collapsed": false
   },
   "outputs": [],
   "source": [
    "new_df = new_df.drop(['vehicle_type_code_1', 'vehicle_type_code_2', 'vehicle_type_code_3', \n",
    "        'vehicle_type_code_4', 'vehicle_type_code_5'], axis=1)"
   ]
  },
  {
   "cell_type": "code",
   "execution_count": 22,
   "metadata": {
    "collapsed": true
   },
   "outputs": [],
   "source": [
    "with open(path+\"data_for_joining/self.pkl\", 'wb') as outfile:\n",
    "    pickle.dump(new_df, outfile)"
   ]
  },
  {
   "cell_type": "code",
   "execution_count": null,
   "metadata": {
    "collapsed": true
   },
   "outputs": [],
   "source": []
  }
 ],
 "metadata": {
  "anaconda-cloud": {},
  "kernelspec": {
   "display_name": "Python [py35]",
   "language": "python",
   "name": "Python [py35]"
  },
  "language_info": {
   "codemirror_mode": {
    "name": "ipython",
    "version": 3
   },
   "file_extension": ".py",
   "mimetype": "text/x-python",
   "name": "python",
   "nbconvert_exporter": "python",
   "pygments_lexer": "ipython3",
   "version": "3.5.2"
  }
 },
 "nbformat": 4,
 "nbformat_minor": 0
}
