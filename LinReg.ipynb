{
 "cells": [
  {
   "cell_type": "code",
   "execution_count": 1,
   "metadata": {
    "collapsed": false
   },
   "outputs": [
    {
     "name": "stderr",
     "output_type": "stream",
     "text": [
      "/Users/Joe/anaconda2/envs/py35/lib/python3.5/site-packages/sklearn/utils/fixes.py:64: DeprecationWarning: inspect.getargspec() is deprecated, use inspect.signature() instead\n",
      "  if 'order' in inspect.getargspec(np.copy)[0]:\n"
     ]
    }
   ],
   "source": [
    "import pandas as pd\n",
    "import numpy as np\n",
    "import pickle as pkl\n",
    "import datetime\n",
    "from sklearn import preprocessing\n",
    "from sklearn import linear_model\n",
    "from sklearn.metrics import roc_auc_score\n",
    "% matplotlib inline"
   ]
  },
  {
   "cell_type": "code",
   "execution_count": 2,
   "metadata": {
    "collapsed": true
   },
   "outputs": [],
   "source": [
    "path = \"../../../Google Drive/Data_science/NYU/Machine Learning/ML Project (Collisions)/\" #Joe\n",
    "#path = \"../../../../Google Drive/ML Project (Collisions)/\" # Joyce\n",
    "# path = \"\" # Lucas"
   ]
  },
  {
   "cell_type": "code",
   "execution_count": 3,
   "metadata": {
    "collapsed": true
   },
   "outputs": [],
   "source": [
    "train_X = pkl.load(open(path+'normalized_1hot/train_X.pkl','rb'))\n",
    "train_y = pkl.load(open(path+'normalized_1hot/train_y.pkl','rb'))\n",
    "val_X = pkl.load(open(path+'normalized_1hot/val_X.pkl','rb'))\n",
    "val_y = pkl.load(open(path+'normalized_1hot/val_y.pkl','rb'))\n",
    "#test_X = pkl.load(open(path+'normalized_1hot/test_X.pkl','rb'))\n",
    "#test_y = pkl.load(open(path+'normalized_1hot/test_y.pkl','rb'))"
   ]
  },
  {
   "cell_type": "markdown",
   "metadata": {},
   "source": [
    "## LinReg"
   ]
  },
  {
   "cell_type": "code",
   "execution_count": 6,
   "metadata": {
    "collapsed": false
   },
   "outputs": [],
   "source": [
    "LinReg = linear_model.RidgeClassifier(alpha=1)"
   ]
  },
  {
   "cell_type": "code",
   "execution_count": 7,
   "metadata": {
    "collapsed": false
   },
   "outputs": [
    {
     "name": "stderr",
     "output_type": "stream",
     "text": [
      "/Users/Joe/anaconda2/envs/py35/lib/python3.5/site-packages/sklearn/base.py:175: DeprecationWarning: inspect.getargspec() is deprecated, use inspect.signature() instead\n",
      "  args, varargs, kw, default = inspect.getargspec(init)\n"
     ]
    },
    {
     "data": {
      "text/plain": [
       "RidgeClassifier(alpha=1, class_weight=None, copy_X=True, fit_intercept=True,\n",
       "        max_iter=None, normalize=False, solver='auto', tol=0.001)"
      ]
     },
     "execution_count": 7,
     "metadata": {},
     "output_type": "execute_result"
    }
   ],
   "source": [
    "LinReg.fit(train_X,train_y)"
   ]
  },
  {
   "cell_type": "code",
   "execution_count": 9,
   "metadata": {
    "collapsed": false
   },
   "outputs": [],
   "source": [
    "train_scores = LinReg.decision_function(train_X)\n",
    "val_scores = LinReg.decision_function(val_X)"
   ]
  },
  {
   "cell_type": "code",
   "execution_count": 11,
   "metadata": {
    "collapsed": false
   },
   "outputs": [
    {
     "name": "stdout",
     "output_type": "stream",
     "text": [
      "0.795572235858\n",
      "0.762962444037\n"
     ]
    }
   ],
   "source": [
    "print(roc_auc_score(train_y,train_scores))\n",
    "print(roc_auc_score(val_y,val_scores))"
   ]
  },
  {
   "cell_type": "code",
   "execution_count": 12,
   "metadata": {
    "collapsed": false
   },
   "outputs": [
    {
     "name": "stdout",
     "output_type": "stream",
     "text": [
      "0.001\n",
      "0.795572074953\n",
      "0.762962424901\n",
      "0.01\n",
      "0.795572076909\n",
      "0.762962431726\n",
      "0.1\n",
      "0.795572093529\n",
      "0.762962459292\n",
      "1\n",
      "0.795572235858\n",
      "0.762962444037\n",
      "10.0\n",
      "0.795573638219\n",
      "0.762962348761\n",
      "100.0\n",
      "0.795585189525\n",
      "0.762959012107\n",
      "1000.0\n",
      "0.795612449055\n",
      "0.762909634034\n"
     ]
    }
   ],
   "source": [
    "alphas = [1e-3,1e-2,1e-1,1,1e1,1e2,1e3]\n",
    "\n",
    "for alpha in alphas:\n",
    "    print(alpha)\n",
    "    LinReg = linear_model.RidgeClassifier(alpha=alpha)\n",
    "    LinReg.fit(train_X,train_y)\n",
    "    train_scores = LinReg.decision_function(train_X)\n",
    "    val_scores = LinReg.decision_function(val_X)\n",
    "    print(roc_auc_score(train_y,train_scores))\n",
    "    print(roc_auc_score(val_y,val_scores))"
   ]
  }
 ],
 "metadata": {
  "kernelspec": {
   "display_name": "Python 3",
   "language": "python",
   "name": "python3"
  },
  "language_info": {
   "codemirror_mode": {
    "name": "ipython",
    "version": 3
   },
   "file_extension": ".py",
   "mimetype": "text/x-python",
   "name": "python",
   "nbconvert_exporter": "python",
   "pygments_lexer": "ipython3",
   "version": "3.5.2"
  }
 },
 "nbformat": 4,
 "nbformat_minor": 0
}
