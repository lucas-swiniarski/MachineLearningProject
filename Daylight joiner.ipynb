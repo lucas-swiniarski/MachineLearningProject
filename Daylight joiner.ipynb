{
 "cells": [
  {
   "cell_type": "code",
   "execution_count": 1,
   "metadata": {
    "collapsed": true
   },
   "outputs": [],
   "source": [
    "import numpy as np\n",
    "import pandas as pd\n",
    "import pickle\n",
    "import time\n",
    "import datetime\n",
    "import sqlite3"
   ]
  },
  {
   "cell_type": "code",
   "execution_count": 2,
   "metadata": {
    "collapsed": true
   },
   "outputs": [],
   "source": [
    "#path = \"../../../Google Drive/Data_science/NYU/Machine Learning/ML Project (Collisions)/\" #Joe\n",
    "path = \"../../../../Google Drive/ML Project (Collisions)/\" # Joyce\n",
    "# path = \"\" # Lucas"
   ]
  },
  {
   "cell_type": "code",
   "execution_count": 3,
   "metadata": {
    "collapsed": false
   },
   "outputs": [],
   "source": [
    "df = pd.read_csv(path + \"NYPD_Motor_Vehicle_Collisions.csv\", parse_dates=[['DATE', 'TIME']], infer_datetime_format=True)"
   ]
  },
  {
   "cell_type": "markdown",
   "metadata": {},
   "source": [
    "Load df and drop all except unique key and date time / date"
   ]
  },
  {
   "cell_type": "code",
   "execution_count": 4,
   "metadata": {
    "collapsed": true
   },
   "outputs": [],
   "source": [
    "df.set_index(['UNIQUE KEY'], inplace=True)"
   ]
  },
  {
   "cell_type": "code",
   "execution_count": 5,
   "metadata": {
    "collapsed": true
   },
   "outputs": [],
   "source": [
    "df['day'] = df.DATE_TIME.dt.date\n",
    "df.day = df.day.astype('<M8[ns]')"
   ]
  },
  {
   "cell_type": "markdown",
   "metadata": {},
   "source": [
    "# Read in sunset sunrise data"
   ]
  },
  {
   "cell_type": "code",
   "execution_count": 6,
   "metadata": {
    "collapsed": true
   },
   "outputs": [],
   "source": [
    "daylight = pd.read_csv(path + \"sunrise_sunset.csv\")"
   ]
  },
  {
   "cell_type": "code",
   "execution_count": 7,
   "metadata": {
    "collapsed": false
   },
   "outputs": [],
   "source": [
    "daylight.set_index(['Year', 'Day'], inplace=True)\n",
    "daylight = pd.DataFrame(daylight.stack(level = 0)).reset_index()"
   ]
  },
  {
   "cell_type": "markdown",
   "metadata": {},
   "source": [
    "Clean data to be in a better format"
   ]
  },
  {
   "cell_type": "code",
   "execution_count": 8,
   "metadata": {
    "collapsed": false
   },
   "outputs": [],
   "source": [
    "daylight['month'] = [i.strip('()').split(', ')[0] for i in daylight.level_2]\n",
    "daylight['rise_set'] = [i.strip('()').split(', ')[1] for i in daylight.level_2]\n",
    "daylight.rename(columns={0: 'value'}, inplace= True)"
   ]
  },
  {
   "cell_type": "code",
   "execution_count": 9,
   "metadata": {
    "collapsed": false
   },
   "outputs": [],
   "source": [
    "final = daylight[daylight.rise_set == 'Rise'].reset_index()"
   ]
  },
  {
   "cell_type": "code",
   "execution_count": 10,
   "metadata": {
    "collapsed": false
   },
   "outputs": [],
   "source": [
    "final['Set Time'] = daylight[daylight.rise_set == 'Set']['value'].values\n",
    "final['Rise Time'] = [int(x) for x in final.value]\n",
    "final['Set Time'] = [int(x) for x in final['Set Time']]\n",
    "final = final.loc[:,['Year', 'Day', 'month', 'Rise Time', 'Set Time']]"
   ]
  },
  {
   "cell_type": "markdown",
   "metadata": {},
   "source": [
    "Change month string to number"
   ]
  },
  {
   "cell_type": "code",
   "execution_count": 11,
   "metadata": {
    "collapsed": false
   },
   "outputs": [],
   "source": [
    "month_mapper = dict(January=1, February=2, March=3, April=4, May=5, June=6, July=7, August=8, September=9,\\\n",
    "                   October=10, November=11, December=12)\n",
    "final['month'] = final['month'].map(month_mapper)"
   ]
  },
  {
   "cell_type": "markdown",
   "metadata": {},
   "source": [
    "Remove invalid dates"
   ]
  },
  {
   "cell_type": "code",
   "execution_count": 12,
   "metadata": {
    "collapsed": false
   },
   "outputs": [],
   "source": [
    "final['day'] = pd.to_datetime(final.loc[:,['Year', 'Day', 'month']], errors='coerce')\n",
    "final['day_str'] = final['day'].astype(str)\n",
    "final = final[final['day_str'] != 'NaT']"
   ]
  },
  {
   "cell_type": "code",
   "execution_count": 13,
   "metadata": {
    "collapsed": false
   },
   "outputs": [],
   "source": [
    "rise = final.copy()\n",
    "rise['Hour'] = np.floor(rise['Rise Time'] / 100).astype(int)\n",
    "rise['Minute'] = rise['Rise Time'] % 100\n",
    "rise = rise.loc[:, ['Year', 'Day', 'month', 'Hour', 'Minute']]\n",
    "\n",
    "sunset = final.copy()\n",
    "sunset['Hour'] = np.floor(sunset['Set Time'] / 100).astype(int)\n",
    "sunset['Minute'] = sunset['Set Time'] % 100\n",
    "sunset = sunset.loc[:, ['Year', 'Day', 'month', 'Hour', 'Minute']]"
   ]
  },
  {
   "cell_type": "code",
   "execution_count": 14,
   "metadata": {
    "collapsed": false
   },
   "outputs": [],
   "source": [
    "final['rise_time'] = pd.to_datetime(rise)\n",
    "final['set_time'] = pd.to_datetime(sunset)\n",
    "final = final.loc[:, ['day', 'rise_time', 'set_time']]"
   ]
  },
  {
   "cell_type": "code",
   "execution_count": 15,
   "metadata": {
    "collapsed": false
   },
   "outputs": [],
   "source": [
    "final.set_index('day', inplace=True)"
   ]
  },
  {
   "cell_type": "code",
   "execution_count": 16,
   "metadata": {
    "collapsed": false
   },
   "outputs": [],
   "source": [
    "df = df.loc[:, ['DATE_TIME', 'day']]"
   ]
  },
  {
   "cell_type": "code",
   "execution_count": 17,
   "metadata": {
    "collapsed": false
   },
   "outputs": [],
   "source": [
    "df = df.join(final, on='day', how='left')"
   ]
  },
  {
   "cell_type": "code",
   "execution_count": 23,
   "metadata": {
    "collapsed": false
   },
   "outputs": [],
   "source": [
    "sun = []\n",
    "\n",
    "for idx, row in df.iterrows():\n",
    "    sun.append((row.DATE_TIME > row.rise_time) & (row.DATE_TIME <= row.set_time))\n",
    "\n",
    "df['sun_out'] = sun"
   ]
  },
  {
   "cell_type": "code",
   "execution_count": 25,
   "metadata": {
    "collapsed": false
   },
   "outputs": [],
   "source": [
    "df = df.loc[:,['rise_time', 'set_time', 'sun_out']]"
   ]
  },
  {
   "cell_type": "code",
   "execution_count": 27,
   "metadata": {
    "collapsed": false
   },
   "outputs": [],
   "source": [
    "with open('daylight_joined.pkl', 'wb') as output:\n",
    "    pickle.dump(df, output, pickle.HIGHEST_PROTOCOL)"
   ]
  },
  {
   "cell_type": "code",
   "execution_count": null,
   "metadata": {
    "collapsed": true
   },
   "outputs": [],
   "source": []
  }
 ],
 "metadata": {
  "anaconda-cloud": {},
  "kernelspec": {
   "display_name": "Python [py27]",
   "language": "python",
   "name": "Python [py27]"
  },
  "language_info": {
   "codemirror_mode": {
    "name": "ipython",
    "version": 2
   },
   "file_extension": ".py",
   "mimetype": "text/x-python",
   "name": "python",
   "nbconvert_exporter": "python",
   "pygments_lexer": "ipython2",
   "version": "2.7.12"
  }
 },
 "nbformat": 4,
 "nbformat_minor": 0
}
